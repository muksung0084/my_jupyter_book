{
 "cells": [
  {
   "cell_type": "markdown",
   "id": "7e210433-3187-42d4-a2e2-0bc7147c4ac3",
   "metadata": {},
   "source": [
    "## Numpy basic _ tips"
   ]
  },
  {
   "cell_type": "markdown",
   "id": "763c673a-9aa6-415e-864f-1a3d2f3b4969",
   "metadata": {},
   "source": []
  },
  {
   "cell_type": "code",
   "execution_count": 2,
   "id": "ccc76c04-d35c-459f-aef5-3bb17f6919eb",
   "metadata": {},
   "outputs": [],
   "source": [
    "import numpy as np\n",
    "import pandas as pd"
   ]
  },
  {
   "cell_type": "raw",
   "id": "fe7c87e8-0a82-4304-8152-82597ca51f2a",
   "metadata": {},
   "source": [
    "다차원 배열을 쉽게 처리하고 효율적으로 사용할 수 있도록지원하는 파이썬의 패키지로 \n",
    "\n",
    "데이터 구조 외에도 수치 계산을 위해 효율적으로 구현된 기능을 제공\n",
    "\n",
    "                                                                                                                < https://brownbears.tistory.com/480 >\n",
    "                                                                                                                \n",
    "\n",
    "파이썬의 리스트는 데이터 주소값을 저장합니다. 그리고 데이터를 가져 올때는 해당 주소에 가서 데이터를 가져옴.\n",
    "\n",
    "하지만 Numpy Array는 C 배열과 유사하여 연속된 주소를 가지고 있음 --> 배열에 담긴 데이터를 가져온다면 순서대로 가져오면 되기 때문에 메모리를 효율적으로 사용.\n",
    "\n",
    "                                                                                                                < https://firework-ham.tistory.com/31 > "
   ]
  },
  {
   "cell_type": "raw",
   "id": "5d15b916-3bde-4633-91da-ae4164a49bb1",
   "metadata": {},
   "source": [
    "<img src=\"0.numpy_array_concept.JPG\" alt=\"drawing\" width=\"500\" />"
   ]
  },
  {
   "cell_type": "markdown",
   "id": "7e513553-1133-4209-96e2-7072958dba45",
   "metadata": {},
   "source": [
    "#### numpy 무작위 추출 _ choice "
   ]
  },
  {
   "cell_type": "markdown",
   "id": "16897ba6-516a-4cc2-95cb-9f458b7ad7eb",
   "metadata": {},
   "source": [
    "* 숫자가 존재하는 list에서 몇개씩(크기)무작위 추출\n",
    "\n",
    "np.random.choice(리스트명,크기)\n",
    "\n",
    "* 리스트1에서 무작위로 3개의 sample을 뽑을것인데, 각각이 뽑힐 확률을 prob를 따르겠다.\n",
    "\n",
    "np.random.choice(리스트명,크기,p=??)  # p값에 확률을 지정할 수 있음 "
   ]
  },
  {
   "cell_type": "code",
   "execution_count": 3,
   "id": "5ebe9de4-8fbe-4a21-aba8-74ee2f960e5f",
   "metadata": {},
   "outputs": [
    {
     "data": {
      "text/plain": [
       "array([2, 1, 4])"
      ]
     },
     "execution_count": 3,
     "metadata": {},
     "output_type": "execute_result"
    }
   ],
   "source": [
    "list1=[1,2,3,4,5,6]\n",
    "prob = [1/6,1/6,1/6,1/6,1/6,1/6] \n",
    "np.random.choice(list1,3,p=prob, replace=False)  ## 보통 replace를 건드리지 않지만, default는 True로 복원 추출, False의 경우는 비복원 추출로 한번 시행할때, 뽑힌것은 일단 배제하고 다음 것을 뽑는다."
   ]
  },
  {
   "cell_type": "raw",
   "id": "30afb80f-1213-4088-987d-9f3e86cbe89e",
   "metadata": {},
   "source": []
  },
  {
   "cell_type": "markdown",
   "id": "f1fd45eb-0843-49ed-89f9-69071b4ee7a4",
   "metadata": {},
   "source": [
    "#### numpy 난수로 array 형성 "
   ]
  },
  {
   "cell_type": "code",
   "execution_count": 4,
   "id": "f5ad24f7-1033-49d8-8fcf-1a69b0ead67c",
   "metadata": {},
   "outputs": [
    {
     "data": {
      "text/plain": [
       "array([[0.05883125, 0.10910574, 0.80219088],\n",
       "       [0.62062839, 0.32927213, 0.49599276],\n",
       "       [0.31572383, 0.69866739, 0.1934804 ]])"
      ]
     },
     "execution_count": 4,
     "metadata": {},
     "output_type": "execute_result"
    }
   ],
   "source": [
    "# 0에서 1사이의 값 중에서 난수 생성. \n",
    "# 0~1 사이의 숫자로 3 by 3 array 생성 \n",
    "np.random.rand(3,3)    "
   ]
  },
  {
   "cell_type": "raw",
   "id": "6bb51ad1-59a9-4532-966e-d3c1f12d21a1",
   "metadata": {},
   "source": []
  },
  {
   "cell_type": "markdown",
   "id": "d88a8863-1495-481d-a959-40fd5c39252f",
   "metadata": {},
   "source": [
    "#### numpy _ 정규분포"
   ]
  },
  {
   "cell_type": "code",
   "execution_count": 5,
   "id": "a27bc629-9b9d-4e2f-bbc4-6982ab436959",
   "metadata": {},
   "outputs": [
    {
     "data": {
      "text/plain": [
       "array([[ 0.3788141 ,  2.00119906],\n",
       "       [ 0.77815122,  2.2918404 ],\n",
       "       [-0.91964995,  1.88485368]])"
      ]
     },
     "execution_count": 5,
     "metadata": {},
     "output_type": "execute_result"
    }
   ],
   "source": [
    "# 표준 정규분포에서 무작위 숫자 추출  // [0, 1) 범위에서 균일한 분포\n",
    "np.random.randn(3,2)   # 3 by 2 matrix"
   ]
  },
  {
   "cell_type": "code",
   "execution_count": 6,
   "id": "faa96db1-2e68-4e1e-9d74-b84779bdb7a7",
   "metadata": {},
   "outputs": [
    {
     "name": "stdout",
     "output_type": "stream",
     "text": [
      "[ 2.04683083  0.75465326  0.03066454  1.9809235  -0.48535755]\n"
     ]
    }
   ],
   "source": [
    "# 표준정규분포 N(1, 0)이 아닌, 평균 μ, 표준편차 σ 를 갖는 정규분포 N(μ, σ2)의 난수를 생성\n",
    "#σ * np.random.randn(…) + μ 와 같은 형태로 사용할 수 있습니다.\n",
    "sigma, mu = 1.5, 2.0\n",
    "c = sigma * np.random.randn(5) + mu\n",
    "print(c)"
   ]
  },
  {
   "cell_type": "code",
   "execution_count": null,
   "id": "a55e06c5-12f8-4195-b6f8-92680e2fe1be",
   "metadata": {},
   "outputs": [],
   "source": []
  },
  {
   "cell_type": "markdown",
   "id": "00864fee-298b-463d-9478-cec8f9f4b085",
   "metadata": {},
   "source": [
    "#### numpy _ random randint, normal"
   ]
  },
  {
   "cell_type": "code",
   "execution_count": 7,
   "id": "e2ca7023-668a-4c54-ab53-451f57a686e3",
   "metadata": {},
   "outputs": [],
   "source": [
    "# random.randint() 함수는 [최소값, 최대값)의 범위에서 임의의 정수\n",
    "np.random.randint(2, size=5) # 는 [0, 2) 범위에서 다섯개의 임의의 정수를 생성.\n",
    "np.random.randint(2, 4, size=5) # 는 [2, 4) 범위에서 다섯개의 임의의 정수를 생성합.\n",
    "np.random.randint(1, 5, size=(2, 3)) # 는 [1, 5) 범위에서 (2, 3) 형태의 어레이를 생성합.\n",
    "\n",
    "# random.normal() 함수는 정규 분포 (Normal distribution)로부터 샘플링된 난수를 반환\n",
    "a = np.random.normal(0, 1, 2) # 어레이 a는 정규 분포 N(0,1)로부터 얻은 임의의 숫자 2개,\n",
    "b = np.random.normal(1.5, 1.5, 4) # 어레이 b는 정규 분포 N(1.5,1.52)로부터 얻은 임의의 숫자 4개,\n",
    "c = np.random.normal(3.0, 2.0, (2, 3)) # 어레이 c는 정규 분포 N(3.0,2.02)로부터 얻은 (2, 3) 형태의 임의의 숫자 어레이.           "
   ]
  },
  {
   "cell_type": "code",
   "execution_count": 24,
   "id": "c9728df0-ecbc-434f-bf36-034fb5169fed",
   "metadata": {},
   "outputs": [
    {
     "name": "stdout",
     "output_type": "stream",
     "text": [
      "[0.10083797 2.11860567]\n",
      "[0.53259917 2.04129711 2.65236731 0.40806498]\n",
      "[[0.38188509 6.1195246  5.08644936]\n",
      " [4.52018516 4.04262745 1.67071739]]\n"
     ]
    }
   ],
   "source": [
    "print(a)\n",
    "print(b)\n",
    "print(c)"
   ]
  },
  {
   "cell_type": "code",
   "execution_count": 9,
   "id": "6efbaf66-1628-4bdd-8baf-bdbc3fa2e18b",
   "metadata": {},
   "outputs": [
    {
     "name": "stdout",
     "output_type": "stream",
     "text": [
      "0    5\n",
      "1    1\n",
      "2    2\n",
      "dtype: int32\n"
     ]
    }
   ],
   "source": [
    "s = pd.Series(np.random.randint(0,7 , size =3))  # 0~7사이의 정수 생성, index는 10개\n",
    "print(s)"
   ]
  },
  {
   "cell_type": "raw",
   "id": "bd7bc303-392a-4955-bddb-24d540617e59",
   "metadata": {},
   "source": []
  },
  {
   "cell_type": "markdown",
   "id": "b8b33381-9bc4-43a7-a25e-3768b29115e7",
   "metadata": {},
   "source": [
    "#### numpy random과 array 매서드로 dataframe"
   ]
  },
  {
   "cell_type": "code",
   "execution_count": 17,
   "id": "4b5e4886-7caa-406f-add1-b037db4878b6",
   "metadata": {},
   "outputs": [
    {
     "data": {
      "text/html": [
       "<div>\n",
       "<style scoped>\n",
       "    .dataframe tbody tr th:only-of-type {\n",
       "        vertical-align: middle;\n",
       "    }\n",
       "\n",
       "    .dataframe tbody tr th {\n",
       "        vertical-align: top;\n",
       "    }\n",
       "\n",
       "    .dataframe thead th {\n",
       "        text-align: right;\n",
       "    }\n",
       "</style>\n",
       "<table border=\"1\" class=\"dataframe\">\n",
       "  <thead>\n",
       "    <tr style=\"text-align: right;\">\n",
       "      <th></th>\n",
       "      <th>0</th>\n",
       "      <th>1</th>\n",
       "      <th>2</th>\n",
       "    </tr>\n",
       "  </thead>\n",
       "  <tbody>\n",
       "    <tr>\n",
       "      <th>0</th>\n",
       "      <td>1</td>\n",
       "      <td>2</td>\n",
       "      <td>3</td>\n",
       "    </tr>\n",
       "    <tr>\n",
       "      <th>1</th>\n",
       "      <td>4</td>\n",
       "      <td>5</td>\n",
       "      <td>6</td>\n",
       "    </tr>\n",
       "  </tbody>\n",
       "</table>\n",
       "</div>"
      ],
      "text/plain": [
       "   0  1  2\n",
       "0  1  2  3\n",
       "1  4  5  6"
      ]
     },
     "metadata": {},
     "output_type": "display_data"
    },
    {
     "data": {
      "text/html": [
       "<div>\n",
       "<style scoped>\n",
       "    .dataframe tbody tr th:only-of-type {\n",
       "        vertical-align: middle;\n",
       "    }\n",
       "\n",
       "    .dataframe tbody tr th {\n",
       "        vertical-align: top;\n",
       "    }\n",
       "\n",
       "    .dataframe thead th {\n",
       "        text-align: right;\n",
       "    }\n",
       "</style>\n",
       "<table border=\"1\" class=\"dataframe\">\n",
       "  <thead>\n",
       "    <tr style=\"text-align: right;\">\n",
       "      <th></th>\n",
       "      <th>type</th>\n",
       "      <th>a</th>\n",
       "    </tr>\n",
       "  </thead>\n",
       "  <tbody>\n",
       "    <tr>\n",
       "      <th>1</th>\n",
       "      <td>k</td>\n",
       "      <td>1.0</td>\n",
       "    </tr>\n",
       "    <tr>\n",
       "      <th>2</th>\n",
       "      <td>y</td>\n",
       "      <td>2.0</td>\n",
       "    </tr>\n",
       "    <tr>\n",
       "      <th>3</th>\n",
       "      <td>k</td>\n",
       "      <td>NaN</td>\n",
       "    </tr>\n",
       "  </tbody>\n",
       "</table>\n",
       "</div>"
      ],
      "text/plain": [
       "  type    a\n",
       "1    k  1.0\n",
       "2    y  2.0\n",
       "3    k  NaN"
      ]
     },
     "metadata": {},
     "output_type": "display_data"
    }
   ],
   "source": [
    "pd.DataFrame( np.random.randn(10,20), columns = ('col %d' % i for i in range(20)) )\n",
    "\n",
    "sample = pd.DataFrame(np.random.randint(1,20,2) for i in range(10))\n",
    "\n",
    "my_2darray = np.array([[1, 2, 3], [4, 5, 6]])\n",
    "display(pd.DataFrame(my_2darray))\n",
    "\n",
    "\n",
    "sample = pd.DataFrame({'type' : ['k','y','k'],\n",
    "                       'a' : [1,2,np.nan]},index=[1,2,3])\n",
    "display(pd.DataFrame(sample))\n"
   ]
  },
  {
   "cell_type": "code",
   "execution_count": 16,
   "id": "765e8b9b-7a55-420a-91b0-cbc55991a4fd",
   "metadata": {
    "tags": []
   },
   "outputs": [
    {
     "data": {
      "text/html": [
       "<div>\n",
       "<style scoped>\n",
       "    .dataframe tbody tr th:only-of-type {\n",
       "        vertical-align: middle;\n",
       "    }\n",
       "\n",
       "    .dataframe tbody tr th {\n",
       "        vertical-align: top;\n",
       "    }\n",
       "\n",
       "    .dataframe thead th {\n",
       "        text-align: right;\n",
       "    }\n",
       "</style>\n",
       "<table border=\"1\" class=\"dataframe\">\n",
       "  <thead>\n",
       "    <tr style=\"text-align: right;\">\n",
       "      <th></th>\n",
       "      <th>A</th>\n",
       "      <th>B</th>\n",
       "      <th>C</th>\n",
       "      <th>D</th>\n",
       "    </tr>\n",
       "  </thead>\n",
       "  <tbody>\n",
       "    <tr>\n",
       "      <th>0</th>\n",
       "      <td>2.065152</td>\n",
       "      <td>-1.360815</td>\n",
       "      <td>-1.308379</td>\n",
       "      <td>0.950800</td>\n",
       "    </tr>\n",
       "    <tr>\n",
       "      <th>1</th>\n",
       "      <td>-2.387672</td>\n",
       "      <td>1.867302</td>\n",
       "      <td>-0.136879</td>\n",
       "      <td>1.003140</td>\n",
       "    </tr>\n",
       "    <tr>\n",
       "      <th>2</th>\n",
       "      <td>0.471534</td>\n",
       "      <td>-0.635785</td>\n",
       "      <td>1.205115</td>\n",
       "      <td>-0.415499</td>\n",
       "    </tr>\n",
       "    <tr>\n",
       "      <th>3</th>\n",
       "      <td>0.437057</td>\n",
       "      <td>-0.214154</td>\n",
       "      <td>1.162567</td>\n",
       "      <td>0.348693</td>\n",
       "    </tr>\n",
       "    <tr>\n",
       "      <th>4</th>\n",
       "      <td>-1.828993</td>\n",
       "      <td>1.152551</td>\n",
       "      <td>-0.546035</td>\n",
       "      <td>-0.950850</td>\n",
       "    </tr>\n",
       "    <tr>\n",
       "      <th>5</th>\n",
       "      <td>0.029409</td>\n",
       "      <td>0.613722</td>\n",
       "      <td>-0.060319</td>\n",
       "      <td>-0.766462</td>\n",
       "    </tr>\n",
       "  </tbody>\n",
       "</table>\n",
       "</div>"
      ],
      "text/plain": [
       "          A         B         C         D\n",
       "0  2.065152 -1.360815 -1.308379  0.950800\n",
       "1 -2.387672  1.867302 -0.136879  1.003140\n",
       "2  0.471534 -0.635785  1.205115 -0.415499\n",
       "3  0.437057 -0.214154  1.162567  0.348693\n",
       "4 -1.828993  1.152551 -0.546035 -0.950850\n",
       "5  0.029409  0.613722 -0.060319 -0.766462"
      ]
     },
     "metadata": {},
     "output_type": "display_data"
    }
   ],
   "source": [
    "# np.random.randn -> 평균 0 , 표준편차 1인 표준정규분포 난수를 matrix array(n,m)으로 생성 \n",
    "df = pd.DataFrame(np.random.randn(6,4), index = [i for i in range(6)] , columns = list('ABCD'))\n",
    "display(df)"
   ]
  },
  {
   "cell_type": "raw",
   "id": "68a08e46-7e4c-4a74-bd03-222b005e7088",
   "metadata": {},
   "source": []
  },
  {
   "cell_type": "markdown",
   "id": "f589453c-96ac-48af-b999-f350a7379c0a",
   "metadata": {},
   "source": [
    "#### np.where을 통한 조건부 정리"
   ]
  },
  {
   "cell_type": "code",
   "execution_count": null,
   "id": "a169e8ad-75bf-45e2-b81d-f74a473c6147",
   "metadata": {},
   "outputs": [],
   "source": [
    "#np.where \n",
    "skimming_data2['group'] = np.where(skimming_data2['skimm'].between(4,6),'4~6',\n",
    "                                  np.where(skimming_data2['skimm'].between(6,10),'7~10', '10~'))\n",
    "# inull로 np where \n",
    "total_data['edge_crack'] = np.where(total_data['HFI 비고'].isnull(),0,1)"
   ]
  },
  {
   "cell_type": "markdown",
   "id": "c96999dc-215a-4507-8e68-879456e7c3f4",
   "metadata": {},
   "source": []
  },
  {
   "cell_type": "markdown",
   "id": "f7af9594-2357-49fb-92ed-6363eca4864e",
   "metadata": {},
   "source": [
    "https://codetorial.net/numpy/random.html"
   ]
  }
 ],
 "metadata": {
  "kernelspec": {
   "display_name": "Python 3 (ipykernel)",
   "language": "python",
   "name": "python3"
  },
  "language_info": {
   "codemirror_mode": {
    "name": "ipython",
    "version": 3
   },
   "file_extension": ".py",
   "mimetype": "text/x-python",
   "name": "python",
   "nbconvert_exporter": "python",
   "pygments_lexer": "ipython3",
   "version": "3.9.12"
  }
 },
 "nbformat": 4,
 "nbformat_minor": 5
}