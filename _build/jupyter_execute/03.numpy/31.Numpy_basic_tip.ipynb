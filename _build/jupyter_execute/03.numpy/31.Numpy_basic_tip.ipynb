{
 "cells": [
  {
   "cell_type": "markdown",
   "id": "7e210433-3187-42d4-a2e2-0bc7147c4ac3",
   "metadata": {},
   "source": [
    "## Numpy basic _ tips"
   ]
  },
  {
   "cell_type": "markdown",
   "id": "763c673a-9aa6-415e-864f-1a3d2f3b4969",
   "metadata": {},
   "source": []
  },
  {
   "cell_type": "code",
   "execution_count": 1,
   "id": "ccc76c04-d35c-459f-aef5-3bb17f6919eb",
   "metadata": {},
   "outputs": [],
   "source": [
    "import numpy as np\n",
    "import pandas as pd"
   ]
  },
  {
   "cell_type": "raw",
   "id": "fe7c87e8-0a82-4304-8152-82597ca51f2a",
   "metadata": {},
   "source": [
    "다차원 배열을 쉽게 처리하고 효율적으로 사용할 수 있도록지원하는 파이썬의 패키지로 \n",
    "\n",
    "데이터 구조 외에도 수치 계산을 위해 효율적으로 구현된 기능을 제공\n",
    "\n",
    "                                                                                                                < https://brownbears.tistory.com/480 >\n",
    "                                                                                                                \n",
    "\n",
    "파이썬의 리스트는 데이터 주소값을 저장합니다. 그리고 데이터를 가져 올때는 해당 주소에 가서 데이터를 가져옴.\n",
    "\n",
    "하지만 Numpy Array는 C 배열과 유사하여 연속된 주소를 가지고 있음 --> 배열에 담긴 데이터를 가져온다면 순서대로 가져오면 되기 때문에 메모리를 효율적으로 사용.\n",
    "\n",
    "                                                                                                                < https://firework-ham.tistory.com/31 > "
   ]
  },
  {
   "cell_type": "raw",
   "id": "5d15b916-3bde-4633-91da-ae4164a49bb1",
   "metadata": {},
   "source": [
    "<img src=\"0.numpy_array_concept.JPG\" alt=\"drawing\" width=\"500\" />"
   ]
  },
  {
   "cell_type": "markdown",
   "id": "254cf298-afe7-477a-b1e9-6638694e7e5c",
   "metadata": {},
   "source": []
  },
  {
   "cell_type": "markdown",
   "id": "7e513553-1133-4209-96e2-7072958dba45",
   "metadata": {},
   "source": [
    "#### numpy 무작위 추출 _ choice "
   ]
  },
  {
   "cell_type": "raw",
   "id": "96d353d8-2739-48f6-8bfa-1d77a25ec9e7",
   "metadata": {},
   "source": [
    "# 숫자가 존재하는 list에서 몇개씩(크기)무작위 추출 \n",
    "np.random.choice(리스트명,크기)\n",
    "\n",
    "# 리스트1에서 무작위로 3개의 sample을 뽑을것인데, 각각이 뽑힐 확률을 prob를 따르겠다.\n",
    "np.random.choice(리스트명,크기,p=??)  # p값에 확률을 지정할 수 있음 "
   ]
  },
  {
   "cell_type": "code",
   "execution_count": 2,
   "id": "5ebe9de4-8fbe-4a21-aba8-74ee2f960e5f",
   "metadata": {},
   "outputs": [
    {
     "data": {
      "text/plain": [
       "array([3, 2, 5])"
      ]
     },
     "execution_count": 2,
     "metadata": {},
     "output_type": "execute_result"
    }
   ],
   "source": [
    "list1=[1,2,3,4,5,6]\n",
    "prob = [1/6,1/6,1/6,1/6,1/6,1/6] \n",
    "np.random.choice(list1,3,p=prob, replace=False)  ## 보통 replace를 건드리지 않지만, default는 True로 복원 추출, False의 경우는 비복원 추출로 한번 시행할때, 뽑힌것은 일단 배제하고 다음 것을 뽑는다."
   ]
  },
  {
   "cell_type": "markdown",
   "id": "e5f0e96d-3cad-4f69-aa68-3faa6c2e5a65",
   "metadata": {},
   "source": []
  },
  {
   "cell_type": "markdown",
   "id": "f1fd45eb-0843-49ed-89f9-69071b4ee7a4",
   "metadata": {},
   "source": [
    "#### numpy 난수로 array 형성 "
   ]
  },
  {
   "cell_type": "code",
   "execution_count": 3,
   "id": "f5ad24f7-1033-49d8-8fcf-1a69b0ead67c",
   "metadata": {},
   "outputs": [
    {
     "data": {
      "text/plain": [
       "array([[0.75655495, 0.54229995, 0.2938064 , 0.34251635, 0.87346346,\n",
       "        0.12448895, 0.38295403, 0.62309372, 0.96557001, 0.9552338 ],\n",
       "       [0.49226343, 0.02306398, 0.6047702 , 0.81711143, 0.50116237,\n",
       "        0.79567899, 0.3776563 , 0.92947751, 0.32051512, 0.16764266],\n",
       "       [0.86424992, 0.29109518, 0.93400834, 0.53939549, 0.54134317,\n",
       "        0.83186477, 0.91360612, 0.05301847, 0.38165256, 0.50949076],\n",
       "       [0.61248237, 0.52767267, 0.0816472 , 0.22515444, 0.93337001,\n",
       "        0.38461556, 0.40993307, 0.10251914, 0.03726004, 0.55284268],\n",
       "       [0.65283898, 0.22797612, 0.32267048, 0.6940634 , 0.0715051 ,\n",
       "        0.39518244, 0.8308637 , 0.03321518, 0.0538431 , 0.50554519],\n",
       "       [0.23475672, 0.96093806, 0.86376456, 0.07713218, 0.5177717 ,\n",
       "        0.53722854, 0.8951199 , 0.72357269, 0.69101556, 0.4260986 ],\n",
       "       [0.50721065, 0.70465191, 0.75237426, 0.62677786, 0.69412689,\n",
       "        0.18661746, 0.6796119 , 0.1924238 , 0.73109063, 0.27648748],\n",
       "       [0.34560875, 0.03269558, 0.4686939 , 0.83032677, 0.71059441,\n",
       "        0.72572347, 0.34277595, 0.31762522, 0.62312771, 0.80985442],\n",
       "       [0.78052442, 0.73713343, 0.8509192 , 0.32816074, 0.14689829,\n",
       "        0.9670559 , 0.70402021, 0.55909498, 0.68117631, 0.77105407],\n",
       "       [0.48401237, 0.91731322, 0.80210496, 0.21411609, 0.5536845 ,\n",
       "        0.20200873, 0.47889   , 0.78370582, 0.91754517, 0.8446763 ]])"
      ]
     },
     "execution_count": 3,
     "metadata": {},
     "output_type": "execute_result"
    }
   ],
   "source": [
    "# 0에서 1사이의 값 중에서 난수 생성. \n",
    "# 0~1 사이의 숫자로 10 by 10 array 생성 \n",
    "np.random.rand(10,10)    "
   ]
  },
  {
   "cell_type": "markdown",
   "id": "f0cf59c4-32df-4499-956b-dca497ea4e3e",
   "metadata": {},
   "source": []
  },
  {
   "cell_type": "markdown",
   "id": "d88a8863-1495-481d-a959-40fd5c39252f",
   "metadata": {},
   "source": [
    "#### numpy _ 정규분포"
   ]
  },
  {
   "cell_type": "code",
   "execution_count": 4,
   "id": "a27bc629-9b9d-4e2f-bbc4-6982ab436959",
   "metadata": {},
   "outputs": [
    {
     "data": {
      "text/plain": [
       "array([[-1.48856603,  1.03303172],\n",
       "       [ 0.40694919, -0.93538376],\n",
       "       [ 0.38811512,  1.9694033 ],\n",
       "       [-2.2394653 , -1.10709295],\n",
       "       [-0.15486786, -1.08636304],\n",
       "       [-0.03321779, -1.0427401 ],\n",
       "       [ 0.96278244, -0.69532324],\n",
       "       [ 0.62783753, -0.30962165],\n",
       "       [-0.37855707, -1.65981281],\n",
       "       [-0.13517128, -0.61759786]])"
      ]
     },
     "execution_count": 4,
     "metadata": {},
     "output_type": "execute_result"
    }
   ],
   "source": [
    "# 표준 정규분포에서 무작위 숫자 추출  // [0, 1) 범위에서 균일한 분포\n",
    "np.random.randn(10,2)"
   ]
  },
  {
   "cell_type": "code",
   "execution_count": 5,
   "id": "faa96db1-2e68-4e1e-9d74-b84779bdb7a7",
   "metadata": {},
   "outputs": [
    {
     "name": "stdout",
     "output_type": "stream",
     "text": [
      "[2.3330984  1.40767875 2.2503513  4.06169681 2.17450277]\n"
     ]
    }
   ],
   "source": [
    "# 표준정규분포 N(1, 0)이 아닌, 평균 μ, 표준편차 σ 를 갖는 정규분포 N(μ, σ2)의 난수를 생성\n",
    "#σ * np.random.randn(…) + μ 와 같은 형태로 사용할 수 있습니다.\n",
    "sigma, mu = 1.5, 2.0\n",
    "c = sigma * np.random.randn(5) + mu\n",
    "print(c)"
   ]
  },
  {
   "cell_type": "markdown",
   "id": "3e69923c-1aac-4223-9e9f-4e8dbeeb8e67",
   "metadata": {},
   "source": []
  },
  {
   "cell_type": "markdown",
   "id": "00864fee-298b-463d-9478-cec8f9f4b085",
   "metadata": {},
   "source": [
    "#### numpy _ random randint, normal"
   ]
  },
  {
   "cell_type": "code",
   "execution_count": 6,
   "id": "e2ca7023-668a-4c54-ab53-451f57a686e3",
   "metadata": {},
   "outputs": [],
   "source": [
    "# random.randint() 함수는 [최소값, 최대값)의 범위에서 임의의 정수\n",
    "np.random.randint(2, size=5) # 는 [0, 2) 범위에서 다섯개의 임의의 정수를 생성.\n",
    "np.random.randint(2, 4, size=5) # 는 [2, 4) 범위에서 다섯개의 임의의 정수를 생성합.\n",
    "np.random.randint(1, 5, size=(2, 3)) # 는 [1, 5) 범위에서 (2, 3) 형태의 어레이를 생성합.\n",
    "\n",
    "# random.normal() 함수는 정규 분포 (Normal distribution)로부터 샘플링된 난수를 반환\n",
    "a = np.random.normal(0, 1, 2) # 어레이 a는 정규 분포 N(0,1)로부터 얻은 임의의 숫자 2개,\n",
    "b = np.random.normal(1.5, 1.5, 4) # 어레이 b는 정규 분포 N(1.5,1.52)로부터 얻은 임의의 숫자 4개,\n",
    "c = np.random.normal(3.0, 2.0, (2, 3)) # 어레이 c는 정규 분포 N(3.0,2.02)로부터 얻은 (2, 3) 형태의 임의의 숫자 어레이.           "
   ]
  },
  {
   "cell_type": "code",
   "execution_count": 7,
   "id": "c9728df0-ecbc-434f-bf36-034fb5169fed",
   "metadata": {},
   "outputs": [
    {
     "name": "stdout",
     "output_type": "stream",
     "text": [
      "[1.42309307 0.21696804]\n",
      "[ 0.98482157  1.74666719 -0.6996845  -0.36358576]\n",
      "[[ 3.40270237  4.42859599  1.56577173]\n",
      " [ 7.32941811 -0.78265778  0.6730633 ]]\n"
     ]
    }
   ],
   "source": [
    "print(a)\n",
    "print(b)\n",
    "print(c)"
   ]
  },
  {
   "cell_type": "markdown",
   "id": "adcf0af2-9d06-4421-b76f-0b99021b83aa",
   "metadata": {},
   "source": []
  },
  {
   "cell_type": "markdown",
   "id": "b8b33381-9bc4-43a7-a25e-3768b29115e7",
   "metadata": {},
   "source": [
    "#### numpy random과 array 매서드로 dataframe"
   ]
  },
  {
   "cell_type": "code",
   "execution_count": 8,
   "id": "4b5e4886-7caa-406f-add1-b037db4878b6",
   "metadata": {},
   "outputs": [
    {
     "data": {
      "text/html": [
       "<div>\n",
       "<style scoped>\n",
       "    .dataframe tbody tr th:only-of-type {\n",
       "        vertical-align: middle;\n",
       "    }\n",
       "\n",
       "    .dataframe tbody tr th {\n",
       "        vertical-align: top;\n",
       "    }\n",
       "\n",
       "    .dataframe thead th {\n",
       "        text-align: right;\n",
       "    }\n",
       "</style>\n",
       "<table border=\"1\" class=\"dataframe\">\n",
       "  <thead>\n",
       "    <tr style=\"text-align: right;\">\n",
       "      <th></th>\n",
       "      <th>0</th>\n",
       "      <th>1</th>\n",
       "      <th>2</th>\n",
       "    </tr>\n",
       "  </thead>\n",
       "  <tbody>\n",
       "    <tr>\n",
       "      <th>0</th>\n",
       "      <td>1</td>\n",
       "      <td>2</td>\n",
       "      <td>3</td>\n",
       "    </tr>\n",
       "    <tr>\n",
       "      <th>1</th>\n",
       "      <td>4</td>\n",
       "      <td>5</td>\n",
       "      <td>6</td>\n",
       "    </tr>\n",
       "  </tbody>\n",
       "</table>\n",
       "</div>"
      ],
      "text/plain": [
       "   0  1  2\n",
       "0  1  2  3\n",
       "1  4  5  6"
      ]
     },
     "metadata": {},
     "output_type": "display_data"
    }
   ],
   "source": [
    "pd.DataFrame( np.random.randn(10,20), columns = ('col %d' % i for i in range(20)) )\n",
    "\n",
    "sample = pd.DataFrame(np.random.randint(1,20,2) for i in range(10))\n",
    "\n",
    "my_2darray = np.array([[1, 2, 3], [4, 5, 6]])\n",
    "display(pd.DataFrame(my_2darray))"
   ]
  },
  {
   "cell_type": "markdown",
   "id": "6c19851e-17ec-4415-970c-9fb2f332799e",
   "metadata": {},
   "source": []
  },
  {
   "cell_type": "markdown",
   "id": "f589453c-96ac-48af-b999-f350a7379c0a",
   "metadata": {},
   "source": [
    "#### np.where을 통한 조건부 정리"
   ]
  },
  {
   "cell_type": "code",
   "execution_count": 9,
   "id": "a169e8ad-75bf-45e2-b81d-f74a473c6147",
   "metadata": {},
   "outputs": [
    {
     "ename": "NameError",
     "evalue": "name 'skimming_data2' is not defined",
     "output_type": "error",
     "traceback": [
      "\u001b[1;31m---------------------------------------------------------------------------\u001b[0m",
      "\u001b[1;31mNameError\u001b[0m                                 Traceback (most recent call last)",
      "Input \u001b[1;32mIn [9]\u001b[0m, in \u001b[0;36m<cell line: 2>\u001b[1;34m()\u001b[0m\n\u001b[0;32m      1\u001b[0m \u001b[38;5;66;03m#np.where \u001b[39;00m\n\u001b[1;32m----> 2\u001b[0m skimming_data2[\u001b[38;5;124m'\u001b[39m\u001b[38;5;124mgroup\u001b[39m\u001b[38;5;124m'\u001b[39m] \u001b[38;5;241m=\u001b[39m np\u001b[38;5;241m.\u001b[39mwhere(\u001b[43mskimming_data2\u001b[49m[\u001b[38;5;124m'\u001b[39m\u001b[38;5;124mskimm\u001b[39m\u001b[38;5;124m'\u001b[39m]\u001b[38;5;241m.\u001b[39mbetween(\u001b[38;5;241m4\u001b[39m,\u001b[38;5;241m6\u001b[39m),\u001b[38;5;124m'\u001b[39m\u001b[38;5;124m4~6\u001b[39m\u001b[38;5;124m'\u001b[39m,\n\u001b[0;32m      3\u001b[0m                                   np\u001b[38;5;241m.\u001b[39mwhere(skimming_data2[\u001b[38;5;124m'\u001b[39m\u001b[38;5;124mskimm\u001b[39m\u001b[38;5;124m'\u001b[39m]\u001b[38;5;241m.\u001b[39mbetween(\u001b[38;5;241m6\u001b[39m,\u001b[38;5;241m10\u001b[39m),\u001b[38;5;124m'\u001b[39m\u001b[38;5;124m7~10\u001b[39m\u001b[38;5;124m'\u001b[39m, \u001b[38;5;124m'\u001b[39m\u001b[38;5;124m10~\u001b[39m\u001b[38;5;124m'\u001b[39m))\n\u001b[0;32m      4\u001b[0m \u001b[38;5;66;03m# inull로 np where \u001b[39;00m\n\u001b[0;32m      5\u001b[0m total_data[\u001b[38;5;124m'\u001b[39m\u001b[38;5;124medge_crack\u001b[39m\u001b[38;5;124m'\u001b[39m] \u001b[38;5;241m=\u001b[39m np\u001b[38;5;241m.\u001b[39mwhere(total_data[\u001b[38;5;124m'\u001b[39m\u001b[38;5;124mHFI 비고\u001b[39m\u001b[38;5;124m'\u001b[39m]\u001b[38;5;241m.\u001b[39misnull(),\u001b[38;5;241m0\u001b[39m,\u001b[38;5;241m1\u001b[39m)\n",
      "\u001b[1;31mNameError\u001b[0m: name 'skimming_data2' is not defined"
     ]
    }
   ],
   "source": [
    "#np.where \n",
    "skimming_data2['group'] = np.where(skimming_data2['skimm'].between(4,6),'4~6',\n",
    "                                  np.where(skimming_data2['skimm'].between(6,10),'7~10', '10~'))\n",
    "# inull로 np where \n",
    "total_data['edge_crack'] = np.where(total_data['HFI 비고'].isnull(),0,1)"
   ]
  },
  {
   "cell_type": "markdown",
   "id": "c96999dc-215a-4507-8e68-879456e7c3f4",
   "metadata": {},
   "source": []
  },
  {
   "cell_type": "markdown",
   "id": "f7af9594-2357-49fb-92ed-6363eca4864e",
   "metadata": {},
   "source": [
    "https://codetorial.net/numpy/random.html"
   ]
  }
 ],
 "metadata": {
  "kernelspec": {
   "display_name": "Python 3 (ipykernel)",
   "language": "python",
   "name": "python3"
  },
  "language_info": {
   "codemirror_mode": {
    "name": "ipython",
    "version": 3
   },
   "file_extension": ".py",
   "mimetype": "text/x-python",
   "name": "python",
   "nbconvert_exporter": "python",
   "pygments_lexer": "ipython3",
   "version": "3.9.12"
  }
 },
 "nbformat": 4,
 "nbformat_minor": 5
}