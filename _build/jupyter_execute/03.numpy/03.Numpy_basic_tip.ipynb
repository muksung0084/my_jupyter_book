{
 "cells": [
  {
   "cell_type": "markdown",
   "id": "7e210433-3187-42d4-a2e2-0bc7147c4ac3",
   "metadata": {},
   "source": [
    "## Numpy basic _ tips"
   ]
  },
  {
   "cell_type": "markdown",
   "id": "763c673a-9aa6-415e-864f-1a3d2f3b4969",
   "metadata": {},
   "source": []
  },
  {
   "cell_type": "code",
   "execution_count": 1,
   "id": "ccc76c04-d35c-459f-aef5-3bb17f6919eb",
   "metadata": {},
   "outputs": [],
   "source": [
    "import numpy as np\n",
    "import pandas as pd"
   ]
  },
  {
   "cell_type": "raw",
   "id": "fe7c87e8-0a82-4304-8152-82597ca51f2a",
   "metadata": {},
   "source": [
    "다차원 배열을 쉽게 처리하고 효율적으로 사용할 수 있도록지원하는 파이썬의 패키지로 \n",
    "\n",
    "데이터 구조 외에도 수치 계산을 위해 효율적으로 구현된 기능을 제공\n",
    "\n",
    "                                                                                                                < https://brownbears.tistory.com/480 >\n",
    "                                                                                                                \n",
    "\n",
    "파이썬의 리스트는 데이터 주소값을 저장합니다. 그리고 데이터를 가져 올때는 해당 주소에 가서 데이터를 가져옴.\n",
    "\n",
    "하지만 Numpy Array는 C 배열과 유사하여 연속된 주소를 가지고 있음 --> 배열에 담긴 데이터를 가져온다면 순서대로 가져오면 되기 때문에 메모리를 효율적으로 사용.\n",
    "\n",
    "                                                                                                                < https://firework-ham.tistory.com/31 > "
   ]
  },
  {
   "cell_type": "raw",
   "id": "5d15b916-3bde-4633-91da-ae4164a49bb1",
   "metadata": {},
   "source": [
    "<img src=\"0.numpy_array_concept.JPG\" alt=\"drawing\" width=\"500\" />"
   ]
  },
  {
   "cell_type": "markdown",
   "id": "254cf298-afe7-477a-b1e9-6638694e7e5c",
   "metadata": {},
   "source": []
  },
  {
   "cell_type": "markdown",
   "id": "7e513553-1133-4209-96e2-7072958dba45",
   "metadata": {},
   "source": [
    "#### numpy 무작위 추출 _ choice "
   ]
  },
  {
   "cell_type": "raw",
   "id": "96d353d8-2739-48f6-8bfa-1d77a25ec9e7",
   "metadata": {},
   "source": [
    "# 숫자가 존재하는 list에서 몇개씩(크기)무작위 추출 \n",
    "np.random.choice(리스트명,크기)\n",
    "\n",
    "# 리스트1에서 무작위로 3개의 sample을 뽑을것인데, 각각이 뽑힐 확률을 prob를 따르겠다.\n",
    "np.random.choice(리스트명,크기,p=??)  # p값에 확률을 지정할 수 있음 "
   ]
  },
  {
   "cell_type": "code",
   "execution_count": 2,
   "id": "5ebe9de4-8fbe-4a21-aba8-74ee2f960e5f",
   "metadata": {},
   "outputs": [
    {
     "data": {
      "text/plain": [
       "array([4, 6, 1])"
      ]
     },
     "execution_count": 2,
     "metadata": {},
     "output_type": "execute_result"
    }
   ],
   "source": [
    "list1=[1,2,3,4,5,6]\n",
    "prob = [1/6,1/6,1/6,1/6,1/6,1/6] \n",
    "np.random.choice(list1,3,p=prob, replace=False)  ## 보통 replace를 건드리지 않지만, default는 True로 복원 추출, False의 경우는 비복원 추출로 한번 시행할때, 뽑힌것은 일단 배제하고 다음 것을 뽑는다."
   ]
  },
  {
   "cell_type": "markdown",
   "id": "e5f0e96d-3cad-4f69-aa68-3faa6c2e5a65",
   "metadata": {},
   "source": []
  },
  {
   "cell_type": "markdown",
   "id": "f1fd45eb-0843-49ed-89f9-69071b4ee7a4",
   "metadata": {},
   "source": [
    "#### numpy 난수로 array 형성 "
   ]
  },
  {
   "cell_type": "code",
   "execution_count": 3,
   "id": "f5ad24f7-1033-49d8-8fcf-1a69b0ead67c",
   "metadata": {},
   "outputs": [
    {
     "data": {
      "text/plain": [
       "array([[0.77587225, 0.44812035, 0.39917721, 0.79453465, 0.34860759,\n",
       "        0.26338308, 0.28485649, 0.65606932, 0.97420786, 0.96283094],\n",
       "       [0.34731088, 0.6601661 , 0.92787026, 0.75067489, 0.15099929,\n",
       "        0.61130899, 0.90561933, 0.39993754, 0.67505665, 0.46957481],\n",
       "       [0.83644003, 0.31973019, 0.22369573, 0.52870642, 0.91884783,\n",
       "        0.5019949 , 0.93744785, 0.36877074, 0.44625383, 0.65119935],\n",
       "       [0.94151417, 0.9104333 , 0.59613531, 0.19177539, 0.62209561,\n",
       "        0.13780882, 0.11025708, 0.43591743, 0.56589989, 0.7247481 ],\n",
       "       [0.72219387, 0.44661421, 0.86915961, 0.17095312, 0.39784174,\n",
       "        0.4866574 , 0.37451356, 0.53282875, 0.43696766, 0.88682175],\n",
       "       [0.70459896, 0.18585243, 0.49698403, 0.95257082, 0.45834902,\n",
       "        0.47718805, 0.53110312, 0.70040955, 0.44573054, 0.66709041],\n",
       "       [0.99504876, 0.96247424, 0.53155164, 0.72581894, 0.17928519,\n",
       "        0.71021804, 0.75194192, 0.54535642, 0.86540122, 0.03120022],\n",
       "       [0.63055341, 0.77683496, 0.95726757, 0.05607546, 0.40865519,\n",
       "        0.72505225, 0.39544216, 0.79036347, 0.21373787, 0.54340623],\n",
       "       [0.96339727, 0.11524269, 0.25076091, 0.2895556 , 0.49206675,\n",
       "        0.94955837, 0.33223193, 0.22357616, 0.29802691, 0.04732871],\n",
       "       [0.79263084, 0.18906674, 0.23127626, 0.25699799, 0.83564767,\n",
       "        0.21975083, 0.11172895, 0.61362264, 0.87252515, 0.62274102]])"
      ]
     },
     "execution_count": 3,
     "metadata": {},
     "output_type": "execute_result"
    }
   ],
   "source": [
    "# 0에서 1사이의 값 중에서 난수 생성. \n",
    "# 0~1 사이의 숫자로 10 by 10 array 생성 \n",
    "np.random.rand(10,10)    "
   ]
  },
  {
   "cell_type": "markdown",
   "id": "f0cf59c4-32df-4499-956b-dca497ea4e3e",
   "metadata": {},
   "source": []
  },
  {
   "cell_type": "markdown",
   "id": "d88a8863-1495-481d-a959-40fd5c39252f",
   "metadata": {},
   "source": [
    "#### numpy _ 정규분포"
   ]
  },
  {
   "cell_type": "code",
   "execution_count": 4,
   "id": "a27bc629-9b9d-4e2f-bbc4-6982ab436959",
   "metadata": {},
   "outputs": [
    {
     "data": {
      "text/plain": [
       "array([[-0.01602827,  0.48901998],\n",
       "       [-0.72668935,  0.19622593],\n",
       "       [-0.33037874, -0.31251958],\n",
       "       [ 0.59560543,  0.6461655 ],\n",
       "       [ 1.27529283, -0.14711467],\n",
       "       [ 0.51946248,  0.61025657],\n",
       "       [ 0.72674609, -1.01479668],\n",
       "       [-1.24022308, -0.28923723],\n",
       "       [ 0.13733659,  0.5794789 ],\n",
       "       [ 0.59879188,  0.84714172]])"
      ]
     },
     "execution_count": 4,
     "metadata": {},
     "output_type": "execute_result"
    }
   ],
   "source": [
    "# 표준 정규분포에서 무작위 숫자 추출  // [0, 1) 범위에서 균일한 분포\n",
    "np.random.randn(10,2)"
   ]
  },
  {
   "cell_type": "code",
   "execution_count": 5,
   "id": "faa96db1-2e68-4e1e-9d74-b84779bdb7a7",
   "metadata": {},
   "outputs": [
    {
     "name": "stdout",
     "output_type": "stream",
     "text": [
      "[3.82552741 0.26375511 1.96103302 3.0397179  3.54920088]\n"
     ]
    }
   ],
   "source": [
    "# 표준정규분포 N(1, 0)이 아닌, 평균 μ, 표준편차 σ 를 갖는 정규분포 N(μ, σ2)의 난수를 생성\n",
    "#σ * np.random.randn(…) + μ 와 같은 형태로 사용할 수 있습니다.\n",
    "sigma, mu = 1.5, 2.0\n",
    "c = sigma * np.random.randn(5) + mu\n",
    "print(c)"
   ]
  },
  {
   "cell_type": "markdown",
   "id": "3e69923c-1aac-4223-9e9f-4e8dbeeb8e67",
   "metadata": {},
   "source": []
  },
  {
   "cell_type": "markdown",
   "id": "00864fee-298b-463d-9478-cec8f9f4b085",
   "metadata": {},
   "source": [
    "#### numpy _ random randint, normal"
   ]
  },
  {
   "cell_type": "code",
   "execution_count": 6,
   "id": "e2ca7023-668a-4c54-ab53-451f57a686e3",
   "metadata": {},
   "outputs": [],
   "source": [
    "# random.randint() 함수는 [최소값, 최대값)의 범위에서 임의의 정수\n",
    "np.random.randint(2, size=5) # 는 [0, 2) 범위에서 다섯개의 임의의 정수를 생성.\n",
    "np.random.randint(2, 4, size=5) # 는 [2, 4) 범위에서 다섯개의 임의의 정수를 생성합.\n",
    "np.random.randint(1, 5, size=(2, 3)) # 는 [1, 5) 범위에서 (2, 3) 형태의 어레이를 생성합.\n",
    "\n",
    "# random.normal() 함수는 정규 분포 (Normal distribution)로부터 샘플링된 난수를 반환\n",
    "a = np.random.normal(0, 1, 2) # 어레이 a는 정규 분포 N(0,1)로부터 얻은 임의의 숫자 2개,\n",
    "b = np.random.normal(1.5, 1.5, 4) # 어레이 b는 정규 분포 N(1.5,1.52)로부터 얻은 임의의 숫자 4개,\n",
    "c = np.random.normal(3.0, 2.0, (2, 3)) # 어레이 c는 정규 분포 N(3.0,2.02)로부터 얻은 (2, 3) 형태의 임의의 숫자 어레이.           "
   ]
  },
  {
   "cell_type": "code",
   "execution_count": 7,
   "id": "c9728df0-ecbc-434f-bf36-034fb5169fed",
   "metadata": {},
   "outputs": [
    {
     "name": "stdout",
     "output_type": "stream",
     "text": [
      "[-0.61492318  0.45664864]\n",
      "[1.4492488  0.65954639 0.52751759 0.82031001]\n",
      "[[4.2798224  0.06275657 3.80074831]\n",
      " [2.29153708 4.53768359 0.57793124]]\n"
     ]
    }
   ],
   "source": [
    "print(a)\n",
    "print(b)\n",
    "print(c)"
   ]
  },
  {
   "cell_type": "markdown",
   "id": "adcf0af2-9d06-4421-b76f-0b99021b83aa",
   "metadata": {},
   "source": []
  },
  {
   "cell_type": "markdown",
   "id": "b8b33381-9bc4-43a7-a25e-3768b29115e7",
   "metadata": {},
   "source": [
    "#### numpy random과 array 매서드로 dataframe"
   ]
  },
  {
   "cell_type": "code",
   "execution_count": 8,
   "id": "4b5e4886-7caa-406f-add1-b037db4878b6",
   "metadata": {},
   "outputs": [
    {
     "data": {
      "text/html": [
       "<div>\n",
       "<style scoped>\n",
       "    .dataframe tbody tr th:only-of-type {\n",
       "        vertical-align: middle;\n",
       "    }\n",
       "\n",
       "    .dataframe tbody tr th {\n",
       "        vertical-align: top;\n",
       "    }\n",
       "\n",
       "    .dataframe thead th {\n",
       "        text-align: right;\n",
       "    }\n",
       "</style>\n",
       "<table border=\"1\" class=\"dataframe\">\n",
       "  <thead>\n",
       "    <tr style=\"text-align: right;\">\n",
       "      <th></th>\n",
       "      <th>0</th>\n",
       "      <th>1</th>\n",
       "      <th>2</th>\n",
       "    </tr>\n",
       "  </thead>\n",
       "  <tbody>\n",
       "    <tr>\n",
       "      <th>0</th>\n",
       "      <td>1</td>\n",
       "      <td>2</td>\n",
       "      <td>3</td>\n",
       "    </tr>\n",
       "    <tr>\n",
       "      <th>1</th>\n",
       "      <td>4</td>\n",
       "      <td>5</td>\n",
       "      <td>6</td>\n",
       "    </tr>\n",
       "  </tbody>\n",
       "</table>\n",
       "</div>"
      ],
      "text/plain": [
       "   0  1  2\n",
       "0  1  2  3\n",
       "1  4  5  6"
      ]
     },
     "metadata": {},
     "output_type": "display_data"
    }
   ],
   "source": [
    "pd.DataFrame( np.random.randn(10,20), columns = ('col %d' % i for i in range(20)) )\n",
    "\n",
    "sample = pd.DataFrame(np.random.randint(1,20,2) for i in range(10))\n",
    "\n",
    "my_2darray = np.array([[1, 2, 3], [4, 5, 6]])\n",
    "display(pd.DataFrame(my_2darray))"
   ]
  },
  {
   "cell_type": "markdown",
   "id": "6c19851e-17ec-4415-970c-9fb2f332799e",
   "metadata": {},
   "source": []
  },
  {
   "cell_type": "markdown",
   "id": "f589453c-96ac-48af-b999-f350a7379c0a",
   "metadata": {},
   "source": [
    "#### np.where을 통한 조건부 정리"
   ]
  },
  {
   "cell_type": "code",
   "execution_count": 9,
   "id": "a169e8ad-75bf-45e2-b81d-f74a473c6147",
   "metadata": {},
   "outputs": [
    {
     "ename": "NameError",
     "evalue": "name 'skimming_data2' is not defined",
     "output_type": "error",
     "traceback": [
      "\u001b[1;31m---------------------------------------------------------------------------\u001b[0m",
      "\u001b[1;31mNameError\u001b[0m                                 Traceback (most recent call last)",
      "Input \u001b[1;32mIn [9]\u001b[0m, in \u001b[0;36m<cell line: 2>\u001b[1;34m()\u001b[0m\n\u001b[0;32m      1\u001b[0m \u001b[38;5;66;03m#np.where \u001b[39;00m\n\u001b[1;32m----> 2\u001b[0m skimming_data2[\u001b[38;5;124m'\u001b[39m\u001b[38;5;124mgroup\u001b[39m\u001b[38;5;124m'\u001b[39m] \u001b[38;5;241m=\u001b[39m np\u001b[38;5;241m.\u001b[39mwhere(\u001b[43mskimming_data2\u001b[49m[\u001b[38;5;124m'\u001b[39m\u001b[38;5;124mskimm\u001b[39m\u001b[38;5;124m'\u001b[39m]\u001b[38;5;241m.\u001b[39mbetween(\u001b[38;5;241m4\u001b[39m,\u001b[38;5;241m6\u001b[39m),\u001b[38;5;124m'\u001b[39m\u001b[38;5;124m4~6\u001b[39m\u001b[38;5;124m'\u001b[39m,\n\u001b[0;32m      3\u001b[0m                                   np\u001b[38;5;241m.\u001b[39mwhere(skimming_data2[\u001b[38;5;124m'\u001b[39m\u001b[38;5;124mskimm\u001b[39m\u001b[38;5;124m'\u001b[39m]\u001b[38;5;241m.\u001b[39mbetween(\u001b[38;5;241m6\u001b[39m,\u001b[38;5;241m10\u001b[39m),\u001b[38;5;124m'\u001b[39m\u001b[38;5;124m7~10\u001b[39m\u001b[38;5;124m'\u001b[39m, \u001b[38;5;124m'\u001b[39m\u001b[38;5;124m10~\u001b[39m\u001b[38;5;124m'\u001b[39m))\n\u001b[0;32m      4\u001b[0m \u001b[38;5;66;03m# inull로 np where \u001b[39;00m\n\u001b[0;32m      5\u001b[0m total_data[\u001b[38;5;124m'\u001b[39m\u001b[38;5;124medge_crack\u001b[39m\u001b[38;5;124m'\u001b[39m] \u001b[38;5;241m=\u001b[39m np\u001b[38;5;241m.\u001b[39mwhere(total_data[\u001b[38;5;124m'\u001b[39m\u001b[38;5;124mHFI 비고\u001b[39m\u001b[38;5;124m'\u001b[39m]\u001b[38;5;241m.\u001b[39misnull(),\u001b[38;5;241m0\u001b[39m,\u001b[38;5;241m1\u001b[39m)\n",
      "\u001b[1;31mNameError\u001b[0m: name 'skimming_data2' is not defined"
     ]
    }
   ],
   "source": [
    "#np.where \n",
    "skimming_data2['group'] = np.where(skimming_data2['skimm'].between(4,6),'4~6',\n",
    "                                  np.where(skimming_data2['skimm'].between(6,10),'7~10', '10~'))\n",
    "# inull로 np where \n",
    "total_data['edge_crack'] = np.where(total_data['HFI 비고'].isnull(),0,1)"
   ]
  },
  {
   "cell_type": "markdown",
   "id": "c96999dc-215a-4507-8e68-879456e7c3f4",
   "metadata": {},
   "source": []
  },
  {
   "cell_type": "markdown",
   "id": "f7af9594-2357-49fb-92ed-6363eca4864e",
   "metadata": {},
   "source": [
    "https://codetorial.net/numpy/random.html"
   ]
  }
 ],
 "metadata": {
  "kernelspec": {
   "display_name": "Python 3 (ipykernel)",
   "language": "python",
   "name": "python3"
  },
  "language_info": {
   "codemirror_mode": {
    "name": "ipython",
    "version": 3
   },
   "file_extension": ".py",
   "mimetype": "text/x-python",
   "name": "python",
   "nbconvert_exporter": "python",
   "pygments_lexer": "ipython3",
   "version": "3.9.12"
  }
 },
 "nbformat": 4,
 "nbformat_minor": 5
}