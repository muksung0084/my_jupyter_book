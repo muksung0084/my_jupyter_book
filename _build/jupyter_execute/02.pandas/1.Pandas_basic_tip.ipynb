{
 "cells": [
  {
   "cell_type": "markdown",
   "id": "91c1b8e1-9672-4317-9dcc-5eb74e10560e",
   "metadata": {},
   "source": [
    "# Pandas basic _ tips "
   ]
  },
  {
   "cell_type": "raw",
   "id": "f6ec55e9-1921-4057-9b03-b49dedcf7e6c",
   "metadata": {},
   "source": []
  },
  {
   "cell_type": "code",
   "execution_count": 1,
   "id": "a657c804-835a-4b67-a9e5-f498aa1d41ff",
   "metadata": {},
   "outputs": [],
   "source": [
    "import pandas as pd "
   ]
  },
  {
   "cell_type": "raw",
   "id": "6755dceb-ecfa-4d21-b0a6-a45bd8b2541b",
   "metadata": {},
   "source": [
    "<img src=\"0.dataframe_series_image.png\" alt=\"drawing\" width=\"500\" /> "
   ]
  },
  {
   "cell_type": "raw",
   "id": "2f24c484-eb51-47fc-8810-8295688ef261",
   "metadata": {},
   "source": [
    "from IPython.display import Image\n",
    "Image(\"0.dataframe_series_image.png\" , height=300 , width=500) # code안에서 나오게  \n",
    "\n",
    "![title](dataframe_series_image.png) # markdown안에서 나오게 할 때.   \n",
    "<img src=\"dataframe_series_image.png\" alt=\"drawing\" width=\"500\" />  # markdown에서 사이즈 조절까지\n",
    "                                                                                                                                                                            # https://lucycle.tistory.com/282"
   ]
  },
  {
   "cell_type": "raw",
   "id": "67c65378-3c96-4fff-be18-d89a719ac730",
   "metadata": {},
   "source": []
  },
  {
   "cell_type": "markdown",
   "id": "4e1af9eb-ed0d-407b-b0c0-a5c062499e32",
   "metadata": {},
   "source": [
    "## Series, DataFrame sample 만들기"
   ]
  },
  {
   "cell_type": "code",
   "execution_count": 2,
   "id": "a1bf55af-321d-4a09-aa72-e98a027ad30b",
   "metadata": {
    "tags": []
   },
   "outputs": [
    {
     "data": {
      "text/html": [
       "<div>\n",
       "<style scoped>\n",
       "    .dataframe tbody tr th:only-of-type {\n",
       "        vertical-align: middle;\n",
       "    }\n",
       "\n",
       "    .dataframe tbody tr th {\n",
       "        vertical-align: top;\n",
       "    }\n",
       "\n",
       "    .dataframe thead th {\n",
       "        text-align: right;\n",
       "    }\n",
       "</style>\n",
       "<table border=\"1\" class=\"dataframe\">\n",
       "  <thead>\n",
       "    <tr style=\"text-align: right;\">\n",
       "      <th></th>\n",
       "      <th>0</th>\n",
       "    </tr>\n",
       "  </thead>\n",
       "  <tbody>\n",
       "    <tr>\n",
       "      <th>United Kingdom</th>\n",
       "      <td>London</td>\n",
       "    </tr>\n",
       "    <tr>\n",
       "      <th>India</th>\n",
       "      <td>New Delhi</td>\n",
       "    </tr>\n",
       "    <tr>\n",
       "      <th>United States</th>\n",
       "      <td>Washington</td>\n",
       "    </tr>\n",
       "    <tr>\n",
       "      <th>Belgium</th>\n",
       "      <td>Brussels</td>\n",
       "    </tr>\n",
       "  </tbody>\n",
       "</table>\n",
       "</div>"
      ],
      "text/plain": [
       "                         0\n",
       "United Kingdom      London\n",
       "India            New Delhi\n",
       "United States   Washington\n",
       "Belgium           Brussels"
      ]
     },
     "metadata": {},
     "output_type": "display_data"
    },
    {
     "data": {
      "text/html": [
       "<div>\n",
       "<style scoped>\n",
       "    .dataframe tbody tr th:only-of-type {\n",
       "        vertical-align: middle;\n",
       "    }\n",
       "\n",
       "    .dataframe tbody tr th {\n",
       "        vertical-align: top;\n",
       "    }\n",
       "\n",
       "    .dataframe thead th {\n",
       "        text-align: right;\n",
       "    }\n",
       "</style>\n",
       "<table border=\"1\" class=\"dataframe\">\n",
       "  <thead>\n",
       "    <tr style=\"text-align: right;\">\n",
       "      <th></th>\n",
       "      <th>a</th>\n",
       "      <th>b</th>\n",
       "      <th>c</th>\n",
       "    </tr>\n",
       "  </thead>\n",
       "  <tbody>\n",
       "    <tr>\n",
       "      <th>0</th>\n",
       "      <td>1</td>\n",
       "      <td>1</td>\n",
       "      <td>2</td>\n",
       "    </tr>\n",
       "    <tr>\n",
       "      <th>1</th>\n",
       "      <td>3</td>\n",
       "      <td>2</td>\n",
       "      <td>4</td>\n",
       "    </tr>\n",
       "  </tbody>\n",
       "</table>\n",
       "</div>"
      ],
      "text/plain": [
       "   a  b  c\n",
       "0  1  1  2\n",
       "1  3  2  4"
      ]
     },
     "metadata": {},
     "output_type": "display_data"
    },
    {
     "ename": "NameError",
     "evalue": "name 'np' is not defined",
     "output_type": "error",
     "traceback": [
      "\u001b[1;31m---------------------------------------------------------------------------\u001b[0m",
      "\u001b[1;31mNameError\u001b[0m                                 Traceback (most recent call last)",
      "Input \u001b[1;32mIn [2]\u001b[0m, in \u001b[0;36m<cell line: 7>\u001b[1;34m()\u001b[0m\n\u001b[0;32m      4\u001b[0m my_dict \u001b[38;5;241m=\u001b[39m {\u001b[38;5;124m\"\u001b[39m\u001b[38;5;124ma\u001b[39m\u001b[38;5;124m\"\u001b[39m: [\u001b[38;5;124m'\u001b[39m\u001b[38;5;124m1\u001b[39m\u001b[38;5;124m'\u001b[39m, \u001b[38;5;124m'\u001b[39m\u001b[38;5;124m3\u001b[39m\u001b[38;5;124m'\u001b[39m], \u001b[38;5;124m\"\u001b[39m\u001b[38;5;124mb\u001b[39m\u001b[38;5;124m\"\u001b[39m: [\u001b[38;5;124m'\u001b[39m\u001b[38;5;124m1\u001b[39m\u001b[38;5;124m'\u001b[39m, \u001b[38;5;124m'\u001b[39m\u001b[38;5;124m2\u001b[39m\u001b[38;5;124m'\u001b[39m], \u001b[38;5;124m\"\u001b[39m\u001b[38;5;124mc\u001b[39m\u001b[38;5;124m\"\u001b[39m: [\u001b[38;5;124m'\u001b[39m\u001b[38;5;124m2\u001b[39m\u001b[38;5;124m'\u001b[39m, \u001b[38;5;124m'\u001b[39m\u001b[38;5;124m4\u001b[39m\u001b[38;5;124m'\u001b[39m]}\n\u001b[0;32m      5\u001b[0m display(pd\u001b[38;5;241m.\u001b[39mDataFrame(my_dict))\n\u001b[0;32m      7\u001b[0m sample \u001b[38;5;241m=\u001b[39m pd\u001b[38;5;241m.\u001b[39mDataFrame({\u001b[38;5;124m'\u001b[39m\u001b[38;5;124mtype\u001b[39m\u001b[38;5;124m'\u001b[39m : [\u001b[38;5;124m'\u001b[39m\u001b[38;5;124mk\u001b[39m\u001b[38;5;124m'\u001b[39m,\u001b[38;5;124m'\u001b[39m\u001b[38;5;124mk\u001b[39m\u001b[38;5;124m'\u001b[39m,\u001b[38;5;124m'\u001b[39m\u001b[38;5;124mk\u001b[39m\u001b[38;5;124m'\u001b[39m,\u001b[38;5;124m'\u001b[39m\u001b[38;5;124my\u001b[39m\u001b[38;5;124m'\u001b[39m,\u001b[38;5;124m'\u001b[39m\u001b[38;5;124my\u001b[39m\u001b[38;5;124m'\u001b[39m,\u001b[38;5;124m'\u001b[39m\u001b[38;5;124my\u001b[39m\u001b[38;5;124m'\u001b[39m,\u001b[38;5;124m'\u001b[39m\u001b[38;5;124my\u001b[39m\u001b[38;5;124m'\u001b[39m,\u001b[38;5;124m'\u001b[39m\u001b[38;5;124mk\u001b[39m\u001b[38;5;124m'\u001b[39m],\n\u001b[1;32m----> 8\u001b[0m                        \u001b[38;5;124m'\u001b[39m\u001b[38;5;124ma\u001b[39m\u001b[38;5;124m'\u001b[39m : [\u001b[38;5;241m1\u001b[39m,\u001b[38;5;241m2\u001b[39m,\u001b[38;5;241m3\u001b[39m,\u001b[38;5;241m4\u001b[39m,\u001b[38;5;241m5\u001b[39m,\u001b[38;5;241m6\u001b[39m,\u001b[38;5;241m7\u001b[39m,\u001b[43mnp\u001b[49m\u001b[38;5;241m.\u001b[39mNaN]},index\u001b[38;5;241m=\u001b[39m[\u001b[38;5;241m1\u001b[39m,\u001b[38;5;241m2\u001b[39m,\u001b[38;5;241m3\u001b[39m,\u001b[38;5;241m4\u001b[39m,\u001b[38;5;241m5\u001b[39m,\u001b[38;5;241m6\u001b[39m,\u001b[38;5;241m7\u001b[39m,\u001b[38;5;241m8\u001b[39m])\n\u001b[0;32m     10\u001b[0m my_df \u001b[38;5;241m=\u001b[39m pd\u001b[38;5;241m.\u001b[39mDataFrame(data\u001b[38;5;241m=\u001b[39m[\u001b[38;5;241m4\u001b[39m,\u001b[38;5;241m5\u001b[39m,\u001b[38;5;241m6\u001b[39m,\u001b[38;5;241m7\u001b[39m], index\u001b[38;5;241m=\u001b[39m\u001b[38;5;28mrange\u001b[39m(\u001b[38;5;241m0\u001b[39m,\u001b[38;5;241m4\u001b[39m), columns\u001b[38;5;241m=\u001b[39m[\u001b[38;5;124m'\u001b[39m\u001b[38;5;124mA\u001b[39m\u001b[38;5;124m'\u001b[39m])\n\u001b[0;32m     11\u001b[0m display(pd\u001b[38;5;241m.\u001b[39mDataFrame(my_df))\n",
      "\u001b[1;31mNameError\u001b[0m: name 'np' is not defined"
     ]
    }
   ],
   "source": [
    "my_series = pd.Series({\"United Kingdom\":\"London\", \"India\":\"New Delhi\", \"United States\":\"Washington\", \"Belgium\":\"Brussels\"})\n",
    "display(pd.DataFrame(my_series))\n",
    "\n",
    "my_dict = {\"a\": ['1', '3'], \"b\": ['1', '2'], \"c\": ['2', '4']}\n",
    "display(pd.DataFrame(my_dict))\n",
    "\n",
    "sample = pd.DataFrame({'type' : ['k','k','k','y','y','y','y','k'],\n",
    "                       'a' : [1,2,3,4,5,6,7,np.NaN]},index=[1,2,3,4,5,6,7,8])\n",
    "\n",
    "my_df = pd.DataFrame(data=[4,5,6,7], index=range(0,4), columns=['A'])\n",
    "display(pd.DataFrame(my_df))\n",
    "\n",
    "comp_mf34 = pd.DataFrame(\n",
    "    columns=['5182','3104','6***','5***'],\n",
    "    data=0,\n",
    "    index=['mf3_batches','mf3_press_pv(std)','mf3_temp_pv(std)','mf4_batches','mf3_target_func','mf4_press_pv(std)','mf4_temp_pv(std)','mf4_target_func'])\n",
    "\n",
    "comp_mf34.index.name = 'factors'\n",
    "comp_mf34.columns.name = 'alloy'\n",
    "\n",
    "display(comp_mf34)"
   ]
  }
 ],
 "metadata": {
  "kernelspec": {
   "display_name": "Python 3 (ipykernel)",
   "language": "python",
   "name": "python3"
  },
  "language_info": {
   "codemirror_mode": {
    "name": "ipython",
    "version": 3
   },
   "file_extension": ".py",
   "mimetype": "text/x-python",
   "name": "python",
   "nbconvert_exporter": "python",
   "pygments_lexer": "ipython3",
   "version": "3.9.12"
  }
 },
 "nbformat": 4,
 "nbformat_minor": 5
}