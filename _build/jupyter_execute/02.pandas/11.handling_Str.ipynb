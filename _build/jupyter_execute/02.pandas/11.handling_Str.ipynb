{
 "cells": [
  {
   "cell_type": "markdown",
   "id": "b5ae1417-e0d8-4854-9013-1487a68d5489",
   "metadata": {},
   "source": [
    "## Str type handling"
   ]
  },
  {
   "cell_type": "raw",
   "id": "b9c4c0e6-14ac-4ac9-9d4a-04ac3cdc463c",
   "metadata": {},
   "source": []
  },
  {
   "cell_type": "code",
   "execution_count": 1,
   "id": "9b28f9da-c943-4a33-9536-de073748e3be",
   "metadata": {},
   "outputs": [
    {
     "ename": "SyntaxError",
     "evalue": "invalid syntax (1595970462.py, line 2)",
     "output_type": "error",
     "traceback": [
      "\u001b[1;36m  Input \u001b[1;32mIn [1]\u001b[1;36m\u001b[0m\n\u001b[1;33m    >> 1. split --> 해당 obstacle을 기준으로 문자열을 나눈다.\u001b[0m\n\u001b[1;37m    ^\u001b[0m\n\u001b[1;31mSyntaxError\u001b[0m\u001b[1;31m:\u001b[0m invalid syntax\n"
     ]
    }
   ],
   "source": [
    "# 문자열 처리 관련 함수. \n",
    ">> 1. split --> 해당 obstacle을 기준으로 문자열을 나눈다.\n",
    ">>> df[].str.split('-')\n",
    "\n",
    ">> 2. replace --> 해당 obstacle을 다른 것으로 대체한다. \n",
    ">>> df[].str.replace('-','') -를 공백없는 칸으로 매운다.\n",
    "\n",
    ">> 3. strip --> 값에 공백만 존재하는 경우, 문자열 값의 앞뒤로 공백이 존재하는 경우 이를 없애고 싶을때 \n",
    ">>> df[].str.strip()  \n",
    "\n",
    ">> 4. str  -->원하는 부분의 문자열만 끈고 싶을때\n",
    ">>> dataframe['series'].str[:] "
   ]
  },
  {
   "cell_type": "raw",
   "id": "aa863ad0-e139-4d02-bf62-04931c51661a",
   "metadata": {},
   "source": []
  }
 ],
 "metadata": {
  "kernelspec": {
   "display_name": "Python 3 (ipykernel)",
   "language": "python",
   "name": "python3"
  },
  "language_info": {
   "codemirror_mode": {
    "name": "ipython",
    "version": 3
   },
   "file_extension": ".py",
   "mimetype": "text/x-python",
   "name": "python",
   "nbconvert_exporter": "python",
   "pygments_lexer": "ipython3",
   "version": "3.9.12"
  }
 },
 "nbformat": 4,
 "nbformat_minor": 5
}