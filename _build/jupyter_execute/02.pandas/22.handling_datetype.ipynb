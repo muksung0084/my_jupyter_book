{
 "cells": [
  {
   "cell_type": "markdown",
   "id": "9dea74ee-4c1c-416a-827c-d671f316bd2d",
   "metadata": {},
   "source": [
    "## Datetype handling"
   ]
  },
  {
   "cell_type": "code",
   "execution_count": 63,
   "id": "eb768158-31d2-4358-92f3-7a73a6be916d",
   "metadata": {},
   "outputs": [],
   "source": [
    "import pandas as pd"
   ]
  },
  {
   "cell_type": "raw",
   "id": "22fbd03e-536c-4e24-a0ea-709ff04a28d5",
   "metadata": {},
   "source": []
  },
  {
   "cell_type": "markdown",
   "id": "f3026e5f-ef54-4f97-bcd4-3278faea3480",
   "metadata": {},
   "source": [
    "#### datetime 표현 관련"
   ]
  },
  {
   "cell_type": "code",
   "execution_count": 64,
   "id": "14967a30-92d8-4724-ae91-064c96838ba3",
   "metadata": {},
   "outputs": [],
   "source": [
    "df = pd.DataFrame({'Birth':['1993-01-28 01:10:00',\n",
    "                            '1993-08-28 06:20:30']})\n",
    "df['Birth'] = pd.to_datetime(df['Birth'], format='%Y-%m-%d %H:%M:%S', errors='raise')"
   ]
  },
  {
   "cell_type": "code",
   "execution_count": 65,
   "id": "2f1ffbdd-7c42-4d02-ac56-84186e4cb09f",
   "metadata": {},
   "outputs": [],
   "source": [
    "df['Birth_date']       = df['Birth'].dt.date         # YYYY-MM-DD(문자)\n",
    "df['Birth_year']       = df['Birth'].dt.year         # 연(4자리숫자)\n",
    "df['Birth_month']      = df['Birth'].dt.month        # 월(숫자)\n",
    "df['Birth_month_name'] = df['Birth'].dt.month_name() # 월(문자)\n",
    "\n",
    "df['Birth_day']        = df['Birth'].dt.day          # 일(숫자)\n",
    "df['Birth_time']       = df['Birth'].dt.time         # HH:MM:SS(문자)\n",
    "df['Birth_hour']       = df['Birth'].dt.hour         # 시(숫자)\n",
    "df['Birth_minute']     = df['Birth'].dt.minute       # 분(숫자)\n",
    "df['Birth_second']     = df['Birth'].dt.second       # 초(숫자)\n",
    "df['Birth_quarter']    = df['Birth'].dt.quarter      # 분기(숫자)\n"
   ]
  },
  {
   "cell_type": "code",
   "execution_count": 66,
   "id": "e86ea90b-a24a-454b-90c0-beb87f97c799",
   "metadata": {},
   "outputs": [
    {
     "data": {
      "text/html": [
       "<div>\n",
       "<style scoped>\n",
       "    .dataframe tbody tr th:only-of-type {\n",
       "        vertical-align: middle;\n",
       "    }\n",
       "\n",
       "    .dataframe tbody tr th {\n",
       "        vertical-align: top;\n",
       "    }\n",
       "\n",
       "    .dataframe thead th {\n",
       "        text-align: right;\n",
       "    }\n",
       "</style>\n",
       "<table border=\"1\" class=\"dataframe\">\n",
       "  <thead>\n",
       "    <tr style=\"text-align: right;\">\n",
       "      <th></th>\n",
       "      <th>Birth</th>\n",
       "      <th>Birth_date</th>\n",
       "      <th>Birth_year</th>\n",
       "      <th>Birth_month</th>\n",
       "      <th>Birth_month_name</th>\n",
       "      <th>Birth_day</th>\n",
       "      <th>Birth_time</th>\n",
       "      <th>Birth_hour</th>\n",
       "      <th>Birth_minute</th>\n",
       "      <th>Birth_second</th>\n",
       "      <th>Birth_quarter</th>\n",
       "    </tr>\n",
       "  </thead>\n",
       "  <tbody>\n",
       "    <tr>\n",
       "      <th>0</th>\n",
       "      <td>1993-01-28 01:10:00</td>\n",
       "      <td>1993-01-28</td>\n",
       "      <td>1993</td>\n",
       "      <td>1</td>\n",
       "      <td>January</td>\n",
       "      <td>28</td>\n",
       "      <td>01:10:00</td>\n",
       "      <td>1</td>\n",
       "      <td>10</td>\n",
       "      <td>0</td>\n",
       "      <td>1</td>\n",
       "    </tr>\n",
       "    <tr>\n",
       "      <th>1</th>\n",
       "      <td>1993-08-28 06:20:30</td>\n",
       "      <td>1993-08-28</td>\n",
       "      <td>1993</td>\n",
       "      <td>8</td>\n",
       "      <td>August</td>\n",
       "      <td>28</td>\n",
       "      <td>06:20:30</td>\n",
       "      <td>6</td>\n",
       "      <td>20</td>\n",
       "      <td>30</td>\n",
       "      <td>3</td>\n",
       "    </tr>\n",
       "  </tbody>\n",
       "</table>\n",
       "</div>"
      ],
      "text/plain": [
       "                Birth  Birth_date  Birth_year  Birth_month Birth_month_name  \\\n",
       "0 1993-01-28 01:10:00  1993-01-28        1993            1          January   \n",
       "1 1993-08-28 06:20:30  1993-08-28        1993            8           August   \n",
       "\n",
       "   Birth_day Birth_time  Birth_hour  Birth_minute  Birth_second  Birth_quarter  \n",
       "0         28   01:10:00           1            10             0              1  \n",
       "1         28   06:20:30           6            20            30              3  "
      ]
     },
     "execution_count": 66,
     "metadata": {},
     "output_type": "execute_result"
    }
   ],
   "source": [
    "df"
   ]
  },
  {
   "cell_type": "markdown",
   "id": "878f0e9b-a754-45ce-a777-b764a93a3236",
   "metadata": {},
   "source": [
    "#### datetime, time sleep 사용 "
   ]
  },
  {
   "cell_type": "code",
   "execution_count": 67,
   "id": "f442f2fb-bc21-41ff-b460-cff11774b395",
   "metadata": {},
   "outputs": [
    {
     "data": {
      "text/html": [
       "<div>\n",
       "<style scoped>\n",
       "    .dataframe tbody tr th:only-of-type {\n",
       "        vertical-align: middle;\n",
       "    }\n",
       "\n",
       "    .dataframe tbody tr th {\n",
       "        vertical-align: top;\n",
       "    }\n",
       "\n",
       "    .dataframe thead th {\n",
       "        text-align: right;\n",
       "    }\n",
       "</style>\n",
       "<table border=\"1\" class=\"dataframe\">\n",
       "  <thead>\n",
       "    <tr style=\"text-align: right;\">\n",
       "      <th></th>\n",
       "      <th>time_now</th>\n",
       "    </tr>\n",
       "  </thead>\n",
       "  <tbody>\n",
       "    <tr>\n",
       "      <th>0</th>\n",
       "      <td>2022-09-13 14:39:24.734369</td>\n",
       "    </tr>\n",
       "    <tr>\n",
       "      <th>1</th>\n",
       "      <td>2022-09-13 14:39:24.840600</td>\n",
       "    </tr>\n",
       "    <tr>\n",
       "      <th>2</th>\n",
       "      <td>2022-09-13 14:39:24.949478</td>\n",
       "    </tr>\n",
       "  </tbody>\n",
       "</table>\n",
       "</div>"
      ],
      "text/plain": [
       "                    time_now\n",
       "0 2022-09-13 14:39:24.734369\n",
       "1 2022-09-13 14:39:24.840600\n",
       "2 2022-09-13 14:39:24.949478"
      ]
     },
     "execution_count": 67,
     "metadata": {},
     "output_type": "execute_result"
    }
   ],
   "source": [
    "from datetime import datetime\n",
    "import time\n",
    "\n",
    "time_data_sample = []\n",
    "for i in range(3) :\n",
    "    time_data_sample.append(datetime.now())  # .now --> 현재 시간 생성\n",
    "    time.sleep(0.1)\n",
    "    \n",
    "df_time = pd.DataFrame(time_data_sample , columns=['time_now'])\n",
    "df_time"
   ]
  },
  {
   "cell_type": "markdown",
   "id": "8a6e4eb2-d4b2-41f0-a84e-59f04fecca41",
   "metadata": {},
   "source": [
    "#### datetime 연산"
   ]
  },
  {
   "cell_type": "code",
   "execution_count": 68,
   "id": "9a01f020-c983-4efa-97fe-ded8503a43f8",
   "metadata": {},
   "outputs": [
    {
     "name": "stdout",
     "output_type": "stream",
     "text": [
      "now       :  2022-09-13 14:39:26.273994\n",
      "days 연산 :  2022-09-15 14:39:26.273994\n",
      "time 연산 :  2022-09-14 13:39:26.273994\n",
      "mixed 연산 :  2022-09-14 15:59:56.273994\n"
     ]
    }
   ],
   "source": [
    "from datetime import timedelta\n",
    "now = datetime.now()\n",
    "print('now       : ' , now )\n",
    "print('days 연산 : ', now + timedelta(days=2) )\n",
    "print('time 연산 : ' , now + timedelta(hours=23))\n",
    "print('mixed 연산 : ' , now + timedelta(days = 1 , hours=1, minutes=20, seconds=30))"
   ]
  },
  {
   "cell_type": "markdown",
   "id": "d304a1dc-6ac6-4208-bf72-fc8cd78de331",
   "metadata": {},
   "source": [
    "#### datetime 연산 [ hour, mins , sec 환산 ] "
   ]
  },
  {
   "cell_type": "code",
   "execution_count": 69,
   "id": "c5d2c994-11b6-4e91-a46b-fbe8175b5647",
   "metadata": {},
   "outputs": [
    {
     "name": "stdout",
     "output_type": "stream",
     "text": [
      "days 환산 :  0\n",
      "seconds 환산 :  2\n",
      "mins 환산 :  0.03333333333333333\n",
      "time 환산 :  0.0005555555555555556\n"
     ]
    }
   ],
   "source": [
    "now = datetime.now()\n",
    "print('days 환산 : ', (now - df_time['time_now'][0]).days)\n",
    "print('seconds 환산 : ', (now - df_time['time_now'][0]).seconds)\n",
    "print('mins 환산 : ', (now - df_time['time_now'][0]).seconds/60)\n",
    "print('time 환산 : ', (now - df_time['time_now'][0]).seconds/3600)"
   ]
  },
  {
   "cell_type": "markdown",
   "id": "484cc7e2-a6ea-4609-b429-83a8f63c6fba",
   "metadata": {},
   "source": []
  },
  {
   "cell_type": "markdown",
   "id": "14333e08-348c-499f-b4d7-7db59c5a959b",
   "metadata": {},
   "source": [
    "#### date time <-> str 변환 "
   ]
  },
  {
   "cell_type": "markdown",
   "id": "adc46e3d-98fd-4f9b-a035-3e51b9942ee4",
   "metadata": {},
   "source": [
    "날짜와 시간(datetime)  --> 문자열 : strftime    \n",
    "\n",
    "date = now.strftime(%Y-%m-%d)  // series가 아닌 단순히 하나의 문자열 data인 경우 // \n",
    "\n",
    "series type에 적용을 원하면 df['a'].dt.strftime(~~)"
   ]
  },
  {
   "cell_type": "code",
   "execution_count": 77,
   "id": "45971986-08e7-4996-849b-956f3695829f",
   "metadata": {},
   "outputs": [],
   "source": [
    "df_time['date_to_str'] = df_time['time_now'].dt.strftime('%Y - %m - %d %H:%M:%S')"
   ]
  },
  {
   "cell_type": "markdown",
   "id": "31a3a8e5-ba3b-4ddf-a29e-dc69eceff899",
   "metadata": {},
   "source": [
    "문자열 --> datetime type으로 변환 : strptime     \n",
    "\n",
    "datetime.strptime(원하는 문자열 , 원하는 형태 '%Y - %m - %d %H:%M:%S' )    \n",
    "\n",
    "series type에 적용르 원하면, [ list comprehension 리스트컴프리핸션을 이용 ]"
   ]
  },
  {
   "cell_type": "code",
   "execution_count": 78,
   "id": "f01d3a9b-6e82-44ef-b644-bcb1fe20a59b",
   "metadata": {},
   "outputs": [],
   "source": [
    "df_time['str_to_date'] = [ datetime.strptime(i,'%Y - %m - %d %H:%M:%S') for i in df_time['date_to_str']]"
   ]
  },
  {
   "cell_type": "code",
   "execution_count": 79,
   "id": "d4d62f83-e03a-47f3-bc13-a80d7dd738bd",
   "metadata": {},
   "outputs": [
    {
     "data": {
      "text/html": [
       "<div>\n",
       "<style scoped>\n",
       "    .dataframe tbody tr th:only-of-type {\n",
       "        vertical-align: middle;\n",
       "    }\n",
       "\n",
       "    .dataframe tbody tr th {\n",
       "        vertical-align: top;\n",
       "    }\n",
       "\n",
       "    .dataframe thead th {\n",
       "        text-align: right;\n",
       "    }\n",
       "</style>\n",
       "<table border=\"1\" class=\"dataframe\">\n",
       "  <thead>\n",
       "    <tr style=\"text-align: right;\">\n",
       "      <th></th>\n",
       "      <th>time_now</th>\n",
       "      <th>date_to_str</th>\n",
       "      <th>str_to_date</th>\n",
       "    </tr>\n",
       "  </thead>\n",
       "  <tbody>\n",
       "    <tr>\n",
       "      <th>0</th>\n",
       "      <td>2022-09-13 14:39:24.734369</td>\n",
       "      <td>2022 - 09 - 13 14:39:24</td>\n",
       "      <td>2022-09-13 14:39:24</td>\n",
       "    </tr>\n",
       "    <tr>\n",
       "      <th>1</th>\n",
       "      <td>2022-09-13 14:39:24.840600</td>\n",
       "      <td>2022 - 09 - 13 14:39:24</td>\n",
       "      <td>2022-09-13 14:39:24</td>\n",
       "    </tr>\n",
       "    <tr>\n",
       "      <th>2</th>\n",
       "      <td>2022-09-13 14:39:24.949478</td>\n",
       "      <td>2022 - 09 - 13 14:39:24</td>\n",
       "      <td>2022-09-13 14:39:24</td>\n",
       "    </tr>\n",
       "  </tbody>\n",
       "</table>\n",
       "</div>"
      ],
      "text/plain": [
       "                    time_now              date_to_str         str_to_date\n",
       "0 2022-09-13 14:39:24.734369  2022 - 09 - 13 14:39:24 2022-09-13 14:39:24\n",
       "1 2022-09-13 14:39:24.840600  2022 - 09 - 13 14:39:24 2022-09-13 14:39:24\n",
       "2 2022-09-13 14:39:24.949478  2022 - 09 - 13 14:39:24 2022-09-13 14:39:24"
      ]
     },
     "execution_count": 79,
     "metadata": {},
     "output_type": "execute_result"
    }
   ],
   "source": [
    "df_time"
   ]
  },
  {
   "cell_type": "code",
   "execution_count": 80,
   "id": "3d0bd4c8-bf0a-4269-b408-7be8242b0aaa",
   "metadata": {},
   "outputs": [
    {
     "data": {
      "text/plain": [
       "time_now       datetime64[ns]\n",
       "date_to_str            object\n",
       "str_to_date    datetime64[ns]\n",
       "dtype: object"
      ]
     },
     "execution_count": 80,
     "metadata": {},
     "output_type": "execute_result"
    }
   ],
   "source": [
    "df_time.dtypes"
   ]
  },
  {
   "cell_type": "markdown",
   "id": "b958e824-7faf-4b7e-aa4b-a4994948f68d",
   "metadata": {},
   "source": [
    "#### date생성 관련 method data_range "
   ]
  },
  {
   "cell_type": "code",
   "execution_count": 82,
   "id": "c39b6771-83ab-4457-bc02-49e49e3aa4ac",
   "metadata": {},
   "outputs": [
    {
     "name": "stdout",
     "output_type": "stream",
     "text": [
      "DatetimeIndex(['2022-01-01', '2022-01-02', '2022-01-03', '2022-01-04',\n",
      "               '2022-01-05', '2022-01-06'],\n",
      "              dtype='datetime64[ns]', freq='D')\n"
     ]
    }
   ],
   "source": [
    "dates  = pd.date_range('20220101',periods = 6)  # 20220101 부터 6개의 기간\n",
    "print(dates)"
   ]
  }
 ],
 "metadata": {
  "kernelspec": {
   "display_name": "Python 3 (ipykernel)",
   "language": "python",
   "name": "python3"
  },
  "language_info": {
   "codemirror_mode": {
    "name": "ipython",
    "version": 3
   },
   "file_extension": ".py",
   "mimetype": "text/x-python",
   "name": "python",
   "nbconvert_exporter": "python",
   "pygments_lexer": "ipython3",
   "version": "3.9.12"
  }
 },
 "nbformat": 4,
 "nbformat_minor": 5
}