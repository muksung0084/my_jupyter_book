{
 "cells": [
  {
   "cell_type": "markdown",
   "id": "1b2aefa3-611a-443c-9f36-c017a36ab7bd",
   "metadata": {},
   "source": [
    "## Useful Function"
   ]
  },
  {
   "cell_type": "code",
   "execution_count": 2,
   "id": "93fee3c9-d56c-4c96-9c6f-64c5c7a28a05",
   "metadata": {},
   "outputs": [],
   "source": [
    "import pandas as pd\n",
    "import numpy as np"
   ]
  },
  {
   "cell_type": "markdown",
   "id": "25e2230d-37b6-4d73-a4cd-c70111e28696",
   "metadata": {},
   "source": []
  },
  {
   "cell_type": "markdown",
   "id": "c33a0420-2562-4756-9ca3-e42346b8fe13",
   "metadata": {},
   "source": [
    "#### lambda 매개변수 : 표현식\n",
    "\n",
    "##### 간단한 함수식을 def로 정의하지 않고, lambda를 이용하여 연산할 수 있음. "
   ]
  },
  {
   "cell_type": "code",
   "execution_count": 3,
   "id": "0010515c-966e-43c2-9a2c-9989a9ff8b6f",
   "metadata": {},
   "outputs": [
    {
     "data": {
      "text/html": [
       "<div>\n",
       "<style scoped>\n",
       "    .dataframe tbody tr th:only-of-type {\n",
       "        vertical-align: middle;\n",
       "    }\n",
       "\n",
       "    .dataframe tbody tr th {\n",
       "        vertical-align: top;\n",
       "    }\n",
       "\n",
       "    .dataframe thead th {\n",
       "        text-align: right;\n",
       "    }\n",
       "</style>\n",
       "<table border=\"1\" class=\"dataframe\">\n",
       "  <thead>\n",
       "    <tr style=\"text-align: right;\">\n",
       "      <th></th>\n",
       "      <th>test</th>\n",
       "      <th>test2</th>\n",
       "    </tr>\n",
       "  </thead>\n",
       "  <tbody>\n",
       "    <tr>\n",
       "      <th>0</th>\n",
       "      <td>-7</td>\n",
       "      <td>-2</td>\n",
       "    </tr>\n",
       "    <tr>\n",
       "      <th>1</th>\n",
       "      <td>-8</td>\n",
       "      <td>16</td>\n",
       "    </tr>\n",
       "    <tr>\n",
       "      <th>2</th>\n",
       "      <td>6</td>\n",
       "      <td>3</td>\n",
       "    </tr>\n",
       "    <tr>\n",
       "      <th>3</th>\n",
       "      <td>-5</td>\n",
       "      <td>3</td>\n",
       "    </tr>\n",
       "    <tr>\n",
       "      <th>4</th>\n",
       "      <td>14</td>\n",
       "      <td>19</td>\n",
       "    </tr>\n",
       "  </tbody>\n",
       "</table>\n",
       "</div>"
      ],
      "text/plain": [
       "   test  test2\n",
       "0    -7     -2\n",
       "1    -8     16\n",
       "2     6      3\n",
       "3    -5      3\n",
       "4    14     19"
      ]
     },
     "metadata": {},
     "output_type": "display_data"
    }
   ],
   "source": [
    "# sample 만들기 \n",
    "lambda_sample = pd.DataFrame( [np.random.randint(-10,20,size=2)for i in range(5)], columns= ['test','test2'] )\n",
    "display(lambda_sample)"
   ]
  },
  {
   "cell_type": "code",
   "execution_count": 4,
   "id": "5141c1a8-4f85-44ab-8278-5f101466a53f",
   "metadata": {},
   "outputs": [
    {
     "data": {
      "text/html": [
       "<div>\n",
       "<style scoped>\n",
       "    .dataframe tbody tr th:only-of-type {\n",
       "        vertical-align: middle;\n",
       "    }\n",
       "\n",
       "    .dataframe tbody tr th {\n",
       "        vertical-align: top;\n",
       "    }\n",
       "\n",
       "    .dataframe thead th {\n",
       "        text-align: right;\n",
       "    }\n",
       "</style>\n",
       "<table border=\"1\" class=\"dataframe\">\n",
       "  <thead>\n",
       "    <tr style=\"text-align: right;\">\n",
       "      <th></th>\n",
       "      <th>test</th>\n",
       "      <th>test2</th>\n",
       "      <th>PLUS</th>\n",
       "    </tr>\n",
       "  </thead>\n",
       "  <tbody>\n",
       "    <tr>\n",
       "      <th>0</th>\n",
       "      <td>-7</td>\n",
       "      <td>-2</td>\n",
       "      <td>-9</td>\n",
       "    </tr>\n",
       "    <tr>\n",
       "      <th>1</th>\n",
       "      <td>-8</td>\n",
       "      <td>16</td>\n",
       "      <td>8</td>\n",
       "    </tr>\n",
       "    <tr>\n",
       "      <th>2</th>\n",
       "      <td>6</td>\n",
       "      <td>3</td>\n",
       "      <td>9</td>\n",
       "    </tr>\n",
       "    <tr>\n",
       "      <th>3</th>\n",
       "      <td>-5</td>\n",
       "      <td>3</td>\n",
       "      <td>-2</td>\n",
       "    </tr>\n",
       "    <tr>\n",
       "      <th>4</th>\n",
       "      <td>14</td>\n",
       "      <td>19</td>\n",
       "      <td>33</td>\n",
       "    </tr>\n",
       "  </tbody>\n",
       "</table>\n",
       "</div>"
      ],
      "text/plain": [
       "   test  test2  PLUS\n",
       "0    -7     -2    -9\n",
       "1    -8     16     8\n",
       "2     6      3     9\n",
       "3    -5      3    -2\n",
       "4    14     19    33"
      ]
     },
     "execution_count": 4,
     "metadata": {},
     "output_type": "execute_result"
    }
   ],
   "source": [
    "lambda_sample['PLUS'] = (lambda x,y :x+y)(lambda_sample['test'],lambda_sample['test2'])\n",
    "lambda_sample"
   ]
  },
  {
   "cell_type": "code",
   "execution_count": 5,
   "id": "02a05898-d6ca-4c48-82a5-821e09380fb4",
   "metadata": {},
   "outputs": [
    {
     "data": {
      "text/plain": [
       "2     6\n",
       "4    14\n",
       "Name: test, dtype: int32"
      ]
     },
     "execution_count": 5,
     "metadata": {},
     "output_type": "execute_result"
    }
   ],
   "source": [
    "lambda_sample['test'][lambda_sample['test'].apply(lambda x : x-2) >= 3]"
   ]
  },
  {
   "cell_type": "markdown",
   "id": "0875c5fc-e462-4646-9f4e-a5b89c79ff1c",
   "metadata": {
    "jupyter": {
     "outputs_hidden": true
    },
    "tags": []
   },
   "source": [
    "#### 공정데이터 적용 예시.\n",
    "observable1 = mf3_cleaned.groupby('BATCHNO')['Time'].apply(lambda x: x.max() - x.min()) >=  pd.Timedelta(minutes=100) \n",
    "\n",
    "observable2 = mf3_cleaned.groupby('BATCHNO')['Time'].apply(lambda x: x.max() - x.min()) <=  pd.Timedelta(minutes=150) \n",
    "\n",
    "observable3 = mf4_cleaned.groupby('BATCHNO')['Time'].apply(lambda x: x.max() - x.min()) >=  pd.Timedelta(minutes=100) \n",
    "\n",
    "observable4 = mf4_cleaned.groupby('BATCHNO')['Time'].apply(lambda x: x.max() - x.min()) <=  pd.Timedelta(minutes=150)"
   ]
  },
  {
   "cell_type": "markdown",
   "id": "d1901bf9-0d8b-4b9d-b46f-f29df4615fed",
   "metadata": {},
   "source": []
  },
  {
   "cell_type": "markdown",
   "id": "aaad781f-af0a-4fc5-9eb8-1407259bb34f",
   "metadata": {},
   "source": [
    "#### .reduce (함수 : 시퀀스)  \n",
    "###### 시퀀스(문자열, 리스트, 튜플)의 원소들을 누적적으로 함수에 적용."
   ]
  },
  {
   "cell_type": "code",
   "execution_count": 9,
   "id": "c1de6350-1920-46aa-b004-787afc1be03f",
   "metadata": {},
   "outputs": [
    {
     "data": {
      "text/plain": [
       "15"
      ]
     },
     "execution_count": 9,
     "metadata": {},
     "output_type": "execute_result"
    }
   ],
   "source": [
    "from functools import reduce\n",
    "reduce(lambda x,y: x+y,[1,2,3,4,5])"
   ]
  },
  {
   "cell_type": "markdown",
   "id": "8dc1e692-972e-4562-99ab-8d226ec90fcb",
   "metadata": {},
   "source": []
  },
  {
   "cell_type": "markdown",
   "id": "b4609e9c-f540-4807-9b09-3d138dcd95c3",
   "metadata": {},
   "source": [
    "#### map함수 \n",
    "###### object 객체를 categorical 객체로 변환하고 싶은경우 --> 메모리사용이 효율적임."
   ]
  },
  {
   "cell_type": "code",
   "execution_count": 10,
   "id": "e8e766bc-9fca-4d9a-b0c2-ab5282f9a1a6",
   "metadata": {},
   "outputs": [],
   "source": [
    "mapping_sample = pd.DataFrame(np.random.randint(0,9,30), columns = ['point'])"
   ]
  },
  {
   "cell_type": "code",
   "execution_count": 11,
   "id": "d8a93fd0-9b8d-4164-bbb9-b05dd8e643ad",
   "metadata": {},
   "outputs": [
    {
     "name": "stdout",
     "output_type": "stream",
     "text": [
      "<class 'pandas.core.frame.DataFrame'>\n",
      "RangeIndex: 30 entries, 0 to 29\n",
      "Data columns (total 2 columns):\n",
      " #   Column  Non-Null Count  Dtype \n",
      "---  ------  --------------  ----- \n",
      " 0   point   30 non-null     int32 \n",
      " 1   rating  30 non-null     object\n",
      "dtypes: int32(1), object(1)\n",
      "memory usage: 488.0+ bytes\n"
     ]
    }
   ],
   "source": [
    "mapping = {0:'good', 1:'good', 2:'bad', 3:'bad', 4:'bad',5:'worse',6:'worse',7:'worse',8:'worse',9:'worse'}\n",
    "mapping_sample['rating'] =mapping_sample['point'].map(mapping)\n",
    "\n",
    "mapping_sample.info() # 메모리 사용량 "
   ]
  },
  {
   "cell_type": "code",
   "execution_count": 12,
   "id": "5cdb10da-7e09-4ffd-a4d1-fc66b4a6b0d0",
   "metadata": {},
   "outputs": [],
   "source": [
    "mapping_sample['rating'] = mapping_sample.rating.astype('category')"
   ]
  },
  {
   "cell_type": "code",
   "execution_count": 13,
   "id": "e8516377-7ec4-47ad-8f7e-8a912d28f227",
   "metadata": {},
   "outputs": [
    {
     "data": {
      "text/html": [
       "<div>\n",
       "<style scoped>\n",
       "    .dataframe tbody tr th:only-of-type {\n",
       "        vertical-align: middle;\n",
       "    }\n",
       "\n",
       "    .dataframe tbody tr th {\n",
       "        vertical-align: top;\n",
       "    }\n",
       "\n",
       "    .dataframe thead th {\n",
       "        text-align: right;\n",
       "    }\n",
       "</style>\n",
       "<table border=\"1\" class=\"dataframe\">\n",
       "  <thead>\n",
       "    <tr style=\"text-align: right;\">\n",
       "      <th></th>\n",
       "      <th>point</th>\n",
       "      <th>rating</th>\n",
       "    </tr>\n",
       "  </thead>\n",
       "  <tbody>\n",
       "    <tr>\n",
       "      <th>0</th>\n",
       "      <td>7</td>\n",
       "      <td>worse</td>\n",
       "    </tr>\n",
       "    <tr>\n",
       "      <th>1</th>\n",
       "      <td>2</td>\n",
       "      <td>bad</td>\n",
       "    </tr>\n",
       "    <tr>\n",
       "      <th>2</th>\n",
       "      <td>7</td>\n",
       "      <td>worse</td>\n",
       "    </tr>\n",
       "  </tbody>\n",
       "</table>\n",
       "</div>"
      ],
      "text/plain": [
       "   point rating\n",
       "0      7  worse\n",
       "1      2    bad\n",
       "2      7  worse"
      ]
     },
     "execution_count": 13,
     "metadata": {},
     "output_type": "execute_result"
    }
   ],
   "source": [
    "mapping_sample.head(3)"
   ]
  },
  {
   "cell_type": "markdown",
   "id": "493039ac-b9b4-4004-a4cd-9f65de1fdcf8",
   "metadata": {},
   "source": []
  },
  {
   "cell_type": "markdown",
   "id": "e0f30c76-db65-40bd-a145-29199a730f36",
   "metadata": {},
   "source": [
    "##### .applymap (함수 ) : dataframe 전체에 해당 function을 적용 \n",
    "\n",
    "##### .apply(함수) : series type 즉, 특정 컬럼에 대해서 선택적으로 function  적용 가능 "
   ]
  },
  {
   "cell_type": "code",
   "execution_count": 14,
   "id": "7a883712-7254-4940-8afa-0dec98c9c120",
   "metadata": {},
   "outputs": [],
   "source": [
    "function = lambda x : str(x)+'점'"
   ]
  },
  {
   "cell_type": "code",
   "execution_count": 15,
   "id": "99722993-0642-4a61-bbed-120eb7211950",
   "metadata": {},
   "outputs": [
    {
     "data": {
      "text/html": [
       "<div>\n",
       "<style scoped>\n",
       "    .dataframe tbody tr th:only-of-type {\n",
       "        vertical-align: middle;\n",
       "    }\n",
       "\n",
       "    .dataframe tbody tr th {\n",
       "        vertical-align: top;\n",
       "    }\n",
       "\n",
       "    .dataframe thead th {\n",
       "        text-align: right;\n",
       "    }\n",
       "</style>\n",
       "<table border=\"1\" class=\"dataframe\">\n",
       "  <thead>\n",
       "    <tr style=\"text-align: right;\">\n",
       "      <th></th>\n",
       "      <th>point</th>\n",
       "      <th>rating</th>\n",
       "    </tr>\n",
       "  </thead>\n",
       "  <tbody>\n",
       "    <tr>\n",
       "      <th>0</th>\n",
       "      <td>7점</td>\n",
       "      <td>worse점</td>\n",
       "    </tr>\n",
       "    <tr>\n",
       "      <th>1</th>\n",
       "      <td>2점</td>\n",
       "      <td>bad점</td>\n",
       "    </tr>\n",
       "    <tr>\n",
       "      <th>2</th>\n",
       "      <td>7점</td>\n",
       "      <td>worse점</td>\n",
       "    </tr>\n",
       "  </tbody>\n",
       "</table>\n",
       "</div>"
      ],
      "text/plain": [
       "  point  rating\n",
       "0    7점  worse점\n",
       "1    2점    bad점\n",
       "2    7점  worse점"
      ]
     },
     "execution_count": 15,
     "metadata": {},
     "output_type": "execute_result"
    }
   ],
   "source": [
    "mapping_sample.applymap(function).head(3)"
   ]
  },
  {
   "cell_type": "code",
   "execution_count": 16,
   "id": "13c386dd-597f-4171-9bd6-ea88639b137b",
   "metadata": {},
   "outputs": [],
   "source": [
    "mapping_sample['point_점_apply'] = mapping_sample['point'].apply(function)"
   ]
  },
  {
   "cell_type": "code",
   "execution_count": 17,
   "id": "75d0be97-da56-448c-bab8-0d5bdabca7b4",
   "metadata": {},
   "outputs": [
    {
     "data": {
      "text/html": [
       "<div>\n",
       "<style scoped>\n",
       "    .dataframe tbody tr th:only-of-type {\n",
       "        vertical-align: middle;\n",
       "    }\n",
       "\n",
       "    .dataframe tbody tr th {\n",
       "        vertical-align: top;\n",
       "    }\n",
       "\n",
       "    .dataframe thead th {\n",
       "        text-align: right;\n",
       "    }\n",
       "</style>\n",
       "<table border=\"1\" class=\"dataframe\">\n",
       "  <thead>\n",
       "    <tr style=\"text-align: right;\">\n",
       "      <th></th>\n",
       "      <th>point</th>\n",
       "      <th>rating</th>\n",
       "      <th>point_점_apply</th>\n",
       "    </tr>\n",
       "  </thead>\n",
       "  <tbody>\n",
       "    <tr>\n",
       "      <th>0</th>\n",
       "      <td>7</td>\n",
       "      <td>worse</td>\n",
       "      <td>7점</td>\n",
       "    </tr>\n",
       "    <tr>\n",
       "      <th>1</th>\n",
       "      <td>2</td>\n",
       "      <td>bad</td>\n",
       "      <td>2점</td>\n",
       "    </tr>\n",
       "    <tr>\n",
       "      <th>2</th>\n",
       "      <td>7</td>\n",
       "      <td>worse</td>\n",
       "      <td>7점</td>\n",
       "    </tr>\n",
       "  </tbody>\n",
       "</table>\n",
       "</div>"
      ],
      "text/plain": [
       "   point rating point_점_apply\n",
       "0      7  worse            7점\n",
       "1      2    bad            2점\n",
       "2      7  worse            7점"
      ]
     },
     "execution_count": 17,
     "metadata": {},
     "output_type": "execute_result"
    }
   ],
   "source": [
    "mapping_sample.head(3)"
   ]
  }
 ],
 "metadata": {
  "kernelspec": {
   "display_name": "Python 3 (ipykernel)",
   "language": "python",
   "name": "python3"
  },
  "language_info": {
   "codemirror_mode": {
    "name": "ipython",
    "version": 3
   },
   "file_extension": ".py",
   "mimetype": "text/x-python",
   "name": "python",
   "nbconvert_exporter": "python",
   "pygments_lexer": "ipython3",
   "version": "3.9.12"
  }
 },
 "nbformat": 4,
 "nbformat_minor": 5
}