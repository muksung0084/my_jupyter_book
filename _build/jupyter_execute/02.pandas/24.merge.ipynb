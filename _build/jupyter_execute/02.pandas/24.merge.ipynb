{
 "cells": [
  {
   "cell_type": "markdown",
   "id": "46a13645-7562-4091-95b9-626b02c593c8",
   "metadata": {},
   "source": [
    "## Data merge"
   ]
  },
  {
   "cell_type": "code",
   "execution_count": 3,
   "id": "19f42ec8-f1c6-4674-9c42-ff45e675a03e",
   "metadata": {},
   "outputs": [],
   "source": [
    "import pandas as pd "
   ]
  },
  {
   "cell_type": "markdown",
   "id": "d6b370b5-3a51-4aa6-8663-83f0bb1bb109",
   "metadata": {},
   "source": [
    "#### concat 활용하여 행,열 base로 붙이기"
   ]
  },
  {
   "cell_type": "code",
   "execution_count": 9,
   "id": "45998ca3-aade-4dfa-9bb0-0fe5054cbd7e",
   "metadata": {},
   "outputs": [
    {
     "name": "stdout",
     "output_type": "stream",
     "text": [
      "                  time\n",
      "0  2022-09-13 16:34:33\n",
      "1  2022-09-13 16:34:32\n",
      "2  2022-09-13 16:34:31\n",
      "3  2022-09-13 16:34:30\n",
      "4  2022-09-13 16:34:29\n"
     ]
    }
   ],
   "source": [
    "from datetime import datetime \n",
    "import time \n",
    "\n",
    "test_df = pd.DataFrame()\n",
    "for i in range(5) : \n",
    "    a = pd.DataFrame(data = datetime.now().strftime('%Y-%m-%d %H:%M:%S') , index = [datetime.now().strftime('%Y-%m-%d %H:%M:%S')] , columns = ['time'])\n",
    "    test_df = pd.concat([a,test_df],axis=0,ignore_index=True)\n",
    "    #pd.merge([test_df,a])\n",
    "    time.sleep(1)\n",
    "print(test_df)"
   ]
  },
  {
   "cell_type": "markdown",
   "id": "110aea93-522a-481a-b005-09f5065f409d",
   "metadata": {},
   "source": []
  },
  {
   "cell_type": "raw",
   "id": "f6335197-dec5-49cb-b4ea-0f28e3f389a8",
   "metadata": {},
   "source": [
    "pip install pandasql"
   ]
  },
  {
   "cell_type": "markdown",
   "id": "0d31b971-53ff-4cba-8921-057403791969",
   "metadata": {},
   "source": [
    "#### sql 쿼리문 활용 <- 시간 term base로 묶기"
   ]
  },
  {
   "cell_type": "code",
   "execution_count": null,
   "id": "ec0e5e2b-5439-4b97-9701-153abc16eba5",
   "metadata": {},
   "outputs": [
    {
     "ename": "ModuleNotFoundError",
     "evalue": "No module named 'pandasql'",
     "output_type": "error",
     "traceback": [
      "\u001b[1;31m---------------------------------------------------------------------------\u001b[0m",
      "\u001b[1;31mModuleNotFoundError\u001b[0m                       Traceback (most recent call last)",
      "Input \u001b[1;32mIn [1]\u001b[0m, in \u001b[0;36m<cell line: 1>\u001b[1;34m()\u001b[0m\n\u001b[1;32m----> 1\u001b[0m \u001b[38;5;28;01mimport\u001b[39;00m \u001b[38;5;21;01mpandasql\u001b[39;00m \u001b[38;5;28;01mas\u001b[39;00m \u001b[38;5;21;01mps\u001b[39;00m \n\u001b[0;32m      3\u001b[0m query \u001b[38;5;241m=\u001b[39m \u001b[38;5;124m\"\"\"\u001b[39m\u001b[38;5;124mSELECT a.*\u001b[39m\n\u001b[0;32m      4\u001b[0m \u001b[38;5;124m           from tableb b inner join tablea a on ((a.test1 between b.cast1 and b.cast2) & ( a.batch=b.BATCH)); \u001b[39m\u001b[38;5;124m\"\"\"\u001b[39m\n",
      "\u001b[1;31mModuleNotFoundError\u001b[0m: No module named 'pandasql'"
     ]
    }
   ],
   "source": [
    "import pandasql as ps \n",
    "\n",
    "query = \"\"\"SELECT a.*\n",
    "           from tableb b inner join tablea a on ((a.test1 between b.cast1 and b.cast2) & ( a.batch=b.BATCH)); \"\"\""
   ]
  }
 ],
 "metadata": {
  "kernelspec": {
   "display_name": "Python 3 (ipykernel)",
   "language": "python",
   "name": "python3"
  },
  "language_info": {
   "codemirror_mode": {
    "name": "ipython",
    "version": 3
   },
   "file_extension": ".py",
   "mimetype": "text/x-python",
   "name": "python",
   "nbconvert_exporter": "python",
   "pygments_lexer": "ipython3",
   "version": "3.9.12"
  }
 },
 "nbformat": 4,
 "nbformat_minor": 5
}