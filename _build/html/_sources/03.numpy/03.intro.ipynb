{
 "cells": [
  {
   "cell_type": "markdown",
   "id": "ce3d255d-f5d4-4772-98a9-2d6eef659a84",
   "metadata": {},
   "source": [
    "# Intro _ Numpy"
   ]
  },
  {
   "cell_type": "markdown",
   "id": "696e99c8-50b2-4a98-8057-b395f5ef7481",
   "metadata": {},
   "source": [
    "<span style=\"color:blue\"> <font size=\"5\">Numpy</span> </font>"
   ]
  },
  {
   "cell_type": "markdown",
   "id": "aa981b29-53f3-415f-8ef1-6da4176dbb2f",
   "metadata": {},
   "source": [
    "데이터분석과 machine learning , deep learning을 위해선 대량의 데이터에 대한 빠른 연산이 필수입니다.\\\n",
    "대량의 데이터를 빠르게 연산하기 위해서 데이터를 배열로 구성하고, 연산을 하는 기능을 제공하는 라이브러리가 \"Numpy\" 입니다.\n",
    "\n",
    "> 1차원의 배열 -> 벡터\\\n",
    "> 2차원의 배열 -> 행렬\n",
    "\n",
    "numpy의 배열을 활용하여 pandas의 dataframe형태로 만들 수 있습니다.\\\n",
    "이를 통해 dataframe형태에서 row-column별로 데이터들을 연산처리할 수 있습니다.\\\n",
    "numpy는 데이터분석에 있어서 단연코 \"1번 라이브러리\"라고 할 수 있습니다.\n",
    "\n",
    "numpy라이브러리를 다룰때 유용한 tip들을 정리해 보았습니다."
   ]
  },
  {
   "cell_type": "markdown",
   "id": "e718cc7a-377d-42e4-9ff4-72650ec33ba1",
   "metadata": {},
   "source": []
  }
 ],
 "metadata": {
  "kernelspec": {
   "display_name": "Python 3 (ipykernel)",
   "language": "python",
   "name": "python3"
  },
  "language_info": {
   "codemirror_mode": {
    "name": "ipython",
    "version": 3
   },
   "file_extension": ".py",
   "mimetype": "text/x-python",
   "name": "python",
   "nbconvert_exporter": "python",
   "pygments_lexer": "ipython3",
   "version": "3.9.12"
  }
 },
 "nbformat": 4,
 "nbformat_minor": 5
}
