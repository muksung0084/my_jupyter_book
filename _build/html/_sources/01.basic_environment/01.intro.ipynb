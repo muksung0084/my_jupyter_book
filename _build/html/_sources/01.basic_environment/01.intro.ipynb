{
 "cells": [
  {
   "cell_type": "markdown",
   "id": "49961758-e530-401c-9113-bdb326549a08",
   "metadata": {},
   "source": [
    "# Intro"
   ]
  },
  {
   "cell_type": "markdown",
   "id": "696e99c8-50b2-4a98-8057-b395f5ef7481",
   "metadata": {},
   "source": [
    "<span style=\"color:blue\"> <font size=\"5\">Basic environment setting2 </span> </font>"
   ]
  },
  {
   "cell_type": "markdown",
   "id": "aa981b29-53f3-415f-8ef1-6da4176dbb2f",
   "metadata": {},
   "source": [
    "python - jupyter note book의 환경에서 작업을 하다보면,\n",
    "\n",
    "> 불필요한 에러문구 발생\\\n",
    "> 경로확인 및 변경\\\n",
    "> 다수의 row-columns의 확인\\\n",
    "> 시각화 과정에서의 한글폰트, 마이너스 부호 깨짐 현상\n",
    "\n",
    "등과 같은 환경 세팅문제가 발생합니다.\\\n",
    "기본적으로 세팅해두고 시작하면 편한 여러 코드들을 정리해 보았습니다."
   ]
  },
  {
   "cell_type": "code",
   "execution_count": null,
   "id": "77fc5c00-07ec-4265-845c-52535e311255",
   "metadata": {},
   "outputs": [],
   "source": []
  }
 ],
 "metadata": {
  "kernelspec": {
   "display_name": "Python 3 (ipykernel)",
   "language": "python",
   "name": "python3"
  },
  "language_info": {
   "codemirror_mode": {
    "name": "ipython",
    "version": 3
   },
   "file_extension": ".py",
   "mimetype": "text/x-python",
   "name": "python",
   "nbconvert_exporter": "python",
   "pygments_lexer": "ipython3",
   "version": "3.9.12"
  }
 },
 "nbformat": 4,
 "nbformat_minor": 5
}
