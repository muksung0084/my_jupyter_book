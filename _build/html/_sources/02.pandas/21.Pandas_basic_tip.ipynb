{
 "cells": [
  {
   "cell_type": "markdown",
   "id": "91c1b8e1-9672-4317-9dcc-5eb74e10560e",
   "metadata": {},
   "source": [
    "## Pandas basic _ tips "
   ]
  },
  {
   "cell_type": "code",
   "execution_count": 4,
   "id": "a657c804-835a-4b67-a9e5-f498aa1d41ff",
   "metadata": {},
   "outputs": [],
   "source": [
    "import pandas as pd "
   ]
  },
  {
   "cell_type": "raw",
   "id": "f4d9dec5-ae21-442c-9f49-213d38146a2f",
   "metadata": {},
   "source": [
    "<img src=\"0.dataframe_series_image.png\" alt=\"drawing\" width=\"500\" /> "
   ]
  },
  {
   "cell_type": "raw",
   "id": "06328da7-18c5-48ee-bc89-acfd02d8e7e9",
   "metadata": {},
   "source": [
    "from IPython.display import Image\n",
    "Image(\"0.dataframe_series_image.png\" , height=300 , width=500) # code안에서 나오게  \n",
    "\n",
    "![title](dataframe_series_image.png) # markdown안에서 나오게 할 때.   \n",
    "<img src=\"dataframe_series_image.png\" alt=\"drawing\" width=\"500\" />  # markdown에서 사이즈 조절까지\n",
    "                                                                                                                                                                       # https://lucycle.tistory.com/282"
   ]
  },
  {
   "cell_type": "markdown",
   "id": "ce18d3f4-93a0-430d-b94e-f0d6d031d3db",
   "metadata": {},
   "source": []
  },
  {
   "cell_type": "markdown",
   "id": "4e1af9eb-ed0d-407b-b0c0-a5c062499e32",
   "metadata": {},
   "source": [
    "#### Series, DataFrame sample 만들기"
   ]
  },
  {
   "cell_type": "code",
   "execution_count": 14,
   "id": "a1bf55af-321d-4a09-aa72-e98a027ad30b",
   "metadata": {
    "tags": []
   },
   "outputs": [
    {
     "data": {
      "text/html": [
       "<div>\n",
       "<style scoped>\n",
       "    .dataframe tbody tr th:only-of-type {\n",
       "        vertical-align: middle;\n",
       "    }\n",
       "\n",
       "    .dataframe tbody tr th {\n",
       "        vertical-align: top;\n",
       "    }\n",
       "\n",
       "    .dataframe thead th {\n",
       "        text-align: right;\n",
       "    }\n",
       "</style>\n",
       "<table border=\"1\" class=\"dataframe\">\n",
       "  <thead>\n",
       "    <tr style=\"text-align: right;\">\n",
       "      <th></th>\n",
       "      <th>name</th>\n",
       "    </tr>\n",
       "  </thead>\n",
       "  <tbody>\n",
       "    <tr>\n",
       "      <th>United Kingdom</th>\n",
       "      <td>London</td>\n",
       "    </tr>\n",
       "    <tr>\n",
       "      <th>India</th>\n",
       "      <td>New Delhi</td>\n",
       "    </tr>\n",
       "    <tr>\n",
       "      <th>United States</th>\n",
       "      <td>Washington</td>\n",
       "    </tr>\n",
       "    <tr>\n",
       "      <th>Belgium</th>\n",
       "      <td>Brussels</td>\n",
       "    </tr>\n",
       "  </tbody>\n",
       "</table>\n",
       "</div>"
      ],
      "text/plain": [
       "                      name\n",
       "United Kingdom      London\n",
       "India            New Delhi\n",
       "United States   Washington\n",
       "Belgium           Brussels"
      ]
     },
     "metadata": {},
     "output_type": "display_data"
    }
   ],
   "source": [
    "my_series = pd.Series({\"United Kingdom\":\"London\", \"India\":\"New Delhi\", \"United States\":\"Washington\", \"Belgium\":\"Brussels\"})\n",
    "display(pd.DataFrame(my_series,columns = ['name']))"
   ]
  },
  {
   "cell_type": "code",
   "execution_count": 23,
   "id": "6657716b-df76-44e1-af41-a73399aca5ec",
   "metadata": {},
   "outputs": [
    {
     "data": {
      "text/html": [
       "<div>\n",
       "<style scoped>\n",
       "    .dataframe tbody tr th:only-of-type {\n",
       "        vertical-align: middle;\n",
       "    }\n",
       "\n",
       "    .dataframe tbody tr th {\n",
       "        vertical-align: top;\n",
       "    }\n",
       "\n",
       "    .dataframe thead th {\n",
       "        text-align: right;\n",
       "    }\n",
       "</style>\n",
       "<table border=\"1\" class=\"dataframe\">\n",
       "  <thead>\n",
       "    <tr style=\"text-align: right;\">\n",
       "      <th>alloy</th>\n",
       "      <th>5182</th>\n",
       "      <th>3104</th>\n",
       "      <th>6***</th>\n",
       "      <th>5***</th>\n",
       "    </tr>\n",
       "    <tr>\n",
       "      <th>factors</th>\n",
       "      <th></th>\n",
       "      <th></th>\n",
       "      <th></th>\n",
       "      <th></th>\n",
       "    </tr>\n",
       "  </thead>\n",
       "  <tbody>\n",
       "    <tr>\n",
       "      <th>mf3_batches</th>\n",
       "      <td>0</td>\n",
       "      <td>0</td>\n",
       "      <td>0</td>\n",
       "      <td>0</td>\n",
       "    </tr>\n",
       "    <tr>\n",
       "      <th>mf3_press_pv(std)</th>\n",
       "      <td>0</td>\n",
       "      <td>0</td>\n",
       "      <td>0</td>\n",
       "      <td>0</td>\n",
       "    </tr>\n",
       "    <tr>\n",
       "      <th>mf3_temp_pv(std)</th>\n",
       "      <td>0</td>\n",
       "      <td>0</td>\n",
       "      <td>0</td>\n",
       "      <td>0</td>\n",
       "    </tr>\n",
       "    <tr>\n",
       "      <th>mf4_batches</th>\n",
       "      <td>0</td>\n",
       "      <td>0</td>\n",
       "      <td>0</td>\n",
       "      <td>0</td>\n",
       "    </tr>\n",
       "    <tr>\n",
       "      <th>mf3_target_func</th>\n",
       "      <td>0</td>\n",
       "      <td>0</td>\n",
       "      <td>0</td>\n",
       "      <td>0</td>\n",
       "    </tr>\n",
       "    <tr>\n",
       "      <th>mf4_press_pv(std)</th>\n",
       "      <td>0</td>\n",
       "      <td>0</td>\n",
       "      <td>0</td>\n",
       "      <td>0</td>\n",
       "    </tr>\n",
       "    <tr>\n",
       "      <th>mf4_temp_pv(std)</th>\n",
       "      <td>0</td>\n",
       "      <td>0</td>\n",
       "      <td>0</td>\n",
       "      <td>0</td>\n",
       "    </tr>\n",
       "    <tr>\n",
       "      <th>mf4_target_func</th>\n",
       "      <td>0</td>\n",
       "      <td>0</td>\n",
       "      <td>0</td>\n",
       "      <td>0</td>\n",
       "    </tr>\n",
       "  </tbody>\n",
       "</table>\n",
       "</div>"
      ],
      "text/plain": [
       "alloy              5182  3104  6***  5***\n",
       "factors                                  \n",
       "mf3_batches           0     0     0     0\n",
       "mf3_press_pv(std)     0     0     0     0\n",
       "mf3_temp_pv(std)      0     0     0     0\n",
       "mf4_batches           0     0     0     0\n",
       "mf3_target_func       0     0     0     0\n",
       "mf4_press_pv(std)     0     0     0     0\n",
       "mf4_temp_pv(std)      0     0     0     0\n",
       "mf4_target_func       0     0     0     0"
      ]
     },
     "metadata": {},
     "output_type": "display_data"
    }
   ],
   "source": [
    "comp_mf34 = pd.DataFrame(\n",
    "    columns=['5182','3104','6***','5***'],\n",
    "    data=0,\n",
    "    index=['mf3_batches','mf3_press_pv(std)','mf3_temp_pv(std)','mf4_batches','mf3_target_func','mf4_press_pv(std)','mf4_temp_pv(std)','mf4_target_func'])\n",
    "\n",
    "comp_mf34.index.name = 'factors'\n",
    "comp_mf34.columns.name = 'alloy'\n",
    "\n",
    "display(comp_mf34)"
   ]
  },
  {
   "cell_type": "code",
   "execution_count": 15,
   "id": "c7ac6ec7-14fd-4135-a7bf-1bde06ba0f9a",
   "metadata": {},
   "outputs": [],
   "source": [
    "df2 = pd.DataFrame( { \n",
    "    'A' : 1 , \n",
    "    'B' : pd.Timestamp('20220913') , \n",
    "    'C' : pd.Series(1, index = list(range(4)), dtype = 'float32'),\n",
    "    'D': np.array([3]*4 ,dtype ='int32') , \n",
    "    'E': pd.Categorical(['text','train','text','train']), \n",
    "    'F' : 'foo' })"
   ]
  },
  {
   "cell_type": "markdown",
   "id": "fa0dd5a7-c98e-40d1-92ed-f40bc7e57b91",
   "metadata": {},
   "source": [
    "#### dataframe관련 조회 method및 속성 "
   ]
  },
  {
   "cell_type": "code",
   "execution_count": 25,
   "id": "e7363f25-e68a-43c5-8fca-4c785edb7d0c",
   "metadata": {},
   "outputs": [
    {
     "name": "stdout",
     "output_type": "stream",
     "text": [
      "datatype  조회 : \n",
      " A             int64\n",
      "B    datetime64[ns]\n",
      "C           float32\n",
      "D             int32\n",
      "E          category\n",
      "F            object\n",
      "dtype: object\n",
      "\n",
      "\n",
      "index내용 조회 : \n",
      " Int64Index([0, 1, 2, 3], dtype='int64')\n",
      "\n",
      "\n",
      "column명  조회 : \n",
      " Index(['A', 'B', 'C', 'D', 'E', 'F'], dtype='object')\n",
      "\n",
      "\n",
      "value     조회 : \n",
      " [[1 Timestamp('2022-09-13 00:00:00') 1.0 3 'text' 'foo']\n",
      " [1 Timestamp('2022-09-13 00:00:00') 1.0 3 'train' 'foo']\n",
      " [1 Timestamp('2022-09-13 00:00:00') 1.0 3 'text' 'foo']\n",
      " [1 Timestamp('2022-09-13 00:00:00') 1.0 3 'train' 'foo']]\n"
     ]
    }
   ],
   "source": [
    "print(\"datatype  조회 : \\n\",  df2.dtypes)  # type을 출력해 주는 함수 \n",
    "print(\"\\n\")\n",
    "print('index내용 조회 : \\n',  df2.index)    # 메서드(함수)는  () 가 필요 , 속성은 () 필요 x \n",
    "print(\"\\n\")\n",
    "print(\"column명  조회 : \\n\",  df2.columns)\n",
    "print(\"\\n\")\n",
    "print(\"value     조회 : \\n\",  df2.values)  # 데이터프레임의 값들 확인 "
   ]
  },
  {
   "cell_type": "markdown",
   "id": "8f1c680a-4b4d-4cd7-aaad-13b97f49bfe4",
   "metadata": {},
   "source": [
    "#### dataframe 정렬  "
   ]
  },
  {
   "cell_type": "code",
   "execution_count": 26,
   "id": "7b5702ab-52e6-42db-9442-88ac1213fcfa",
   "metadata": {},
   "outputs": [
    {
     "data": {
      "text/html": [
       "<div>\n",
       "<style scoped>\n",
       "    .dataframe tbody tr th:only-of-type {\n",
       "        vertical-align: middle;\n",
       "    }\n",
       "\n",
       "    .dataframe tbody tr th {\n",
       "        vertical-align: top;\n",
       "    }\n",
       "\n",
       "    .dataframe thead th {\n",
       "        text-align: right;\n",
       "    }\n",
       "</style>\n",
       "<table border=\"1\" class=\"dataframe\">\n",
       "  <thead>\n",
       "    <tr style=\"text-align: right;\">\n",
       "      <th></th>\n",
       "      <th>F</th>\n",
       "      <th>E</th>\n",
       "      <th>D</th>\n",
       "      <th>C</th>\n",
       "      <th>B</th>\n",
       "      <th>A</th>\n",
       "    </tr>\n",
       "  </thead>\n",
       "  <tbody>\n",
       "    <tr>\n",
       "      <th>0</th>\n",
       "      <td>foo</td>\n",
       "      <td>text</td>\n",
       "      <td>3</td>\n",
       "      <td>1.0</td>\n",
       "      <td>2022-09-13</td>\n",
       "      <td>1</td>\n",
       "    </tr>\n",
       "    <tr>\n",
       "      <th>1</th>\n",
       "      <td>foo</td>\n",
       "      <td>train</td>\n",
       "      <td>3</td>\n",
       "      <td>1.0</td>\n",
       "      <td>2022-09-13</td>\n",
       "      <td>1</td>\n",
       "    </tr>\n",
       "    <tr>\n",
       "      <th>2</th>\n",
       "      <td>foo</td>\n",
       "      <td>text</td>\n",
       "      <td>3</td>\n",
       "      <td>1.0</td>\n",
       "      <td>2022-09-13</td>\n",
       "      <td>1</td>\n",
       "    </tr>\n",
       "    <tr>\n",
       "      <th>3</th>\n",
       "      <td>foo</td>\n",
       "      <td>train</td>\n",
       "      <td>3</td>\n",
       "      <td>1.0</td>\n",
       "      <td>2022-09-13</td>\n",
       "      <td>1</td>\n",
       "    </tr>\n",
       "  </tbody>\n",
       "</table>\n",
       "</div>"
      ],
      "text/plain": [
       "     F      E  D    C          B  A\n",
       "0  foo   text  3  1.0 2022-09-13  1\n",
       "1  foo  train  3  1.0 2022-09-13  1\n",
       "2  foo   text  3  1.0 2022-09-13  1\n",
       "3  foo  train  3  1.0 2022-09-13  1"
      ]
     },
     "execution_count": 26,
     "metadata": {},
     "output_type": "execute_result"
    }
   ],
   "source": [
    "df2.sort_index(axis=1 , ascending= False)  \n",
    "                        # axis = 0 index 기준 //  axis =1 column 기준 \n",
    "                        # ascending = True -> 오름차순 \n",
    "                        # ascending = False -> 내림차순\n",
    "            \n",
    "#print(dir(df2))  #오브젝트가 가지고 있는 속성 및 메소드 확인"
   ]
  },
  {
   "cell_type": "code",
   "execution_count": 22,
   "id": "d0132454-35e9-4e48-8de8-4634eaa9c4a8",
   "metadata": {},
   "outputs": [
    {
     "data": {
      "text/html": [
       "<div>\n",
       "<style scoped>\n",
       "    .dataframe tbody tr th:only-of-type {\n",
       "        vertical-align: middle;\n",
       "    }\n",
       "\n",
       "    .dataframe tbody tr th {\n",
       "        vertical-align: top;\n",
       "    }\n",
       "\n",
       "    .dataframe thead th {\n",
       "        text-align: right;\n",
       "    }\n",
       "</style>\n",
       "<table border=\"1\" class=\"dataframe\">\n",
       "  <thead>\n",
       "    <tr style=\"text-align: right;\">\n",
       "      <th></th>\n",
       "      <th>A</th>\n",
       "      <th>B</th>\n",
       "      <th>C</th>\n",
       "      <th>D</th>\n",
       "      <th>E</th>\n",
       "      <th>F</th>\n",
       "    </tr>\n",
       "  </thead>\n",
       "  <tbody>\n",
       "    <tr>\n",
       "      <th>0</th>\n",
       "      <td>1</td>\n",
       "      <td>2022-09-13</td>\n",
       "      <td>1.0</td>\n",
       "      <td>3</td>\n",
       "      <td>text</td>\n",
       "      <td>foo</td>\n",
       "    </tr>\n",
       "    <tr>\n",
       "      <th>1</th>\n",
       "      <td>1</td>\n",
       "      <td>2022-09-13</td>\n",
       "      <td>1.0</td>\n",
       "      <td>3</td>\n",
       "      <td>train</td>\n",
       "      <td>foo</td>\n",
       "    </tr>\n",
       "    <tr>\n",
       "      <th>2</th>\n",
       "      <td>1</td>\n",
       "      <td>2022-09-13</td>\n",
       "      <td>1.0</td>\n",
       "      <td>3</td>\n",
       "      <td>text</td>\n",
       "      <td>foo</td>\n",
       "    </tr>\n",
       "    <tr>\n",
       "      <th>3</th>\n",
       "      <td>1</td>\n",
       "      <td>2022-09-13</td>\n",
       "      <td>1.0</td>\n",
       "      <td>3</td>\n",
       "      <td>train</td>\n",
       "      <td>foo</td>\n",
       "    </tr>\n",
       "  </tbody>\n",
       "</table>\n",
       "</div>"
      ],
      "text/plain": [
       "   A          B    C  D      E    F\n",
       "0  1 2022-09-13  1.0  3   text  foo\n",
       "1  1 2022-09-13  1.0  3  train  foo\n",
       "2  1 2022-09-13  1.0  3   text  foo\n",
       "3  1 2022-09-13  1.0  3  train  foo"
      ]
     },
     "execution_count": 22,
     "metadata": {},
     "output_type": "execute_result"
    }
   ],
   "source": [
    "df2.sort_values(by='C',ascending = False)"
   ]
  },
  {
   "cell_type": "code",
   "execution_count": 28,
   "id": "04ff83b7-5b57-409e-946b-80fb54f44c3e",
   "metadata": {},
   "outputs": [
    {
     "name": "stdout",
     "output_type": "stream",
     "text": [
      "A    1.0\n",
      "C    1.0\n",
      "D    3.0\n",
      "dtype: float64\n",
      "A    1.0\n",
      "C    1.0\n",
      "D    3.0\n",
      "dtype: float64\n",
      "0    1.666667\n",
      "1    1.666667\n",
      "2    1.666667\n",
      "3    1.666667\n",
      "dtype: float64\n"
     ]
    }
   ],
   "source": [
    "import warnings\n",
    "warnings.filterwarnings('ignore')\n",
    "\n",
    "print(df2.mean(0))  \n",
    "print(df2.mean())   # default 값 0 , column별  \n",
    "print(df2.mean(1))  # index 별 "
   ]
  },
  {
   "cell_type": "code",
   "execution_count": null,
   "id": "19d14932-6459-48df-9ca0-ad9a94048725",
   "metadata": {},
   "outputs": [],
   "source": []
  }
 ],
 "metadata": {
  "kernelspec": {
   "display_name": "Python 3 (ipykernel)",
   "language": "python",
   "name": "python3"
  },
  "language_info": {
   "codemirror_mode": {
    "name": "ipython",
    "version": 3
   },
   "file_extension": ".py",
   "mimetype": "text/x-python",
   "name": "python",
   "nbconvert_exporter": "python",
   "pygments_lexer": "ipython3",
   "version": "3.9.12"
  }
 },
 "nbformat": 4,
 "nbformat_minor": 5
}
