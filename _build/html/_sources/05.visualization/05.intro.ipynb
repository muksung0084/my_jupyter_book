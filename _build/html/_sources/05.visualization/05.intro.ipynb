{
 "cells": [
  {
   "cell_type": "markdown",
   "id": "ce3d255d-f5d4-4772-98a9-2d6eef659a84",
   "metadata": {},
   "source": [
    "# Intro"
   ]
  },
  {
   "cell_type": "markdown",
   "id": "696e99c8-50b2-4a98-8057-b395f5ef7481",
   "metadata": {},
   "source": [
    "<span style=\"color:blue\"> <font size=\"5\">Visualization</span> </font>"
   ]
  },
  {
   "cell_type": "markdown",
   "id": "aa981b29-53f3-415f-8ef1-6da4176dbb2f",
   "metadata": {},
   "source": [
    "데이터시각화는 데이터의 분포, 트렌드, 통계량등 여러가지 정보를 한눈에 보기쉽게 표현해 줍니다.\\\n",
    "이를 위해 사용되는 대표적인 라이브러리는 matplot, seaborn이 있습니다.\n",
    "\n",
    "시각화는 단순히 보여주기 그 이상의 포텐셜을 지녔습니다.\\\n",
    "개인적으로 저는 시각화를 통한 추세,trend분석을 데이터분석에 많이 활용합니다.\n",
    "> 제조업에서 사용되는 여러 machine signal들은 대량의 데이터를 시각화 해봄으로써\\\n",
    "> 교체주기파악, 설비의 이상증후등 시각화 만으로도 주요한 insight들을 파악할 수 있습니다.  \n"
   ]
  },
  {
   "cell_type": "markdown",
   "id": "e718cc7a-377d-42e4-9ff4-72650ec33ba1",
   "metadata": {},
   "source": [
    "특히, 시각화의 경우는 한번 코드를 짜 놓으면 중복하여 사용하기 매우 편리하기 때문에 시각화에 사용되는 여러 코드들을 정리해 보았습니다."
   ]
  },
  {
   "cell_type": "code",
   "execution_count": null,
   "id": "0bdedb20-3403-44b9-99be-940e395b13f4",
   "metadata": {},
   "outputs": [],
   "source": []
  }
 ],
 "metadata": {
  "kernelspec": {
   "display_name": "Python 3 (ipykernel)",
   "language": "python",
   "name": "python3"
  },
  "language_info": {
   "codemirror_mode": {
    "name": "ipython",
    "version": 3
   },
   "file_extension": ".py",
   "mimetype": "text/x-python",
   "name": "python",
   "nbconvert_exporter": "python",
   "pygments_lexer": "ipython3",
   "version": "3.9.7"
  }
 },
 "nbformat": 4,
 "nbformat_minor": 5
}
