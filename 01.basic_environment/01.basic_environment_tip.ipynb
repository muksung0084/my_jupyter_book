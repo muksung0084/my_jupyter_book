{
 "cells": [
  {
   "cell_type": "markdown",
   "id": "e24ad59e-774d-4d53-a576-68f16b407a76",
   "metadata": {
    "tags": []
   },
   "source": [
    "## code for basic environment setting"
   ]
  },
  {
   "cell_type": "raw",
   "id": "c032496d-f95f-408d-bbe1-fded43a661a5",
   "metadata": {},
   "source": []
  },
  {
   "cell_type": "code",
   "execution_count": 4,
   "id": "8dd9686e-435d-4b8a-bf54-d68cdd87a369",
   "metadata": {},
   "outputs": [],
   "source": [
    "# 불필요한 error 제거 \n",
    "\n",
    "import warnings\n",
    "warnings.filterwarnings('ignore')"
   ]
  },
  {
   "cell_type": "code",
   "execution_count": 3,
   "id": "7477b88a-0c7e-4347-9fa4-412ceaaa944b",
   "metadata": {},
   "outputs": [],
   "source": [
    "## 한글 폰트 사용시 폰트 깨짐 해결\n",
    "import platform \n",
    "import matplotlib.pyplot as plt\n",
    "\n",
    "if platform.system() == 'Darwin': #맥\n",
    "        plt.rc('font', family='AppleGothic')\n",
    "elif platform.system() == 'Windows': #윈도우\n",
    "        plt.rc('font', family='Malgun Gothic')\n",
    "elif platform.system() == 'Linux': #리눅스 (구글 콜랩)\n",
    "        plt.rc('font', family='Malgun Gothic')\n",
    "\n",
    "#한글 폰트 사용시 마이너스 폰트 깨짐 해결\n",
    "plt.rcParams['axes.unicode_minus'] = False"
   ]
  },
  {
   "cell_type": "code",
   "execution_count": null,
   "id": "b309157b-be60-406c-9274-0711254736c7",
   "metadata": {},
   "outputs": [],
   "source": [
    "# 경로확인 및 변경 \n",
    "\n",
    "import os\n",
    "print(os.getcwd())  # 경로 확인 \n",
    "path = 'C:\\\\Users\\\\limsun\\\\OneDrive - Novelis Inc\\\\Desktop\\\\Data Science\\\\0.personal_practice\\\\'  # 변경원하는 경로 \n",
    "\n",
    "os.chdir(path)  # 변경 \n",
    "\n",
    "print(os.getcwd())# 경로 확인 \n",
    "\n",
    "# 다른 경로에 있는 파일 불러올때\n",
    "path = 'C:\\\\Users\\\\limsun\\\\OneDrive - Novelis Inc\\\\Desktop\\\\Data Science\\\\0.통계관련 self study\\\\'\n",
    "pd.read_csv(path+'copy_of_the_training_data.csv') # ,sheet_name='excel'"
   ]
  },
  {
   "cell_type": "code",
   "execution_count": null,
   "id": "1e8dd5d6-23ec-49ac-9671-6ed97d297dff",
   "metadata": {},
   "outputs": [],
   "source": [
    "# 엑셀파일 sheet 여러개에 나누어 저장하고 싶을때.\n",
    "import pandas as pd \n",
    "with pd.ExcelWriter('request_result_rmu.xlsx') as writer:  # doctest: +SKIP\n",
    "    dc1_result.to_excel(writer, sheet_name='dc1_1')\n",
    "    dc2_result.to_excel(writer, sheet_name='dc2_2')"
   ]
  },
  {
   "cell_type": "code",
   "execution_count": 7,
   "id": "ca0a8202-b800-4bfc-8409-cf15bf9d3329",
   "metadata": {},
   "outputs": [],
   "source": [
    "# DataFrame의 출력을 소수점 자리수 제한\n",
    "import pandas as pd \n",
    "%precision 3 \n",
    "pd.set_option('precision',3)\n",
    "\n",
    "# 전체적인 출력 소수점 제한\n",
    "pd.options.display.float_format = '{:,.2f}'.format"
   ]
  },
  {
   "cell_type": "code",
   "execution_count": 8,
   "id": "6591fd3b-a28e-4b77-93ad-5b5ec463ee4b",
   "metadata": {},
   "outputs": [],
   "source": [
    "# DF 조회시 짤리는 컬럼,로우없이 확인 \n",
    "\n",
    "pd.set_option('display.width',120)\n",
    "pd.set_option('display.max_row', 500)\n",
    "pd.set_option('display.max_columns', 100)\n",
    "\n",
    "# 컬럼 셀 너비 관련 _ 정보 url \n",
    "                                                            # https://rfriend.tistory.com/487"
   ]
  },
  {
   "cell_type": "code",
   "execution_count": null,
   "id": "2981a6a9-6867-487d-be13-d69c596be2ae",
   "metadata": {},
   "outputs": [],
   "source": []
  }
 ],
 "metadata": {
  "kernelspec": {
   "display_name": "Python 3 (ipykernel)",
   "language": "python",
   "name": "python3"
  },
  "language_info": {
   "codemirror_mode": {
    "name": "ipython",
    "version": 3
   },
   "file_extension": ".py",
   "mimetype": "text/x-python",
   "name": "python",
   "nbconvert_exporter": "python",
   "pygments_lexer": "ipython3",
   "version": "3.9.7"
  }
 },
 "nbformat": 4,
 "nbformat_minor": 5
}
