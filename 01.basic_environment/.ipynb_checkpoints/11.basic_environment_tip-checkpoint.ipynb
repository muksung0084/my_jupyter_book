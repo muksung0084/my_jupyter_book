{
 "cells": [
  {
   "cell_type": "markdown",
   "id": "e24ad59e-774d-4d53-a576-68f16b407a76",
   "metadata": {
    "tags": []
   },
   "source": [
    "## code for basic environment setting"
   ]
  },
  {
   "cell_type": "raw",
   "id": "c032496d-f95f-408d-bbe1-fded43a661a5",
   "metadata": {},
   "source": []
  },
  {
   "cell_type": "markdown",
   "id": "57523351-f7e5-4b75-b6b3-3b347e2d52e3",
   "metadata": {},
   "source": [
    "#### 불필요한 error 제거 "
   ]
  },
  {
   "cell_type": "code",
   "execution_count": 1,
   "id": "8dd9686e-435d-4b8a-bf54-d68cdd87a369",
   "metadata": {},
   "outputs": [],
   "source": [
    "import warnings\n",
    "warnings.filterwarnings('ignore')"
   ]
  },
  {
   "cell_type": "markdown",
   "id": "67ff4bf7-df20-44b9-ac7d-bad32fae5d20",
   "metadata": {},
   "source": [
    "#### 한글 폰트 사용시 폰트 깨짐 해결"
   ]
  },
  {
   "cell_type": "code",
   "execution_count": 4,
   "id": "7477b88a-0c7e-4347-9fa4-412ceaaa944b",
   "metadata": {},
   "outputs": [],
   "source": [
    "import platform \n",
    "import matplotlib.pyplot as plt\n",
    "\n",
    "if platform.system() == 'Darwin': #맥\n",
    "        plt.rc('font', family='AppleGothic')\n",
    "elif platform.system() == 'Windows': #윈도우\n",
    "        plt.rc('font', family='Malgun Gothic')\n",
    "elif platform.system() == 'Linux': #리눅스 (구글 콜랩)\n",
    "        plt.rc('font', family='Malgun Gothic')\n",
    "\n",
    "#한글 폰트 사용시 마이너스 폰트 깨짐 해결\n",
    "plt.rcParams['axes.unicode_minus'] = False"
   ]
  },
  {
   "cell_type": "markdown",
   "id": "3911edf2-7485-4890-a05e-6bcf4010c55c",
   "metadata": {},
   "source": [
    "#### 경로확인 및 변경 "
   ]
  },
  {
   "cell_type": "code",
   "execution_count": 6,
   "id": "b309157b-be60-406c-9274-0711254736c7",
   "metadata": {},
   "outputs": [],
   "source": [
    "import os \n",
    "\n",
    "## 경로 확인 \n",
    "#   print(os.getcwd()) \n",
    "\n",
    "## 변경원하는 경로\n",
    "#   path = 'C:\\\\Users\\\\limsun\\\\OneDrive - Novelis Inc\\\\Desktop\\\\Data Science\\\\0.personal_practice\\\\' \n",
    "\n",
    "## 경로 변경\n",
    "#   os.chdir(path) \n",
    "\n",
    "## 다른 경로에 있는 파일 불러올때\n",
    "#   path = 'C:\\\\Users\\\\limsun\\\\OneDrive - Novelis Inc\\\\Desktop\\\\Data Science\\\\0.통계관련 self study\\\\'\n",
    "#   pd.read_csv(path+'copy_of_the_training_data.csv') # ,sheet_name='excel' "
   ]
  },
  {
   "cell_type": "markdown",
   "id": "44197f5d-edee-406a-898d-0f558ef6aa20",
   "metadata": {},
   "source": [
    "#### 엑셀파일 sheet 여러개에 나누어 저장하고 싶을때."
   ]
  },
  {
   "cell_type": "code",
   "execution_count": null,
   "id": "1e8dd5d6-23ec-49ac-9671-6ed97d297dff",
   "metadata": {},
   "outputs": [],
   "source": [
    "import pandas as pd \n",
    "#  with pd.ExcelWriter('request_result_rmu.xlsx') as writer:  # doctest: +SKIP\n",
    "#     dc1_result.to_excel(writer, sheet_name='dc1_1')\n",
    "#     dc2_result.to_excel(writer, sheet_name='dc2_2')"
   ]
  },
  {
   "cell_type": "markdown",
   "id": "6632e7b1-84f4-49a7-9d03-b46b14f4f67d",
   "metadata": {},
   "source": [
    "#### DataFrame의 출력을 소수점 자리수 제한"
   ]
  },
  {
   "cell_type": "code",
   "execution_count": 9,
   "id": "ca0a8202-b800-4bfc-8409-cf15bf9d3329",
   "metadata": {},
   "outputs": [],
   "source": [
    "import pandas as pd \n",
    "\n",
    "# 전체적인 출력 소수점 제한\n",
    "pd.options.display.float_format = '{:,.2f}'.format"
   ]
  },
  {
   "cell_type": "markdown",
   "id": "4894efb3-1010-4947-84b7-347c97e3ecca",
   "metadata": {},
   "source": [
    "#### DF 조회시 짤리는 컬럼,로우없이 확인 "
   ]
  },
  {
   "cell_type": "code",
   "execution_count": 10,
   "id": "6591fd3b-a28e-4b77-93ad-5b5ec463ee4b",
   "metadata": {},
   "outputs": [],
   "source": [
    "pd.set_option('display.width',120)\n",
    "pd.set_option('display.max_row', 500)\n",
    "pd.set_option('display.max_columns', 100)\n",
    "\n",
    "# 컬럼 셀 너비 관련 _ 정보 url \n",
    "#    https://rfriend.tistory.com/487"
   ]
  },
  {
   "cell_type": "code",
   "execution_count": null,
   "id": "2981a6a9-6867-487d-be13-d69c596be2ae",
   "metadata": {},
   "outputs": [],
   "source": []
  }
 ],
 "metadata": {
  "kernelspec": {
   "display_name": "Python 3 (ipykernel)",
   "language": "python",
   "name": "python3"
  },
  "language_info": {
   "codemirror_mode": {
    "name": "ipython",
    "version": 3
   },
   "file_extension": ".py",
   "mimetype": "text/x-python",
   "name": "python",
   "nbconvert_exporter": "python",
   "pygments_lexer": "ipython3",
   "version": "3.9.12"
  }
 },
 "nbformat": 4,
 "nbformat_minor": 5
}
