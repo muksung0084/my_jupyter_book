{
 "cells": [
  {
   "cell_type": "markdown",
   "id": "b5ae1417-e0d8-4854-9013-1487a68d5489",
   "metadata": {
    "tags": []
   },
   "source": [
    "## Str type handling"
   ]
  },
  {
   "cell_type": "markdown",
   "id": "91e2ca9e-96d4-4d4d-b7a5-826765a1cc13",
   "metadata": {},
   "source": []
  },
  {
   "cell_type": "code",
   "execution_count": null,
   "id": "9b28f9da-c943-4a33-9536-de073748e3be",
   "metadata": {},
   "outputs": [],
   "source": [
    "# 문자열 처리 관련 함수. \n",
    ">> 1. split --> 해당 obstacle을 기준으로 문자열을 나눈다.\n",
    ">>> df[].str.split('-')\n",
    "\n",
    ">> 2. replace --> 해당 obstacle을 다른 것으로 대체한다. \n",
    ">>> df[].str.replace('-','') -를 공백없는 칸으로 매운다.\n",
    "\n",
    ">> 3. strip --> 값에 공백만 존재하는 경우, 문자열 값의 앞뒤로 공백이 존재하는 경우 이를 없애고 싶을때 \n",
    ">>> df[].str.strip()  \n",
    "\n",
    ">> 4. str  -->원하는 부분의 문자열만 끈고 싶을때\n",
    ">>> dataframe['series'].str[:] "
   ]
  },
  {
   "cell_type": "markdown",
   "id": "910a511e-28c2-47c5-8e70-a651eb4f8d2f",
   "metadata": {},
   "source": []
  }
 ],
 "metadata": {
  "kernelspec": {
   "display_name": "Python 3 (ipykernel)",
   "language": "python",
   "name": "python3"
  },
  "language_info": {
   "codemirror_mode": {
    "name": "ipython",
    "version": 3
   },
   "file_extension": ".py",
   "mimetype": "text/x-python",
   "name": "python",
   "nbconvert_exporter": "python",
   "pygments_lexer": "ipython3",
   "version": "3.9.7"
  }
 },
 "nbformat": 4,
 "nbformat_minor": 5
}
