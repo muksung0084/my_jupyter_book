{
 "cells": [
  {
   "cell_type": "markdown",
   "id": "ce3d255d-f5d4-4772-98a9-2d6eef659a84",
   "metadata": {},
   "source": [
    "# Intro _ Pandas"
   ]
  },
  {
   "cell_type": "markdown",
   "id": "696e99c8-50b2-4a98-8057-b395f5ef7481",
   "metadata": {},
   "source": [
    "<span style=\"color:blue\"> <font size=\"5\">Pandas</span> </font>"
   ]
  },
  {
   "cell_type": "markdown",
   "id": "aa981b29-53f3-415f-8ef1-6da4176dbb2f",
   "metadata": {},
   "source": [
    "데이터의 정형화된 형태는 데이터를 파악하고, 분석하는 과정에서 많은 이점을 갖습니다.\\\n",
    "따라서, 저희가 분석해야할 데이터들을 엑셀시트와 같이 정형화된 틀에 맞추어준다면 좋을 것입니다.\\\n",
    "이렇게 저희가 분석해야할 데이터들을 1,2차원의 형태로 구성하여 하나의 프레임 형태를 갖추어주는 기능을 제공하는 것이 \"Pandas\"라이브러리 입니다.\\\n",
    "또한, 데이터프레임 형태의 데이터들을 분석하는데 있어 다른 유용한 기능을 제공합니다.\n",
    "\n",
    "> 원소를 세로 방향으로 정렬한 1차원 자료 구조 -> Series\\\n",
    "> 1차원 Series를 원소로 하여 2차원 자료구조를 갖는 -> DataFrame\n",
    "\n",
    "dataframe형태의 데이터셋을 다룰때 유용한 tip들을 정리해 보았습니다."
   ]
  },
  {
   "cell_type": "markdown",
   "id": "e718cc7a-377d-42e4-9ff4-72650ec33ba1",
   "metadata": {},
   "source": []
  }
 ],
 "metadata": {
  "kernelspec": {
   "display_name": "Python 3 (ipykernel)",
   "language": "python",
   "name": "python3"
  },
  "language_info": {
   "codemirror_mode": {
    "name": "ipython",
    "version": 3
   },
   "file_extension": ".py",
   "mimetype": "text/x-python",
   "name": "python",
   "nbconvert_exporter": "python",
   "pygments_lexer": "ipython3",
   "version": "3.9.12"
  }
 },
 "nbformat": 4,
 "nbformat_minor": 5
}
