{
 "cells": [
  {
   "cell_type": "markdown",
   "id": "b5ae1417-e0d8-4854-9013-1487a68d5489",
   "metadata": {
    "tags": []
   },
   "source": [
    "## Str type handling"
   ]
  },
  {
   "cell_type": "code",
   "execution_count": 4,
   "id": "408a8d94-03ba-42ba-84a2-8729006dbfda",
   "metadata": {},
   "outputs": [],
   "source": [
    "import pandas as pd \n",
    "import numpy as np"
   ]
  },
  {
   "cell_type": "code",
   "execution_count": 13,
   "id": "ff758c54-bf69-4cae-998a-9e8e53a1cda4",
   "metadata": {},
   "outputs": [],
   "source": [
    "s = pd.Series(['A','B','A-B C','B CD',np.nan,'dog ','c-a-t',' 1 '])\n",
    "df = pd.DataFrame(s,columns = ['data'])"
   ]
  },
  {
   "cell_type": "code",
   "execution_count": null,
   "id": "8a70904b-7cdd-411e-98a4-f9c6d5d8b0b3",
   "metadata": {},
   "outputs": [],
   "source": []
  },
  {
   "cell_type": "markdown",
   "id": "07955003-dc5b-422c-bad2-da780764515b",
   "metadata": {},
   "source": [
    "1. split --> 해당 obstacle을 기준으로 문자열을 나눈다."
   ]
  },
  {
   "cell_type": "code",
   "execution_count": 16,
   "id": "3d2bb450-7436-4eb3-9476-1d95ae3ed5d6",
   "metadata": {},
   "outputs": [
    {
     "data": {
      "text/plain": [
       "0          [A]\n",
       "1          [B]\n",
       "2     [A, B C]\n",
       "3       [B CD]\n",
       "4          NaN\n",
       "5       [dog ]\n",
       "6    [c, a, t]\n",
       "7        [ 1 ]\n",
       "Name: data, dtype: object"
      ]
     },
     "execution_count": 16,
     "metadata": {},
     "output_type": "execute_result"
    }
   ],
   "source": [
    "df['data'].str.split('-')"
   ]
  },
  {
   "cell_type": "markdown",
   "id": "3262889d-b68c-40e6-928a-e56969da05cc",
   "metadata": {},
   "source": [
    "2. replace --> 해당 obstacle을 다른 것으로 대체한다. "
   ]
  },
  {
   "cell_type": "code",
   "execution_count": 17,
   "id": "613e43be-c00d-43e0-ab04-b5ce1823e3b5",
   "metadata": {},
   "outputs": [
    {
     "data": {
      "text/plain": [
       "0       A\n",
       "1       B\n",
       "2    AB C\n",
       "3    B CD\n",
       "4     NaN\n",
       "5    dog \n",
       "6     cat\n",
       "7      1 \n",
       "Name: data, dtype: object"
      ]
     },
     "execution_count": 17,
     "metadata": {},
     "output_type": "execute_result"
    }
   ],
   "source": [
    "df['data'].str.replace('-','')"
   ]
  },
  {
   "cell_type": "markdown",
   "id": "d7cc5372-ea52-4a77-9b3e-fe54e446969d",
   "metadata": {},
   "source": [
    "3. strip --> 값에 공백만 존재하는 경우, 문자열 값의 앞뒤로 공백이 존재하는 경우 이를 없애고 싶을때"
   ]
  },
  {
   "cell_type": "code",
   "execution_count": 19,
   "id": "82d52760-74e4-45c7-8845-3dc012d5a868",
   "metadata": {},
   "outputs": [
    {
     "data": {
      "text/plain": [
       "0        A\n",
       "1        B\n",
       "2    A-B C\n",
       "3     B CD\n",
       "4      NaN\n",
       "5      dog\n",
       "6    c-a-t\n",
       "7        1\n",
       "Name: data, dtype: object"
      ]
     },
     "execution_count": 19,
     "metadata": {},
     "output_type": "execute_result"
    }
   ],
   "source": [
    "df['data'].str.strip()"
   ]
  },
  {
   "cell_type": "markdown",
   "id": "6bc47c8d-048a-4a8b-9632-830d782645eb",
   "metadata": {},
   "source": [
    "4. str  -->원하는 부분의 문자열만 끈고 싶을때"
   ]
  },
  {
   "cell_type": "code",
   "execution_count": 22,
   "id": "8608873f-5d63-48b6-b69f-95326eecf570",
   "metadata": {},
   "outputs": [
    {
     "data": {
      "text/plain": [
       "0      A\n",
       "1      B\n",
       "2     A-\n",
       "3     B \n",
       "4    NaN\n",
       "5     do\n",
       "6     c-\n",
       "7      1\n",
       "Name: data, dtype: object"
      ]
     },
     "execution_count": 22,
     "metadata": {},
     "output_type": "execute_result"
    }
   ],
   "source": [
    "df['data'].str[:2]"
   ]
  },
  {
   "cell_type": "markdown",
   "id": "a3d69bb2-77e6-4858-8172-44eb08bc421f",
   "metadata": {},
   "source": [
    "5. str  --> 소문자, 대문자"
   ]
  },
  {
   "cell_type": "code",
   "execution_count": 23,
   "id": "7f4a5820-6b3b-4dc2-94bb-2b2b64acfed0",
   "metadata": {},
   "outputs": [
    {
     "data": {
      "text/plain": [
       "0        a\n",
       "1        b\n",
       "2    a-b c\n",
       "3     b cd\n",
       "4      NaN\n",
       "5     dog \n",
       "6    c-a-t\n",
       "7       1 \n",
       "Name: data, dtype: object"
      ]
     },
     "execution_count": 23,
     "metadata": {},
     "output_type": "execute_result"
    }
   ],
   "source": [
    "df['data'].str.lower()"
   ]
  },
  {
   "cell_type": "code",
   "execution_count": 24,
   "id": "1642abe6-ba97-44c2-8c95-3edafd458566",
   "metadata": {},
   "outputs": [
    {
     "data": {
      "text/plain": [
       "0        A\n",
       "1        B\n",
       "2    A-B C\n",
       "3     B CD\n",
       "4      NaN\n",
       "5     DOG \n",
       "6    C-A-T\n",
       "7       1 \n",
       "Name: data, dtype: object"
      ]
     },
     "execution_count": 24,
     "metadata": {},
     "output_type": "execute_result"
    }
   ],
   "source": [
    "df['data'].str.upper()"
   ]
  },
  {
   "cell_type": "code",
   "execution_count": null,
   "id": "44d6445b-c0b7-4b51-b3c8-daa98060f350",
   "metadata": {},
   "outputs": [],
   "source": []
  }
 ],
 "metadata": {
  "kernelspec": {
   "display_name": "Python 3 (ipykernel)",
   "language": "python",
   "name": "python3"
  },
  "language_info": {
   "codemirror_mode": {
    "name": "ipython",
    "version": 3
   },
   "file_extension": ".py",
   "mimetype": "text/x-python",
   "name": "python",
   "nbconvert_exporter": "python",
   "pygments_lexer": "ipython3",
   "version": "3.9.12"
  }
 },
 "nbformat": 4,
 "nbformat_minor": 5
}
