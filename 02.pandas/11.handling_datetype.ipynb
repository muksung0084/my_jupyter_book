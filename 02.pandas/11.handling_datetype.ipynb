{
 "cells": [
  {
   "cell_type": "markdown",
   "id": "9dea74ee-4c1c-416a-827c-d671f316bd2d",
   "metadata": {},
   "source": [
    "## Datetype handling"
   ]
  },
  {
   "cell_type": "raw",
   "id": "1b1ea34a-1d79-44cd-a933-2368b7750c1c",
   "metadata": {},
   "source": []
  },
  {
   "cell_type": "raw",
   "id": "5fddbcc4-7561-4a9e-b8cd-6645a76875ab",
   "metadata": {},
   "source": [
    "datetime 표현 관련. \n",
    "\n",
    "df['Birth_date']       = df['Birth'].dt.date         # YYYY-MM-DD(문자)\n",
    "df['Birth_year']       = df['Birth'].dt.year         # 연(4자리숫자)\n",
    "df['Birth_month']      = df['Birth'].dt.month        # 월(숫자)\n",
    "df['Birth_month_name'] = df['Birth'].dt.month_name() # 월(문자)\n",
    "\n",
    "df['Birth_day']        = df['Birth'].dt.day          # 일(숫자)\n",
    "df['Birth_time']       = df['Birth'].dt.time         # HH:MM:SS(문자)\n",
    "df['Birth_hour']       = df['Birth'].dt.hour         # 시(숫자)\n",
    "df['Birth_minute']     = df['Birth'].dt.minute       # 분(숫자)\n",
    "df['Birth_second']     = df['Birth'].dt.second       # 초(숫자)\n",
    "\n",
    "df['Birth_quarter']       = df['Birth'].dt.quarter       # 분기(숫자)\n",
    "df['Birth_weekday_name']  = df['Birth'].dt.weekday_name  # 요일이름(문자) (=day_name())\n",
    "df['Birth_weekday']       = df['Birth'].dt.weekday       # 요일숫자(0-월, 1-화) (=dayofweek)\n",
    "df['Birth_weekofyear']    = df['Birth'].dt.weekofyear    # 연 기준 몇주째(숫자) (=week)\n",
    "df['Birth_dayofyear']     = df['Birth'].dt.dayofyear     # 연 기준 몇일째(숫자)\n",
    "df['Birth_days_in_month'] = df['Birth'].dt.days_in_month # 월 일수(숫자) (=daysinmonth)"
   ]
  },
  {
   "cell_type": "raw",
   "id": "a537ff50-2f10-42fb-9015-4992cc9b0874",
   "metadata": {},
   "source": []
  },
  {
   "cell_type": "markdown",
   "id": "d304a1dc-6ac6-4208-bf72-fc8cd78de331",
   "metadata": {},
   "source": [
    "### datetime 연산\n"
   ]
  },
  {
   "cell_type": "code",
   "execution_count": 2,
   "id": "f442f2fb-bc21-41ff-b460-cff11774b395",
   "metadata": {},
   "outputs": [],
   "source": [
    "import pandas as pd \n",
    "from datetime import datetime\n",
    "import time\n",
    "\n",
    "time_data_sample = []\n",
    "for i in range(10) :\n",
    "    time_data_sample.append(datetime.now())\n",
    "    time.sleep(1)\n",
    "    \n",
    "df_time = pd.DataFrame(time_data_sample , columns=['time_now'])"
   ]
  },
  {
   "cell_type": "code",
   "execution_count": null,
   "id": "c5d2c994-11b6-4e91-a46b-fbe8175b5647",
   "metadata": {},
   "outputs": [],
   "source": [
    "print('days 환산 : ', (now - df_time['time_datetime'][0]).days)\n",
    "print('seconds 환산 : ', (now - df_time['time_datetime'][0]).seconds)\n",
    "print('mins 환산 : ', (now - df_time['time_datetime'][0]).seconds/60)\n",
    "print('time 환산 : ', (now - df_time['time_datetime'][0]).seconds/3600)"
   ]
  },
  {
   "cell_type": "code",
   "execution_count": null,
   "id": "9a01f020-c983-4efa-97fe-ded8503a43f8",
   "metadata": {},
   "outputs": [],
   "source": [
    "print('now       : ' , now )\n",
    "print('days 연산 : ', now + timedelta(days=2) )\n",
    "print('time 연산 : ' , now + timedelta(hours=23))\n",
    "print('mixed 연산 : ' , now + timedelta(days = 1 , hours=1, minutes=20, seconds=30))"
   ]
  },
  {
   "cell_type": "raw",
   "id": "88f6abee-26d5-46f3-82d1-f0b58794f6d5",
   "metadata": {},
   "source": []
  },
  {
   "cell_type": "markdown",
   "id": "14333e08-348c-499f-b4d7-7db59c5a959b",
   "metadata": {},
   "source": [
    "### date time <-> str 변환 "
   ]
  },
  {
   "cell_type": "raw",
   "id": "adc1e6d8-a933-48c2-84e0-d3ebfcee58f3",
   "metadata": {},
   "source": [
    "날짜와 시간(datetime)  --> 문자열 : strftime    \n",
    "date = now.strftime(%Y-%m-%d)  // series가 아닌 단순히 하나의 문자열 data인 경우 // \n",
    "\n",
    "series type에 적용을 원하면 df['a'].dt.strftime(~~)"
   ]
  },
  {
   "cell_type": "code",
   "execution_count": null,
   "id": "9dd9c730-942a-4cd2-9925-5a513e2d3b8a",
   "metadata": {},
   "outputs": [],
   "source": [
    "df_time['time_str'] = df_time['time_datetime'].dt.strftime('%Y - %m - %d %H:%M:%S')"
   ]
  },
  {
   "cell_type": "raw",
   "id": "1347581f-d999-44bc-8fe0-ca5f50db8d74",
   "metadata": {},
   "source": [
    "문자열 --> datetime type으로 변환 : strptime     \n",
    "datetime.strptime(원하는 문자열 , 원하는 형태 '%Y - %m - %d %H:%M:%S' )    \n",
    "series type에 적용르 원하면, [ list comprehension 리스트컴프리핸션을 이용 ]"
   ]
  },
  {
   "cell_type": "code",
   "execution_count": null,
   "id": "f01d3a9b-6e82-44ef-b644-bcb1fe20a59b",
   "metadata": {},
   "outputs": [],
   "source": [
    "df_time['str-datetime'] = [ datetime.strptime(i,'%Y - %m - %d %H:%M:%S') for i in df_time['time_str']]"
   ]
  },
  {
   "cell_type": "raw",
   "id": "e602d548-9ed1-4fea-9d9c-73747dbca402",
   "metadata": {},
   "source": []
  }
 ],
 "metadata": {
  "kernelspec": {
   "display_name": "Python 3 (ipykernel)",
   "language": "python",
   "name": "python3"
  },
  "language_info": {
   "codemirror_mode": {
    "name": "ipython",
    "version": 3
   },
   "file_extension": ".py",
   "mimetype": "text/x-python",
   "name": "python",
   "nbconvert_exporter": "python",
   "pygments_lexer": "ipython3",
   "version": "3.9.7"
  }
 },
 "nbformat": 4,
 "nbformat_minor": 5
}
