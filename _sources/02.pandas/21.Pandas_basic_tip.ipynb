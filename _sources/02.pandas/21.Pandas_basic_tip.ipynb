{
 "cells": [
  {
   "cell_type": "markdown",
   "id": "91c1b8e1-9672-4317-9dcc-5eb74e10560e",
   "metadata": {},
   "source": [
    "## Pandas basic _ tips "
   ]
  },
  {
   "cell_type": "markdown",
   "id": "a1a9f6ab-5f10-4446-b796-45fca3a744dc",
   "metadata": {},
   "source": []
  },
  {
   "cell_type": "code",
   "execution_count": 2,
   "id": "a657c804-835a-4b67-a9e5-f498aa1d41ff",
   "metadata": {},
   "outputs": [],
   "source": [
    "import pandas as pd "
   ]
  },
  {
   "cell_type": "raw",
   "id": "6755dceb-ecfa-4d21-b0a6-a45bd8b2541b",
   "metadata": {},
   "source": [
    "<img src=\"0.dataframe_series_image.png\" alt=\"drawing\" width=\"500\" /> "
   ]
  },
  {
   "cell_type": "raw",
   "id": "2f24c484-eb51-47fc-8810-8295688ef261",
   "metadata": {},
   "source": [
    "from IPython.display import Image\n",
    "Image(\"0.dataframe_series_image.png\" , height=300 , width=500) # code안에서 나오게  \n",
    "\n",
    "![title](dataframe_series_image.png) # markdown안에서 나오게 할 때.   \n",
    "<img src=\"dataframe_series_image.png\" alt=\"drawing\" width=\"500\" />  # markdown에서 사이즈 조절까지\n",
    "                                                                                                                                                                            # https://lucycle.tistory.com/282"
   ]
  },
  {
   "cell_type": "markdown",
   "id": "ce18d3f4-93a0-430d-b94e-f0d6d031d3db",
   "metadata": {},
   "source": []
  },
  {
   "cell_type": "markdown",
   "id": "4e1af9eb-ed0d-407b-b0c0-a5c062499e32",
   "metadata": {},
   "source": [
    "#### Series, DataFrame sample 만들기"
   ]
  },
  {
   "cell_type": "code",
   "execution_count": 6,
   "id": "a1bf55af-321d-4a09-aa72-e98a027ad30b",
   "metadata": {
    "tags": []
   },
   "outputs": [
    {
     "data": {
      "text/html": [
       "<div>\n",
       "<style scoped>\n",
       "    .dataframe tbody tr th:only-of-type {\n",
       "        vertical-align: middle;\n",
       "    }\n",
       "\n",
       "    .dataframe tbody tr th {\n",
       "        vertical-align: top;\n",
       "    }\n",
       "\n",
       "    .dataframe thead th {\n",
       "        text-align: right;\n",
       "    }\n",
       "</style>\n",
       "<table border=\"1\" class=\"dataframe\">\n",
       "  <thead>\n",
       "    <tr style=\"text-align: right;\">\n",
       "      <th></th>\n",
       "      <th>0</th>\n",
       "    </tr>\n",
       "  </thead>\n",
       "  <tbody>\n",
       "    <tr>\n",
       "      <th>United Kingdom</th>\n",
       "      <td>London</td>\n",
       "    </tr>\n",
       "    <tr>\n",
       "      <th>India</th>\n",
       "      <td>New Delhi</td>\n",
       "    </tr>\n",
       "    <tr>\n",
       "      <th>United States</th>\n",
       "      <td>Washington</td>\n",
       "    </tr>\n",
       "    <tr>\n",
       "      <th>Belgium</th>\n",
       "      <td>Brussels</td>\n",
       "    </tr>\n",
       "  </tbody>\n",
       "</table>\n",
       "</div>"
      ],
      "text/plain": [
       "                         0\n",
       "United Kingdom      London\n",
       "India            New Delhi\n",
       "United States   Washington\n",
       "Belgium           Brussels"
      ]
     },
     "metadata": {},
     "output_type": "display_data"
    }
   ],
   "source": [
    "my_series = pd.Series({\"United Kingdom\":\"London\", \"India\":\"New Delhi\", \"United States\":\"Washington\", \"Belgium\":\"Brussels\"})\n",
    "display(pd.DataFrame(my_series))"
   ]
  },
  {
   "cell_type": "markdown",
   "id": "632e740a-641e-4fc9-832d-c4bb40c46345",
   "metadata": {},
   "source": []
  },
  {
   "cell_type": "code",
   "execution_count": 8,
   "id": "ee380851-4056-4c13-95cf-78a6e5e3ebc2",
   "metadata": {},
   "outputs": [
    {
     "data": {
      "text/html": [
       "<div>\n",
       "<style scoped>\n",
       "    .dataframe tbody tr th:only-of-type {\n",
       "        vertical-align: middle;\n",
       "    }\n",
       "\n",
       "    .dataframe tbody tr th {\n",
       "        vertical-align: top;\n",
       "    }\n",
       "\n",
       "    .dataframe thead th {\n",
       "        text-align: right;\n",
       "    }\n",
       "</style>\n",
       "<table border=\"1\" class=\"dataframe\">\n",
       "  <thead>\n",
       "    <tr style=\"text-align: right;\">\n",
       "      <th></th>\n",
       "      <th>type</th>\n",
       "      <th>a</th>\n",
       "    </tr>\n",
       "  </thead>\n",
       "  <tbody>\n",
       "    <tr>\n",
       "      <th>1</th>\n",
       "      <td>k</td>\n",
       "      <td>1.0</td>\n",
       "    </tr>\n",
       "    <tr>\n",
       "      <th>2</th>\n",
       "      <td>k</td>\n",
       "      <td>2.0</td>\n",
       "    </tr>\n",
       "    <tr>\n",
       "      <th>3</th>\n",
       "      <td>k</td>\n",
       "      <td>3.0</td>\n",
       "    </tr>\n",
       "    <tr>\n",
       "      <th>4</th>\n",
       "      <td>y</td>\n",
       "      <td>4.0</td>\n",
       "    </tr>\n",
       "    <tr>\n",
       "      <th>5</th>\n",
       "      <td>y</td>\n",
       "      <td>5.0</td>\n",
       "    </tr>\n",
       "    <tr>\n",
       "      <th>6</th>\n",
       "      <td>y</td>\n",
       "      <td>6.0</td>\n",
       "    </tr>\n",
       "    <tr>\n",
       "      <th>7</th>\n",
       "      <td>y</td>\n",
       "      <td>7.0</td>\n",
       "    </tr>\n",
       "    <tr>\n",
       "      <th>8</th>\n",
       "      <td>k</td>\n",
       "      <td>NaN</td>\n",
       "    </tr>\n",
       "  </tbody>\n",
       "</table>\n",
       "</div>"
      ],
      "text/plain": [
       "  type    a\n",
       "1    k  1.0\n",
       "2    k  2.0\n",
       "3    k  3.0\n",
       "4    y  4.0\n",
       "5    y  5.0\n",
       "6    y  6.0\n",
       "7    y  7.0\n",
       "8    k  NaN"
      ]
     },
     "metadata": {},
     "output_type": "display_data"
    }
   ],
   "source": [
    "# numpy를 활용한  df\n",
    "import numpy as np\n",
    "sample = pd.DataFrame({'type' : ['k','k','k','y','y','y','y','k'],\n",
    "                       'a' : [1,2,3,4,5,6,7,np.NaN]},index=[1,2,3,4,5,6,7,8])\n",
    "display(pd.DataFrame(sample))"
   ]
  },
  {
   "cell_type": "markdown",
   "id": "e72ef72b-cfe6-4f8c-bd9a-213283c8ba78",
   "metadata": {},
   "source": []
  },
  {
   "cell_type": "code",
   "execution_count": 5,
   "id": "5c79dc95-9ed4-4dcc-86aa-bc09e7f19f1f",
   "metadata": {},
   "outputs": [
    {
     "data": {
      "text/html": [
       "<div>\n",
       "<style scoped>\n",
       "    .dataframe tbody tr th:only-of-type {\n",
       "        vertical-align: middle;\n",
       "    }\n",
       "\n",
       "    .dataframe tbody tr th {\n",
       "        vertical-align: top;\n",
       "    }\n",
       "\n",
       "    .dataframe thead th {\n",
       "        text-align: right;\n",
       "    }\n",
       "</style>\n",
       "<table border=\"1\" class=\"dataframe\">\n",
       "  <thead>\n",
       "    <tr style=\"text-align: right;\">\n",
       "      <th>alloy</th>\n",
       "      <th>5182</th>\n",
       "      <th>3104</th>\n",
       "      <th>6***</th>\n",
       "      <th>5***</th>\n",
       "    </tr>\n",
       "    <tr>\n",
       "      <th>factors</th>\n",
       "      <th></th>\n",
       "      <th></th>\n",
       "      <th></th>\n",
       "      <th></th>\n",
       "    </tr>\n",
       "  </thead>\n",
       "  <tbody>\n",
       "    <tr>\n",
       "      <th>mf3_batches</th>\n",
       "      <td>0</td>\n",
       "      <td>0</td>\n",
       "      <td>0</td>\n",
       "      <td>0</td>\n",
       "    </tr>\n",
       "    <tr>\n",
       "      <th>mf3_press_pv(std)</th>\n",
       "      <td>0</td>\n",
       "      <td>0</td>\n",
       "      <td>0</td>\n",
       "      <td>0</td>\n",
       "    </tr>\n",
       "    <tr>\n",
       "      <th>mf3_temp_pv(std)</th>\n",
       "      <td>0</td>\n",
       "      <td>0</td>\n",
       "      <td>0</td>\n",
       "      <td>0</td>\n",
       "    </tr>\n",
       "    <tr>\n",
       "      <th>mf4_batches</th>\n",
       "      <td>0</td>\n",
       "      <td>0</td>\n",
       "      <td>0</td>\n",
       "      <td>0</td>\n",
       "    </tr>\n",
       "    <tr>\n",
       "      <th>mf3_target_func</th>\n",
       "      <td>0</td>\n",
       "      <td>0</td>\n",
       "      <td>0</td>\n",
       "      <td>0</td>\n",
       "    </tr>\n",
       "    <tr>\n",
       "      <th>mf4_press_pv(std)</th>\n",
       "      <td>0</td>\n",
       "      <td>0</td>\n",
       "      <td>0</td>\n",
       "      <td>0</td>\n",
       "    </tr>\n",
       "    <tr>\n",
       "      <th>mf4_temp_pv(std)</th>\n",
       "      <td>0</td>\n",
       "      <td>0</td>\n",
       "      <td>0</td>\n",
       "      <td>0</td>\n",
       "    </tr>\n",
       "    <tr>\n",
       "      <th>mf4_target_func</th>\n",
       "      <td>0</td>\n",
       "      <td>0</td>\n",
       "      <td>0</td>\n",
       "      <td>0</td>\n",
       "    </tr>\n",
       "  </tbody>\n",
       "</table>\n",
       "</div>"
      ],
      "text/plain": [
       "alloy              5182  3104  6***  5***\n",
       "factors                                  \n",
       "mf3_batches           0     0     0     0\n",
       "mf3_press_pv(std)     0     0     0     0\n",
       "mf3_temp_pv(std)      0     0     0     0\n",
       "mf4_batches           0     0     0     0\n",
       "mf3_target_func       0     0     0     0\n",
       "mf4_press_pv(std)     0     0     0     0\n",
       "mf4_temp_pv(std)      0     0     0     0\n",
       "mf4_target_func       0     0     0     0"
      ]
     },
     "metadata": {},
     "output_type": "display_data"
    }
   ],
   "source": [
    "comp_mf34 = pd.DataFrame(\n",
    "    columns=['5182','3104','6***','5***'],\n",
    "    data=0,\n",
    "    index=['mf3_batches','mf3_press_pv(std)','mf3_temp_pv(std)','mf4_batches','mf3_target_func','mf4_press_pv(std)','mf4_temp_pv(std)','mf4_target_func'])\n",
    "\n",
    "comp_mf34.index.name = 'factors'\n",
    "comp_mf34.columns.name = 'alloy'\n",
    "\n",
    "display(comp_mf34)"
   ]
  },
  {
   "cell_type": "markdown",
   "id": "39fc44d6-a65c-407e-b219-855aee8349e4",
   "metadata": {},
   "source": []
  }
 ],
 "metadata": {
  "kernelspec": {
   "display_name": "Python 3 (ipykernel)",
   "language": "python",
   "name": "python3"
  },
  "language_info": {
   "codemirror_mode": {
    "name": "ipython",
    "version": 3
   },
   "file_extension": ".py",
   "mimetype": "text/x-python",
   "name": "python",
   "nbconvert_exporter": "python",
   "pygments_lexer": "ipython3",
   "version": "3.9.7"
  }
 },
 "nbformat": 4,
 "nbformat_minor": 5
}
