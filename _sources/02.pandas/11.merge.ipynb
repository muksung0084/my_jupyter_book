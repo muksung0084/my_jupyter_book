{
 "cells": [
  {
   "cell_type": "markdown",
   "id": "46a13645-7562-4091-95b9-626b02c593c8",
   "metadata": {},
   "source": [
    "## Data merge"
   ]
  },
  {
   "cell_type": "raw",
   "id": "86ab843a-f773-4ecd-8fa8-f9b02bff08df",
   "metadata": {},
   "source": []
  },
  {
   "cell_type": "markdown",
   "id": "0d31b971-53ff-4cba-8921-057403791969",
   "metadata": {},
   "source": [
    "### sql 쿼리문 활용 <- 시간 term base로 묶기"
   ]
  },
  {
   "cell_type": "code",
   "execution_count": null,
   "id": "ec0e5e2b-5439-4b97-9701-153abc16eba5",
   "metadata": {},
   "outputs": [],
   "source": [
    "import pandasql as ps \n",
    "\n",
    "query = \"\"\"SELECT a.*\n",
    "from tableb b inner join tablea a on ((a.test1 between b.cast1 and b.cast2) & ( a.batch=b.BATCH)); \"\"\""
   ]
  },
  {
   "cell_type": "raw",
   "id": "b340f17e-46ad-43f9-a732-c5fe225ef113",
   "metadata": {},
   "source": []
  },
  {
   "cell_type": "markdown",
   "id": "d6b370b5-3a51-4aa6-8663-83f0bb1bb109",
   "metadata": {},
   "source": [
    "### concat 활용하여 행,열 base로 붙이기"
   ]
  },
  {
   "cell_type": "code",
   "execution_count": null,
   "id": "45998ca3-aade-4dfa-9bb0-0fe5054cbd7e",
   "metadata": {},
   "outputs": [],
   "source": [
    "test_df = pd.DataFrame()\n",
    "for i in range(5) : \n",
    "    a = pd.DataFrame(data = datetime.now().strftime('%Y-%m-%d %H:%M:%S') , index = [datetime.now().strftime('%Y-%m-%d %H:%M:%S')] , columns = ['time'])\n",
    "    test_df = pd.concat([a,test_df],axis=0,ignore_index=True)\n",
    "    #pd.merge([test_df,a])\n",
    "    print(test_df)\n",
    "    time.sleep(1)"
   ]
  },
  {
   "cell_type": "raw",
   "id": "c95cb0d4-16d0-4e8a-b0e5-0062629807f6",
   "metadata": {},
   "source": []
  }
 ],
 "metadata": {
  "kernelspec": {
   "display_name": "Python 3 (ipykernel)",
   "language": "python",
   "name": "python3"
  },
  "language_info": {
   "codemirror_mode": {
    "name": "ipython",
    "version": 3
   },
   "file_extension": ".py",
   "mimetype": "text/x-python",
   "name": "python",
   "nbconvert_exporter": "python",
   "pygments_lexer": "ipython3",
   "version": "3.9.7"
  }
 },
 "nbformat": 4,
 "nbformat_minor": 5
}
