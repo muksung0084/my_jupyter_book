{
 "cells": [
  {
   "cell_type": "markdown",
   "id": "7e210433-3187-42d4-a2e2-0bc7147c4ac3",
   "metadata": {},
   "source": [
    "## Numpy basic _ tips"
   ]
  },
  {
   "cell_type": "markdown",
   "id": "763c673a-9aa6-415e-864f-1a3d2f3b4969",
   "metadata": {},
   "source": []
  },
  {
   "cell_type": "code",
   "execution_count": 4,
   "id": "ccc76c04-d35c-459f-aef5-3bb17f6919eb",
   "metadata": {},
   "outputs": [],
   "source": [
    "import numpy as np\n",
    "import pandas as pd"
   ]
  },
  {
   "cell_type": "raw",
   "id": "fe7c87e8-0a82-4304-8152-82597ca51f2a",
   "metadata": {},
   "source": [
    "다차원 배열을 쉽게 처리하고 효율적으로 사용할 수 있도록지원하는 파이썬의 패키지로 \n",
    "\n",
    "데이터 구조 외에도 수치 계산을 위해 효율적으로 구현된 기능을 제공\n",
    "\n",
    "                                                                                                                < https://brownbears.tistory.com/480 >\n",
    "                                                                                                                \n",
    "\n",
    "파이썬의 리스트는 데이터 주소값을 저장합니다. 그리고 데이터를 가져 올때는 해당 주소에 가서 데이터를 가져옴.\n",
    "\n",
    "하지만 Numpy Array는 C 배열과 유사하여 연속된 주소를 가지고 있음 --> 배열에 담긴 데이터를 가져온다면 순서대로 가져오면 되기 때문에 메모리를 효율적으로 사용.\n",
    "\n",
    "                                                                                                                < https://firework-ham.tistory.com/31 > "
   ]
  },
  {
   "cell_type": "raw",
   "id": "5d15b916-3bde-4633-91da-ae4164a49bb1",
   "metadata": {},
   "source": [
    "<img src=\"0.numpy_array_concept.JPG\" alt=\"drawing\" width=\"500\" />"
   ]
  },
  {
   "cell_type": "markdown",
   "id": "254cf298-afe7-477a-b1e9-6638694e7e5c",
   "metadata": {},
   "source": []
  },
  {
   "cell_type": "markdown",
   "id": "7e513553-1133-4209-96e2-7072958dba45",
   "metadata": {},
   "source": [
    "#### numpy 무작위 추출 _ choice "
   ]
  },
  {
   "cell_type": "raw",
   "id": "96d353d8-2739-48f6-8bfa-1d77a25ec9e7",
   "metadata": {},
   "source": [
    "# 숫자가 존재하는 list에서 몇개씩(크기)무작위 추출 \n",
    "np.random.choice(리스트명,크기)\n",
    "\n",
    "# 리스트1에서 무작위로 3개의 sample을 뽑을것인데, 각각이 뽑힐 확률을 prob를 따르겠다.\n",
    "np.random.choice(리스트명,크기,p=??)  # p값에 확률을 지정할 수 있음 "
   ]
  },
  {
   "cell_type": "code",
   "execution_count": 22,
   "id": "5ebe9de4-8fbe-4a21-aba8-74ee2f960e5f",
   "metadata": {},
   "outputs": [
    {
     "data": {
      "text/plain": [
       "array([4, 5, 2])"
      ]
     },
     "execution_count": 22,
     "metadata": {},
     "output_type": "execute_result"
    }
   ],
   "source": [
    "list1=[1,2,3,4,5,6]\n",
    "prob = [1/6,1/6,1/6,1/6,1/6,1/6] \n",
    "np.random.choice(list1,3,p=prob, replace=False)  ## 보통 replace를 건드리지 않지만, default는 True로 복원 추출, False의 경우는 비복원 추출로 한번 시행할때, 뽑힌것은 일단 배제하고 다음 것을 뽑는다."
   ]
  },
  {
   "cell_type": "markdown",
   "id": "e5f0e96d-3cad-4f69-aa68-3faa6c2e5a65",
   "metadata": {},
   "source": []
  },
  {
   "cell_type": "markdown",
   "id": "f1fd45eb-0843-49ed-89f9-69071b4ee7a4",
   "metadata": {},
   "source": [
    "#### numpy 난수로 array 형성 "
   ]
  },
  {
   "cell_type": "code",
   "execution_count": 28,
   "id": "f5ad24f7-1033-49d8-8fcf-1a69b0ead67c",
   "metadata": {},
   "outputs": [
    {
     "data": {
      "text/plain": [
       "array([[0.01808011, 0.20809993, 0.09017858, 0.2854382 , 0.71755501,\n",
       "        0.91994279, 0.95210318, 0.63479044, 0.34765927, 0.66209871],\n",
       "       [0.92033739, 0.76977819, 0.63033373, 0.2181971 , 0.92615176,\n",
       "        0.24049826, 0.50949897, 0.09370746, 0.23502789, 0.07065218],\n",
       "       [0.93955968, 0.13461022, 0.91635439, 0.00268566, 0.25819833,\n",
       "        0.00742437, 0.08885656, 0.2655885 , 0.95159288, 0.75958328],\n",
       "       [0.79458619, 0.93271671, 0.47099537, 0.30797527, 0.96533085,\n",
       "        0.41744476, 0.32143159, 0.61487081, 0.41362856, 0.85851922],\n",
       "       [0.11211618, 0.42902614, 0.8887866 , 0.45239571, 0.98818244,\n",
       "        0.21280463, 0.02274959, 0.8803454 , 0.5485907 , 0.77485667],\n",
       "       [0.65606756, 0.88236001, 0.15561646, 0.88284958, 0.07541149,\n",
       "        0.39645033, 0.16361383, 0.10797754, 0.07593785, 0.3131805 ],\n",
       "       [0.1646172 , 0.27237641, 0.64521472, 0.93732194, 0.37439192,\n",
       "        0.74657684, 0.83884363, 0.41003682, 0.48648778, 0.68986858],\n",
       "       [0.62392227, 0.77770107, 0.29842408, 0.34355441, 0.82714456,\n",
       "        0.4541636 , 0.92576527, 0.88250619, 0.83252778, 0.89725321],\n",
       "       [0.115425  , 0.1727614 , 0.6201654 , 0.80395756, 0.3927693 ,\n",
       "        0.12223546, 0.10226551, 0.44870686, 0.73738084, 0.55990007],\n",
       "       [0.11309966, 0.6577971 , 0.07195669, 0.43459283, 0.1483823 ,\n",
       "        0.93252916, 0.4981269 , 0.16193345, 0.76792507, 0.01048871]])"
      ]
     },
     "execution_count": 28,
     "metadata": {},
     "output_type": "execute_result"
    }
   ],
   "source": [
    "# 0에서 1사이의 값 중에서 난수 생성. \n",
    "# 0~1 사이의 숫자로 10 by 10 array 생성 \n",
    "np.random.rand(10,10)    "
   ]
  },
  {
   "cell_type": "markdown",
   "id": "f0cf59c4-32df-4499-956b-dca497ea4e3e",
   "metadata": {},
   "source": []
  },
  {
   "cell_type": "markdown",
   "id": "d88a8863-1495-481d-a959-40fd5c39252f",
   "metadata": {},
   "source": [
    "#### numpy _ 정규분포"
   ]
  },
  {
   "cell_type": "code",
   "execution_count": 29,
   "id": "a27bc629-9b9d-4e2f-bbc4-6982ab436959",
   "metadata": {},
   "outputs": [
    {
     "data": {
      "text/plain": [
       "array([[-1.72148351, -1.76819578],\n",
       "       [ 0.03560533,  0.03633646],\n",
       "       [-0.60163066, -0.74867023],\n",
       "       [-0.0023477 ,  1.45199798],\n",
       "       [ 0.67349473,  0.38725633],\n",
       "       [ 0.12084439, -1.18787731],\n",
       "       [ 1.00833583,  0.87480759],\n",
       "       [ 0.73064373, -0.77875454],\n",
       "       [ 0.73166039,  0.93959364],\n",
       "       [-0.2040207 , -0.98344727]])"
      ]
     },
     "execution_count": 29,
     "metadata": {},
     "output_type": "execute_result"
    }
   ],
   "source": [
    "# 표준 정규분포에서 무작위 숫자 추출  // [0, 1) 범위에서 균일한 분포\n",
    "np.random.randn(10,2)"
   ]
  },
  {
   "cell_type": "code",
   "execution_count": 26,
   "id": "faa96db1-2e68-4e1e-9d74-b84779bdb7a7",
   "metadata": {},
   "outputs": [
    {
     "name": "stdout",
     "output_type": "stream",
     "text": [
      "[-0.13836795  1.93087989  3.96097302  3.95770531  2.08882578]\n"
     ]
    }
   ],
   "source": [
    "# 표준정규분포 N(1, 0)이 아닌, 평균 μ, 표준편차 σ 를 갖는 정규분포 N(μ, σ2)의 난수를 생성\n",
    "#σ * np.random.randn(…) + μ 와 같은 형태로 사용할 수 있습니다.\n",
    "sigma, mu = 1.5, 2.0\n",
    "c = sigma * np.random.randn(5) + mu\n",
    "print(c)"
   ]
  },
  {
   "cell_type": "markdown",
   "id": "3e69923c-1aac-4223-9e9f-4e8dbeeb8e67",
   "metadata": {},
   "source": []
  },
  {
   "cell_type": "markdown",
   "id": "00864fee-298b-463d-9478-cec8f9f4b085",
   "metadata": {},
   "source": [
    "#### numpy _ random randint, normal"
   ]
  },
  {
   "cell_type": "code",
   "execution_count": 23,
   "id": "e2ca7023-668a-4c54-ab53-451f57a686e3",
   "metadata": {},
   "outputs": [],
   "source": [
    "# random.randint() 함수는 [최소값, 최대값)의 범위에서 임의의 정수\n",
    "np.random.randint(2, size=5) # 는 [0, 2) 범위에서 다섯개의 임의의 정수를 생성.\n",
    "np.random.randint(2, 4, size=5) # 는 [2, 4) 범위에서 다섯개의 임의의 정수를 생성합.\n",
    "np.random.randint(1, 5, size=(2, 3)) # 는 [1, 5) 범위에서 (2, 3) 형태의 어레이를 생성합.\n",
    "\n",
    "# random.normal() 함수는 정규 분포 (Normal distribution)로부터 샘플링된 난수를 반환\n",
    "a = np.random.normal(0, 1, 2) # 어레이 a는 정규 분포 N(0,1)로부터 얻은 임의의 숫자 2개,\n",
    "b = np.random.normal(1.5, 1.5, 4) # 어레이 b는 정규 분포 N(1.5,1.52)로부터 얻은 임의의 숫자 4개,\n",
    "c = np.random.normal(3.0, 2.0, (2, 3)) # 어레이 c는 정규 분포 N(3.0,2.02)로부터 얻은 (2, 3) 형태의 임의의 숫자 어레이.           "
   ]
  },
  {
   "cell_type": "code",
   "execution_count": 24,
   "id": "c9728df0-ecbc-434f-bf36-034fb5169fed",
   "metadata": {},
   "outputs": [
    {
     "name": "stdout",
     "output_type": "stream",
     "text": [
      "[0.10083797 2.11860567]\n",
      "[0.53259917 2.04129711 2.65236731 0.40806498]\n",
      "[[0.38188509 6.1195246  5.08644936]\n",
      " [4.52018516 4.04262745 1.67071739]]\n"
     ]
    }
   ],
   "source": [
    "print(a)\n",
    "print(b)\n",
    "print(c)"
   ]
  },
  {
   "cell_type": "markdown",
   "id": "adcf0af2-9d06-4421-b76f-0b99021b83aa",
   "metadata": {},
   "source": []
  },
  {
   "cell_type": "markdown",
   "id": "b8b33381-9bc4-43a7-a25e-3768b29115e7",
   "metadata": {},
   "source": [
    "#### numpy random과 array 매서드로 dataframe"
   ]
  },
  {
   "cell_type": "code",
   "execution_count": null,
   "id": "4b5e4886-7caa-406f-add1-b037db4878b6",
   "metadata": {},
   "outputs": [],
   "source": [
    "pd.DataFrame( np.random.randn(10,20), columns = ('col %d' % i for i in range(20)) )\n",
    "\n",
    "sample = pd.DataFrame(np.random.randint(1,20,2) for i in range(10))\n",
    "\n",
    "my_2darray = np.array([[1, 2, 3], [4, 5, 6]])\n",
    "display(pd.DataFrame(my_2darray))"
   ]
  },
  {
   "cell_type": "markdown",
   "id": "6c19851e-17ec-4415-970c-9fb2f332799e",
   "metadata": {},
   "source": []
  },
  {
   "cell_type": "markdown",
   "id": "f589453c-96ac-48af-b999-f350a7379c0a",
   "metadata": {},
   "source": [
    "#### np.where을 통한 조건부 정리"
   ]
  },
  {
   "cell_type": "code",
   "execution_count": null,
   "id": "a169e8ad-75bf-45e2-b81d-f74a473c6147",
   "metadata": {},
   "outputs": [],
   "source": [
    "#np.where \n",
    "skimming_data2['group'] = np.where(skimming_data2['skimm'].between(4,6),'4~6',\n",
    "                                  np.where(skimming_data2['skimm'].between(6,10),'7~10', '10~'))\n",
    "# inull로 np where \n",
    "total_data['edge_crack'] = np.where(total_data['HFI 비고'].isnull(),0,1)"
   ]
  },
  {
   "cell_type": "markdown",
   "id": "c96999dc-215a-4507-8e68-879456e7c3f4",
   "metadata": {},
   "source": []
  },
  {
   "cell_type": "markdown",
   "id": "f7af9594-2357-49fb-92ed-6363eca4864e",
   "metadata": {},
   "source": [
    "https://codetorial.net/numpy/random.html"
   ]
  }
 ],
 "metadata": {
  "kernelspec": {
   "display_name": "Python 3 (ipykernel)",
   "language": "python",
   "name": "python3"
  },
  "language_info": {
   "codemirror_mode": {
    "name": "ipython",
    "version": 3
   },
   "file_extension": ".py",
   "mimetype": "text/x-python",
   "name": "python",
   "nbconvert_exporter": "python",
   "pygments_lexer": "ipython3",
   "version": "3.9.7"
  }
 },
 "nbformat": 4,
 "nbformat_minor": 5
}
