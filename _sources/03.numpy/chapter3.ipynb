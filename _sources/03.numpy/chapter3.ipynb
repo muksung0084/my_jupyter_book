{
 "cells": [
  {
   "cell_type": "markdown",
   "id": "f2ca8203-3980-40e6-8a7a-c9b57a5beba1",
   "metadata": {},
   "source": [
    "# chapter3"
   ]
  },
  {
   "cell_type": "code",
   "execution_count": 2,
   "id": "2aae29dc-b775-4f7e-9877-69718086dfd0",
   "metadata": {},
   "outputs": [
    {
     "name": "stdout",
     "output_type": "stream",
     "text": [
      "안녕하세요 test입니다\n"
     ]
    }
   ],
   "source": [
    "print(\"안녕하세요 test입니다\" ) "
   ]
  },
  {
   "cell_type": "code",
   "execution_count": null,
   "id": "d47bc9c2-4ccd-4ce5-99cb-a2641b067768",
   "metadata": {},
   "outputs": [],
   "source": []
  }
 ],
 "metadata": {
  "kernelspec": {
   "display_name": "Python 3 (ipykernel)",
   "language": "python",
   "name": "python3"
  },
  "language_info": {
   "codemirror_mode": {
    "name": "ipython",
    "version": 3
   },
   "file_extension": ".py",
   "mimetype": "text/x-python",
   "name": "python",
   "nbconvert_exporter": "python",
   "pygments_lexer": "ipython3",
   "version": "3.9.7"
  }
 },
 "nbformat": 4,
 "nbformat_minor": 5
}
