{
 "cells": [
  {
   "cell_type": "code",
   "execution_count": 1,
   "id": "b14bf4f4-0671-48ac-afa5-bea10172c82e",
   "metadata": {},
   "outputs": [],
   "source": [
    "## detail "
   ]
  },
  {
   "cell_type": "markdown",
   "id": "4d9436f4-152e-428a-b800-622a80ba6dd4",
   "metadata": {},
   "source": [
    "## detail한 내용 "
   ]
  },
  {
   "cell_type": "code",
   "execution_count": 2,
   "id": "1a9faf2b-5558-4d14-9964-14c36d115313",
   "metadata": {},
   "outputs": [
    {
     "name": "stdout",
     "output_type": "stream",
     "text": [
      " detail test \n"
     ]
    }
   ],
   "source": [
    "print(\" detail test \" )"
   ]
  },
  {
   "cell_type": "code",
   "execution_count": null,
   "id": "968ceae4-0f05-4148-bf94-5599bda0258d",
   "metadata": {},
   "outputs": [],
   "source": []
  },
  {
   "cell_type": "code",
   "execution_count": null,
   "id": "d5fc15fb-1d39-4456-938f-8bc921189add",
   "metadata": {},
   "outputs": [],
   "source": []
  },
  {
   "cell_type": "code",
   "execution_count": null,
   "id": "b36e5598-7176-4dcb-8b07-de2b2db566a6",
   "metadata": {},
   "outputs": [],
   "source": []
  }
 ],
 "metadata": {
  "kernelspec": {
   "display_name": "Python 3 (ipykernel)",
   "language": "python",
   "name": "python3"
  },
  "language_info": {
   "codemirror_mode": {
    "name": "ipython",
    "version": 3
   },
   "file_extension": ".py",
   "mimetype": "text/x-python",
   "name": "python",
   "nbconvert_exporter": "python",
   "pygments_lexer": "ipython3",
   "version": "3.9.7"
  }
 },
 "nbformat": 4,
 "nbformat_minor": 5
}
