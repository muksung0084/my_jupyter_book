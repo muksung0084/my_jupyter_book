{
 "cells": [
  {
   "cell_type": "markdown",
   "id": "74bf1c34-ead6-47fd-98e0-c3719421c063",
   "metadata": {},
   "source": [
    "## Data visualization"
   ]
  },
  {
   "cell_type": "code",
   "execution_count": null,
   "id": "f818e3b3-6d75-48b7-832e-ace30fda7ebe",
   "metadata": {},
   "outputs": [],
   "source": []
  },
  {
   "cell_type": "raw",
   "id": "65313691-e258-4550-acee-bb57ec7992c8",
   "metadata": {},
   "source": [
    "[공식 도큐먼트] https://seaborn.pydata.org/api.html\n",
    "\n",
    "[세부 도큐먼트 확인하기]\n",
    "https://matplotlib.org/api/_as_gen/matplotlib.pyplot.plot.html#matplotlib.pyplot.plot"
   ]
  },
  {
   "cell_type": "raw",
   "id": "a56b31db-fe36-4b8c-86d0-e499c118346e",
   "metadata": {},
   "source": []
  },
  {
   "cell_type": "markdown",
   "id": "7df7881c-540d-4762-ae3a-ee22f7502275",
   "metadata": {},
   "source": [
    "#### Matplotlib "
   ]
  },
  {
   "cell_type": "raw",
   "id": "dbd9b696-0c05-45c9-b32e-730282c8391d",
   "metadata": {},
   "source": [
    "line: 선그래프\n",
    "\n",
    "bar: 바 그래프\n",
    "barh: 수평 바 그래프\n",
    "\n",
    "hist: 히스토그램\n",
    "\n",
    "kde: 커널 밀도 그래프\n",
    "\n",
    "hexbin: 고밀도 산점도 그래프\n",
    "\n",
    "box: 박스 플롯\n",
    "\n",
    "area: 면적 그래프\n",
    "\n",
    "pie: 파이 그래프\n",
    "\n",
    "scatter: 산점도 그래프"
   ]
  },
  {
   "cell_type": "markdown",
   "id": "54a2b604-7fee-4c9f-9266-2b73058f5e0c",
   "metadata": {},
   "source": []
  },
  {
   "cell_type": "code",
   "execution_count": 2,
   "id": "edfdea67-9a25-45e7-a4d0-a8a3b3002d78",
   "metadata": {},
   "outputs": [],
   "source": [
    "import pandas as pd\n",
    "import numpy as np\n",
    "import matplotlib.pyplot as plt"
   ]
  },
  {
   "cell_type": "code",
   "execution_count": 5,
   "id": "e930d2c8-3d43-4664-afd0-de78d2092ba3",
   "metadata": {},
   "outputs": [],
   "source": [
    "df = pd.read_csv('https://bit.ly/ds-house-price-clean')"
   ]
  },
  {
   "cell_type": "markdown",
   "id": "ab49e2a4-acda-4f2a-ab4d-66cc81e391a0",
   "metadata": {},
   "source": []
  },
  {
   "cell_type": "code",
   "execution_count": 4,
   "id": "26bee918-8940-4622-bca8-429ec644128d",
   "metadata": {},
   "outputs": [
    {
     "data": {
      "image/png": "[encoded data removed]",
      "text/plain": [
       "<Figure size 432x288 with 1 Axes>"
      ]
     },
     "metadata": {
      "needs_background": "light"
     },
     "output_type": "display_data"
    }
   ],
   "source": [
    "a=['X','Y','Z']\n",
    "b=[1,2,4]\n",
    "c=[6,7,8]\n",
    "plt.plot(a,b,marker='o',markersize=5,linestyle='--',color='r',alpha=0.5)\n",
    "plt.plot(a,c,marker='o',markersize=5,linestyle='--',color='b',alpha=0.5)\n",
    "\n",
    "plt.title('Title',fontsize=10)\n",
    "plt.xlabel('x축',fontsize=10)\n",
    "plt.ylabel('y축',fontsize=10)\n",
    "plt.xticks(rotation=90)\n",
    "plt.yticks(rotation=30)\n",
    "plt.legend(['빨','파'],fontsize=10)\n",
    "\n",
    "plt.ylim(1,10)\n",
    "plt.grid()\n",
    "plt.show()"
   ]
  },
  {
   "cell_type": "code",
   "execution_count": null,
   "id": "8bd45956-395c-41a5-bd82-5b80ac723e6e",
   "metadata": {},
   "outputs": [],
   "source": []
  },
  {
   "cell_type": "code",
   "execution_count": null,
   "id": "ed1b9f7c-7b00-4606-8c6b-7f0d5536b2ad",
   "metadata": {},
   "outputs": [],
   "source": [
    "# hist --> histogram 도수분포표 \n",
    "plt.hist(df['지역'])\n",
    "plt.figure()\n",
    "\n",
    "df_count.plot(kind='kde')\n",
    "plt.show"
   ]
  },
  {
   "cell_type": "code",
   "execution_count": null,
   "id": "45bce248-7176-45b3-bb91-afe41292b5e6",
   "metadata": {},
   "outputs": [],
   "source": []
  },
  {
   "cell_type": "code",
   "execution_count": null,
   "id": "eaf03839-54cb-49a4-a636-770eebc3549f",
   "metadata": {},
   "outputs": [],
   "source": [
    "#line \n",
    "#--> index가 숫자로 되어있는데 만약 index를 연도로 표현 한다면!?\n",
    "df_seoul=df.loc[df['지역']=='서울']\n",
    "df_seoul_year=df_seoul.groupby('연도').mean()\n",
    "df_seoul_year.plot(kind='line')"
   ]
  },
  {
   "cell_type": "code",
   "execution_count": null,
   "id": "63ef2407-62a5-45a5-9fea-bf9e34f4d730",
   "metadata": {},
   "outputs": [],
   "source": []
  },
  {
   "cell_type": "code",
   "execution_count": null,
   "id": "41f9ac53-8829-4d99-b380-153dc6b61192",
   "metadata": {},
   "outputs": [],
   "source": [
    "plt.rcParams[\"figure.figsize\"] = (10, 3)\n",
    "a=df.groupby('지역')['분양가'].mean().reset_index()#a라는 공통된 데이터프레임 --> 공통된 index를 가지고 있다. \n",
    "b=df.groupby('지역')['분양가'].max().reset_index()\n",
    "c=df.groupby('지역')['분양가'].min().reset_index()\n",
    "\n",
    "plt.plot(a['지역'],a['분양가'],label='mean',color='red',alpha=0.7,marker='*')\n",
    "plt.plot(b['지역'],b['분양가'],label='max',color='orange',alpha=0.7,linestyle='--')\n",
    "plt.plot(c['지역'],c['분양가'],label='min',color='black',alpha=1,linestyle=':')\n",
    "plt.legend()  # 내가 설정한 범례(label)을 출력하겠다.\n",
    "\n",
    "plt.title('line 그래프',fontsize=10)\n",
    "plt.xlabel('지역',fontsize=10)\n",
    "plt.ylabel('분양가',fontsize=10)\n",
    "plt.grid()\n",
    "plt.show()\n",
    "\n",
    "#x에 대한 y값이 붙을때 기준은 index이다... \n",
    "#x와 y에 대한 값이 list 혹은 array 타입은 순서대로 쭉 열거되어 있다면, 그 순서대로 값이 박힘.\n",
    "#data frame 형태에서 index가 부여된 상태에서는 그 값은 index값 별로 매칭된다 \n",
    "# 즉 df과 list,array 타입을 가지고 plot을 만드려고 하면 그 값들은 매칭이 안됨. 지역값 분양가 값이 다 있어도 얘는 index 매칭이 안되기 때문에 "
   ]
  },
  {
   "cell_type": "code",
   "execution_count": null,
   "id": "57835ee7-3a52-44f7-8025-94ffbb395681",
   "metadata": {},
   "outputs": [],
   "source": []
  },
  {
   "cell_type": "code",
   "execution_count": null,
   "id": "9189a9af-42b0-45fe-b605-72c810fac3e3",
   "metadata": {},
   "outputs": [],
   "source": [
    "#잘못된 예시 \n",
    "# x는 array 타입으로 그냥 글자 순서대로 박혀있음 \n",
    "# y는 지역이 index로 잡혀있는 시리즈 타입 \n",
    "# 둘의 갯수는 같으니까 그냥 그 순서대로 그래프에 값이 찍힘 \n",
    "# 때문에 지역명에 따른 y값의 수치가 다름 정확하지 않음\n",
    "# y도 x의 지역명 순서에 맞게 열거를 시켜주거나 \n",
    "# 둘사이의 공통 index가 존재해야 정확한 그래프를 나타낼 수 있음 \n",
    "# 또한 기본적으로 demension이 같아야 하지만, 그래프는 하나하나의 값들을 가져오는 거니까 기본적으로 1차원 값이어야 함. \n",
    "print(type(df['지역'].unique()))\n",
    "a=df.groupby('지역')['분양가'].mean()\n",
    "print(type(a))"
   ]
  },
  {
   "cell_type": "code",
   "execution_count": null,
   "id": "a6aabf44-4bd0-4b55-a43a-7711488a545f",
   "metadata": {},
   "outputs": [],
   "source": []
  },
  {
   "cell_type": "code",
   "execution_count": null,
   "id": "ab3889e1-011b-40f0-be18-34636f6e1c88",
   "metadata": {},
   "outputs": [],
   "source": [
    "# area\n",
    "df.groupby('연도')['분양가'].mean().plot(kind='area')"
   ]
  },
  {
   "cell_type": "code",
   "execution_count": null,
   "id": "d8c3c95b-d253-49ca-9b9c-ebf2eb48fa78",
   "metadata": {},
   "outputs": [],
   "source": []
  },
  {
   "cell_type": "code",
   "execution_count": null,
   "id": "27f79c2e-4f66-4888-94a5-c1c09c705252",
   "metadata": {},
   "outputs": [],
   "source": [
    "# scatter \n",
    "df.plot(kind='scatter',x='월',y='분양가')"
   ]
  },
  {
   "cell_type": "code",
   "execution_count": null,
   "id": "e8061a22-974f-49b8-8e18-e3580faf895d",
   "metadata": {},
   "outputs": [],
   "source": []
  },
  {
   "cell_type": "code",
   "execution_count": null,
   "id": "e6aa8911-3868-4d24-8df7-4227dbed1e5f",
   "metadata": {},
   "outputs": [],
   "source": [
    "x=np.arange(1,10,0.1)\n",
    "print(x)\n",
    "y=np.sin(x)\n",
    "y2=np.cos(x)\n",
    "\n",
    "plt.fill_between(x,y,alpha=0.4,color='red',label='sin')\n",
    "plt.fill_between(x,y2,alpha=0.5,color='blue',label='cos')\n",
    "plt.xticks(rotation=45)\n",
    "plt.plot(x,y) # 첫번째 area 그래프에 line을 한번 더 그려주면서 라인을 조금더 굵게 부각 시켜줌 \n",
    "plt.plot(x,y2)\n",
    "plt.legend()\n",
    "\n",
    "plt.ylim(-1,1) ## 부분 확대시키기. \n",
    "plt.xlim(1,10)\n",
    "plt.show()"
   ]
  },
  {
   "cell_type": "code",
   "execution_count": null,
   "id": "c8aacf7c-4777-4a52-90ed-87a7edd5167b",
   "metadata": {},
   "outputs": [],
   "source": []
  },
  {
   "cell_type": "code",
   "execution_count": null,
   "id": "c90afa7f-76b2-4992-a977-1259fd246a6a",
   "metadata": {},
   "outputs": [],
   "source": [
    "#bar      //  .plot(kind='bar')\n",
    "plt.bar(df['지역'],df['분양가'],label='mean',color='orange')\n",
    "plt.xlabel('지역')\n",
    "plt.ylabel('분양가')\n",
    "plt.legend()\n",
    "plt.figure()\n",
    "\n",
    "plt.barh(df['지역'],df['분양가'])\n",
    "plt.figure()\n",
    "\n",
    "plt.bar(df['지역'],df['분양가'],label='max')\n",
    "plt.xlabel('지역')\n",
    "plt.ylabel('분양가')\n",
    "plt.legend()\n",
    "plt.show()"
   ]
  },
  {
   "cell_type": "code",
   "execution_count": null,
   "id": "3ddd1514-b1f2-436b-a4b8-097fc2478af5",
   "metadata": {},
   "outputs": [],
   "source": []
  },
  {
   "cell_type": "code",
   "execution_count": null,
   "id": "eb877b80-b188-46f4-aaf2-30f6b771a88c",
   "metadata": {},
   "outputs": [],
   "source": [
    "a = df.groupby('지역')['분양가'].mean().reset_index()\n",
    "b = df.groupby('지역')['분양가'].max().reset_index()\n",
    "\n",
    "plt.rcParams[\"figure.figsize\"] = (8, 5)\n",
    "x=np.arange(len(a['지역'])) \n",
    "\n",
    "fig, axes = plt.subplots()\n",
    "axes.bar(x - 0.35/2,a['분양가'],0.35,align ='center',alpha=0.8,color='blue',label='mean')  # --> center는 x값기준 중앙정렬 위치 , edge는 오른정렬 \n",
    "axes.bar(x + 0.35/2,b['분양가'],0.35,align ='edge',alpha=0.8,color = 'red',label='max')\n",
    "plt.title('제목',color='grey',fontsize=20)\n",
    "plt.legend()\n",
    "plt.xticks(x,rotation=90)\n",
    "axes.set_xticklabels(a['지역'])\n",
    "\n",
    "#plt.grid()\n",
    "plt.show()"
   ]
  },
  {
   "cell_type": "code",
   "execution_count": null,
   "id": "610ba81f-09ab-4d05-bfe6-1a0785ea69be",
   "metadata": {},
   "outputs": [],
   "source": []
  },
  {
   "cell_type": "code",
   "execution_count": null,
   "id": "06715e5f-17c1-4ba0-9676-f8956116d264",
   "metadata": {},
   "outputs": [],
   "source": [
    "z=df.loc[df['지역'].isin(['서울','경기','대전','세종'])]\n",
    "z1=z.groupby('지역')['분양가'].mean()\n",
    "\n",
    "plt.rcParams[\"figure.figsize\"] = (8, 5)\n",
    "# 기본형 --> df.groupby('지역')['분양가'].mean().plot(kind='pie')\n",
    "# texts, autotexts 인자를 활용하여 텍스트 스타일링을 적용합니다\n",
    "#fig,axes = plt.subplots(2,2)\n",
    "patches, texts, autotexts = plt.pie( z1,\n",
    "                                    labels=z1.index,\n",
    "                                    explode=(0,0,0.3,0),\n",
    "                                    autopct='%1.1f%%',\n",
    "                                    shadow=True, \n",
    "                                    startangle=90)\n",
    "plt.title('pie data',fontsize=20)\n",
    "# label 텍스트에 대한 스타일 적용\n",
    "for t in texts:\n",
    "    t.set_fontsize(10)\n",
    "    t.set_color('gray')\n",
    "    \n",
    "# pie 위의 텍스트에 대한 스타일 적용\n",
    "for t in autotexts:\n",
    "    t.set_color(\"white\")\n",
    "    t.set_fontsize(18)"
   ]
  },
  {
   "cell_type": "code",
   "execution_count": null,
   "id": "4d5aad96-7461-4db7-a2f2-e380815d73fe",
   "metadata": {},
   "outputs": [],
   "source": []
  },
  {
   "cell_type": "code",
   "execution_count": null,
   "id": "ec3e3584-9a4c-4099-9250-f00667b08d3c",
   "metadata": {},
   "outputs": [],
   "source": [
    "## **5-2 seaborn으로 시각화** \n",
    "\n",
    "sns.set(style='darkgrid')\n",
    "## data sample 가져오기 \n",
    "tips = sns.load_dataset('tips')\n",
    "titanic = sns.load_dataset('titanic')"
   ]
  },
  {
   "cell_type": "code",
   "execution_count": null,
   "id": "2b74686a-ab64-4803-92f2-e5814532f7a9",
   "metadata": {},
   "outputs": [],
   "source": []
  },
  {
   "cell_type": "code",
   "execution_count": null,
   "id": "8289f2f9-dc4d-4e1b-84ae-ff08c98c3a47",
   "metadata": {},
   "outputs": [],
   "source": [
    "df_count.plot(kind='kde')\n",
    "plt.show()"
   ]
  },
  {
   "cell_type": "code",
   "execution_count": null,
   "id": "7f17430a-3651-491e-a854-ce4aff1fcf9e",
   "metadata": {},
   "outputs": [],
   "source": [
    "### **Box plot**\n",
    "**제일 많이쓰이고 중요한 box plot**\n",
    "\n",
    "박스 안의 횡선 --> 중간값 (median) \n",
    "\n",
    "박스의 윗변 --> 3/4 상위 75%값\n",
    "\n",
    "박스의 아랫변 --> 1/4 하위 25%값\n",
    "\n",
    "맨 위의 선 --> 이 box plot mechanism에서 구하는 추정 max값\n",
    "\n",
    "맨 아래의 선 --> 이 box plot mechanism에서 구하는 추정 min값\n",
    "\n",
    "위 아래에 생기는 동그라미 점 --> outlier로 헌팅값  --> data상에 값이 있지만 25%~75% 사이의 값을 기준으로 볼때 이 data의 max,min은 이정도에 있어야 하는데 그값을 벗어나는 값을 outlier로 처리함 --> outlier가 많다면 data상의 기록되는 값에 이상이 있을 수 도 있다는 의심을 해볼 필요있음.\n",
    "\n",
    "###   max 값 산정 방식 :\n",
    "###   IPQ=inter quantile range (내부 퀀타일 범위 측정값 ) ==> (75%value - 25%value)*1.5\n",
    "\n",
    "> ### max = 75%value(3632)+IQR \n",
    "\n",
    "> ### min = 25%value(2478)-IQR"
   ]
  },
  {
   "cell_type": "code",
   "execution_count": null,
   "id": "c09d17f0-f174-4c75-9d01-8c7de4d8b7d3",
   "metadata": {},
   "outputs": [],
   "source": []
  },
  {
   "cell_type": "code",
   "execution_count": null,
   "id": "63183595-0e53-41d7-ad63-7729cebad51c",
   "metadata": {},
   "outputs": [],
   "source": [
    "seoul=df.loc[df['지역']=='서울','분양가']\n",
    "daejeon=df.loc[df['지역']=='대전','분양가']\n",
    "plt.boxplot([seoul,daejeon])\n",
    "plt.figure()\n",
    "\n",
    "data=[seoul,daejeon]\n",
    "outlier_marker = dict(markerfacecolor='r', marker='D') # 아웃라이어 설정 \n",
    "\n",
    "plt.boxplot(data, flierprops=outlier_marker, vert=False) # 뉘어 보고 싶을땐  vert = False 옵션 넣어준다. \n",
    "plt.yticks([1,2],['서울','대전'])\n",
    "plt.show()"
   ]
  },
  {
   "cell_type": "code",
   "execution_count": null,
   "id": "335820f6-1c0b-40f8-ae42-802e2313bd5c",
   "metadata": {},
   "outputs": [],
   "source": []
  },
  {
   "cell_type": "code",
   "execution_count": null,
   "id": "baab0e2f-2b8a-4d87-aac0-a2d332cd0eea",
   "metadata": {},
   "outputs": [],
   "source": [
    "v=df.loc[df['지역'].isin(['서울']),['분양가','지역']]\n",
    "sns.boxplot(x='지역',y='분양가',data=v, orient='v',width=0.3)    # 단일로 할땐, width & orient = vertical의 'v' "
   ]
  },
  {
   "cell_type": "code",
   "execution_count": null,
   "id": "d421441b-09a5-444f-85e6-4c3926b6b758",
   "metadata": {},
   "outputs": [],
   "source": []
  },
  {
   "cell_type": "code",
   "execution_count": null,
   "id": "22db0abd-a60d-4572-b0b6-dd652444f1fb",
   "metadata": {},
   "outputs": [],
   "source": [
    "sns.boxplot(df['지역'],df['분양가'],orient='v',width=0.3, flierprops=outlier_marker)\n",
    "#(x= , y= ,data= ) 해도 되고 그냥 data[] a컬럼 해도 됨, "
   ]
  },
  {
   "cell_type": "code",
   "execution_count": null,
   "id": "634c81f1-cf02-49a7-a582-9d9d47206385",
   "metadata": {},
   "outputs": [],
   "source": []
  },
  {
   "cell_type": "code",
   "execution_count": null,
   "id": "ef5caa17-69fd-4087-a11a-0730409c717f",
   "metadata": {},
   "outputs": [],
   "source": [
    "#violinplot : max값과 min값 그리고 각 값의 분포도를 바이올린 형태의 모양으로 보여준다.  x와 y에 대한 값이 필요 \n",
    "sns.violinplot(y=tips['tip'],color='red',height=5)\n",
    "plt.figure()\n",
    "sns.violinplot(x=tips['day'],y=tips['tip'],hue=tips['time'],palette='rainbow')   #hue옵션 빼면 그냥 하나씩 단일그림으로나옴/ hue옵션 적용 : 사이즈별 - 타임때별 tip의 트랜드 --> 하지만 size에 묶여 두개씩 표현 --> 비교하기가 조금 애매함 이럴때 split을 써준다 \n",
    "plt.figure()\n",
    "sns.violinplot(x=tips['day'],y=tips['tip'],hue=tips['time'],split=True,palette='rainbow') "
   ]
  },
  {
   "cell_type": "code",
   "execution_count": null,
   "id": "486157e7-1541-4d20-9d6d-20fb6c2d849c",
   "metadata": {},
   "outputs": [],
   "source": []
  },
  {
   "cell_type": "code",
   "execution_count": null,
   "id": "8a75bcdc-c7c5-470a-8eba-949fc508e6b0",
   "metadata": {},
   "outputs": [],
   "source": [
    "#SNS scatter plot\n",
    "x = np.random.rand(50)    #x축 값\n",
    "y = np.random.rand(50)    #y축 값\n",
    "colors = np.arange(50)    # 해당 (x,y)의 점의 색깔  --> 숫자별로 color가 다른 값을 가지고 있음\n",
    "area = x * y * 1000       # 해당 (x,y)의 점의 크기 \n",
    "\n",
    "sns.scatterplot(x,y,color='red',alpha=0.3)\n",
    "plt.show()"
   ]
  },
  {
   "cell_type": "code",
   "execution_count": null,
   "id": "f323e07a-faff-45db-9245-06539b64c28b",
   "metadata": {},
   "outputs": [],
   "source": []
  },
  {
   "cell_type": "code",
   "execution_count": null,
   "id": "c88efaf6-1b5f-4771-85e9-708e1e621901",
   "metadata": {},
   "outputs": [],
   "source": [
    "#countplot : 항목별 개수를 세어주는 plot\n",
    "sns.countplot(data=titanic,x='class',hue='who')\n",
    "plt.show()"
   ]
  },
  {
   "cell_type": "code",
   "execution_count": null,
   "id": "5e83973e-db22-4beb-94e9-8571eaa73158",
   "metadata": {},
   "outputs": [],
   "source": [
    "sns.distplot(tips['tip'],color='red',rug=True)   # 히스토를 없애고 싶다면 : hist=False추가 , 가로로 보고싶다면 vertical=True 추가 \n",
    "#distplot 중 rug기능 --> 작은 눈금으로 data의 값들이 어느 값에서 주로 분포하는지 실제를 파악할 수 있음"
   ]
  },
  {
   "cell_type": "code",
   "execution_count": null,
   "id": "47174cfc-e04d-4cd7-8f72-fc4b3a1c0b08",
   "metadata": {},
   "outputs": [],
   "source": [
    "sns.jointplot(x=\"total_bill\", y=\"tip\", height=5, data=tips)\n",
    "plt.show()"
   ]
  },
  {
   "cell_type": "code",
   "execution_count": null,
   "id": "7ede87da-280d-43c7-92de-e57b8b07919e",
   "metadata": {},
   "outputs": [],
   "source": [
    "#밀도를 보고싶으면 kind =hex 추가   --> kind가 가운데 그래프에 더 많은 영향을 준다  --> side에 표시되는 그래프는 대부분 hist \n",
    "sns.jointplot(x=\"total_bill\", y=\"tip\", height=5, data=tips,kind='hex',color='red')"
   ]
  },
  {
   "cell_type": "code",
   "execution_count": null,
   "id": "3ab40f2c-3d38-47d5-bb95-e7d4e69c2ed5",
   "metadata": {},
   "outputs": [],
   "source": [
    "#★heatmap  :  상관관계 파악시 많이 사용 !!   --> 내가 보고싶은 특정 column과 column간의 value 관계를 알 수 있음 \n",
    "# 따라서 보고픈 컬럼과 컬럼을 가지고 pivort를 만들어 줘야함.    x와 y 값이 있어야함. 즉 index와 columns 이 독립되어 있어야함. 그리고 이를 기준으로 존재하는 값value가 있어야함\n",
    "\n",
    "a=tips.pivot_table(index='day',columns='size',values='tip')\n",
    "sns.heatmap(a,annot=True,cmap='Blues')  # annot은 칸 안에 value값을 표현해줌 "
   ]
  },
  {
   "cell_type": "code",
   "execution_count": null,
   "id": "1e50a202-d61f-4b53-9282-cef184963682",
   "metadata": {},
   "outputs": [],
   "source": []
  },
  {
   "cell_type": "code",
   "execution_count": null,
   "id": "c857f4b1-1e3a-4e46-b66a-1db768f8a0ec",
   "metadata": {},
   "outputs": [],
   "source": [
    "#★correlation : column과 column간의 상관계수 파악 가능 \n",
    "tips.corr()\n",
    "# 표로 보면 수치값이라 파악이 힘듬 --> 이를 heatmap으로 연동 \n",
    "sns.heatmap(tips.corr(),annot=True)"
   ]
  },
  {
   "cell_type": "code",
   "execution_count": null,
   "id": "8e4e7dd7-3180-482d-b65c-5c0f8d8818af",
   "metadata": {},
   "outputs": [],
   "source": []
  },
  {
   "cell_type": "code",
   "execution_count": null,
   "id": "891e509a-a3c1-4747-b6c5-681cbb83fd56",
   "metadata": {},
   "outputs": [],
   "source": [
    "#★★pairplot : 기본적으로 컬럼과 컬럼들 간의 분포도를 나타냄 기본적으로 scatter 형식 컬럼 겹치면 hist  & subplots를 적용한듯 볼 수 있다. \n",
    "sns.pairplot(tips, hue='time',palette=\"rainbow\",height=3)"
   ]
  },
  {
   "cell_type": "code",
   "execution_count": null,
   "id": "6b83bce4-c338-4e96-8954-5e570eccbb59",
   "metadata": {},
   "outputs": [],
   "source": []
  },
  {
   "cell_type": "code",
   "execution_count": null,
   "id": "8e5bd66a-5591-4e93-8bfd-3fd6e0972f1d",
   "metadata": {},
   "outputs": [],
   "source": [
    "sns.lmplot(x='total_bill',y='tip',data=tips)   # only numerical value"
   ]
  },
  {
   "cell_type": "code",
   "execution_count": null,
   "id": "fc876296-dbd8-4481-a020-9453b4245346",
   "metadata": {},
   "outputs": [],
   "source": []
  },
  {
   "cell_type": "code",
   "execution_count": null,
   "id": "feeb2252-35d9-413c-bf13-44048e98322a",
   "metadata": {},
   "outputs": [],
   "source": [
    "#추가적인 옵션 col --> 컬럼을 추가하는 것 \n",
    "sns.lmplot(x='total_bill',y='tip',hue='time',col='size',data=tips,palette='CMRmap_r') "
   ]
  },
  {
   "cell_type": "code",
   "execution_count": null,
   "id": "a442c4c8-10bf-4f40-890c-7ce180420958",
   "metadata": {},
   "outputs": [],
   "source": []
  },
  {
   "cell_type": "code",
   "execution_count": null,
   "id": "45666c3a-7e2c-478f-a06e-901f1391d0f7",
   "metadata": {},
   "outputs": [],
   "source": [
    "#relplot : lmplot과 유사함  하지만. 선형은 표시해 주지 않음 \n",
    "sns.relplot(x='total_bill',y='tip',data=tips,hue='time',col='size',palette='CMRmap_r')"
   ]
  },
  {
   "cell_type": "code",
   "execution_count": null,
   "id": "9d0017f8-7894-49d0-a528-1b025f6c6f89",
   "metadata": {},
   "outputs": [],
   "source": [
    "#col에 추가하여 row를 적용할 수 있음  --> 즉, x를에 대한 data값을 추가로 나누어 주면서 더욱 세분화 가능\n",
    "sns.relplot(x='total_bill',y='tip',data=tips,hue='time',col='size',row='sex',palette='CMRmap_r')\n",
    "#totalbill (x) 중time별 (hue) 남성고객이 (row) 낸 tip값(y) 에서 y를 size별로 나누어 나타낸 값 분포.  역시 col_wrap으로 세분화 가능. "
   ]
  },
  {
   "cell_type": "code",
   "execution_count": null,
   "id": "1813e487-ecba-481c-93d3-3a3bdcd1af75",
   "metadata": {},
   "outputs": [],
   "source": []
  },
  {
   "cell_type": "code",
   "execution_count": null,
   "id": "8b1eb802-e32c-4230-921c-53054559b7d5",
   "metadata": {},
   "outputs": [],
   "source": [
    "# **++subplots**\n",
    "\n",
    "## plotlib x_limtit. y_limit \n",
    "## scale 조절 \n",
    "\n",
    "### fig,axes=plt.subplots(x,y)\n",
    "\n",
    "### axes[x1,y1].plot(data)"
   ]
  },
  {
   "cell_type": "code",
   "execution_count": null,
   "id": "2033dfe2-b452-485c-86a0-bff8981f1568",
   "metadata": {},
   "outputs": [],
   "source": []
  },
  {
   "cell_type": "code",
   "execution_count": null,
   "id": "8231b56d-88c3-4792-961e-a2e3cc613ada",
   "metadata": {},
   "outputs": [],
   "source": [
    "# subplots()\n",
    "# subplot보다 보다 직관적으로 해당 data들을 위치시키고 싶은 경우 \n",
    "# 먼저 프레임을 만들어 놓고 그안에 (x,y)로 지정 \n",
    "\n",
    "fig, axes = plt.subplots(2,2)\n",
    "\n",
    "axes[0,0].plot(df.groupby('지역').count())\n",
    "axes[0,1].set_xlim(0,10)\n",
    "axes[0,1].set_ylim(0,10)\n",
    "\n",
    "axes[1,1].plot(df.groupby('지역').count()) \n",
    "plt.tight_layout() # subplots의 배치를 조금더 깔끔하고 이쁘게 정리해 주는 기능.\n",
    "plt.show()"
   ]
  },
  {
   "cell_type": "code",
   "execution_count": null,
   "id": "015b94c2-c83c-4532-b97f-6417b07490fa",
   "metadata": {},
   "outputs": [],
   "source": []
  },
  {
   "cell_type": "code",
   "execution_count": null,
   "id": "d765c069-c4cb-4b5e-9aa5-a663c568ccd3",
   "metadata": {},
   "outputs": [],
   "source": [
    "# **twinx**"
   ]
  },
  {
   "cell_type": "code",
   "execution_count": null,
   "id": "be8c9e61-5815-4ca2-b894-385cb2978b2f",
   "metadata": {},
   "outputs": [],
   "source": [
    "fig, ax1 = plt.subplots()\n",
    "ax2 = ax1.twinx()\n",
    "\n",
    "ax1.plot(tips.index,tips['total_bill'] , color = 'blue' , label = 'total_bill')\n",
    "ax1.legend(loc = 'upper left')\n",
    "ax1.set_ylabel('ax1 제목', color='b',size =12,weight='bold')\n",
    "ax1.set_ylim(0,50)\n",
    " \n",
    "ax1.tick_params(axis='x', direction='in', length=3, pad=6, labelsize=20, labelcolor='blue', top=True)\n",
    "ax1.tick_params(axis='y', direction='in', length=3, pad=6, labelsize=20, labelcolor='black', top=True) \n",
    "\n",
    "ax2.plot(tips.index,tips['tip'] , color = 'red' , label = 'tip')\n",
    "ax2.legend(loc = 'upper right')\n",
    "ax2.set_ylabel('ax2 제목', color='r',size =12,weight='bold')\n",
    "ax2.set_ylim(0,100)\n",
    "ax2.tick_params(axis='y', direction='in', length=13, pad=6, labelsize=14, labelcolor='red', top=True)\n",
    "\n",
    "plt.show()\n",
    "\n",
    "# plt.tick_params(axis='x', direction='in', length=3, pad=6, labelsize=14, labelcolor='black', top=True)\n",
    "# plt.tick_params(axis='y', direction='in', length=3, pad=6, labelsize=14, labelcolor='black', top=True)"
   ]
  }
 ],
 "metadata": {
  "kernelspec": {
   "display_name": "Python 3 (ipykernel)",
   "language": "python",
   "name": "python3"
  },
  "language_info": {
   "codemirror_mode": {
    "name": "ipython",
    "version": 3
   },
   "file_extension": ".py",
   "mimetype": "text/x-python",
   "name": "python",
   "nbconvert_exporter": "python",
   "pygments_lexer": "ipython3",
   "version": "3.9.7"
  }
 },
 "nbformat": 4,
 "nbformat_minor": 5
}
