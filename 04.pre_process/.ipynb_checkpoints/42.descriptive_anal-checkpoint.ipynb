{
 "cells": [
  {
   "cell_type": "markdown",
   "id": "bca7874b-0ca4-4bb3-83f7-942c6e3a72c8",
   "metadata": {},
   "source": [
    "## Descriptive analysis _ tips "
   ]
  },
  {
   "cell_type": "markdown",
   "id": "a46873ba-984e-4f77-a077-dc3774db8aa7",
   "metadata": {},
   "source": []
  },
  {
   "cell_type": "code",
   "execution_count": 1,
   "id": "d2b856ed-c169-440b-99be-dd88253e4d68",
   "metadata": {},
   "outputs": [],
   "source": [
    "import pandas as pd \n",
    "import numpy as np "
   ]
  },
  {
   "cell_type": "markdown",
   "id": "e6a0070d-4952-4911-a172-5305eae4e562",
   "metadata": {},
   "source": [
    "#### 통계치 세분화 _ describe "
   ]
  },
  {
   "cell_type": "code",
   "execution_count": null,
   "id": "fa1c0534-8a88-4c96-a88d-9bfc2977e74a",
   "metadata": {},
   "outputs": [],
   "source": [
    "target_data['cycle[min]'].describe(percentiles= [0.05,0.1,0.2,0.3,0.4,0.5,0.6,0.7,0.8,0.9])\n",
    "cycle_org[cycle_org['gas_consum']>0]['gas_consum'].describe(percentiles= [0.05,0.1,0.2,0.3,0.4,0.5,0.6,0.7,0.8,0.9])"
   ]
  },
  {
   "cell_type": "markdown",
   "id": "d732f1b5-ecd4-4d9a-9058-ffe1819e3f17",
   "metadata": {},
   "source": []
  },
  {
   "cell_type": "markdown",
   "id": "a8c9477d-3b06-44bb-ba5e-396e9259637a",
   "metadata": {
    "tags": []
   },
   "source": [
    "#### quantile --> 분위수 찾기 "
   ]
  },
  {
   "cell_type": "code",
   "execution_count": null,
   "id": "671312aa-cc09-4908-8ee8-7a5123b8d2f5",
   "metadata": {},
   "outputs": [],
   "source": [
    "batch_skim_time4.groupby(['year','month','day','WIDTH'])['skim_time'].quantile(0.9).plot(figsize=(20,5), ylim=(120,400))"
   ]
  },
  {
   "cell_type": "markdown",
   "id": "e95c5b54-3415-4b4e-9dec-4ea7cf0cb47f",
   "metadata": {},
   "source": []
  },
  {
   "cell_type": "markdown",
   "id": "5240f58d-3f02-43f3-a6c9-2ec18147d783",
   "metadata": {},
   "source": [
    "#### 누적합 구하기 "
   ]
  },
  {
   "cell_type": "code",
   "execution_count": null,
   "id": "f07401e3-aff3-4251-8e34-61646b77cb01",
   "metadata": {},
   "outputs": [],
   "source": [
    "sample['b'] = sample['a'].cumsum()\n",
    "sample"
   ]
  },
  {
   "cell_type": "markdown",
   "id": "801cf2f8-8f54-49b7-965f-2bb7b8744935",
   "metadata": {},
   "source": []
  },
  {
   "cell_type": "markdown",
   "id": "9d95dcdf-c528-413b-bc3d-1e803dc33528",
   "metadata": {},
   "source": [
    "####  groupby _ agg 펑션"
   ]
  },
  {
   "cell_type": "code",
   "execution_count": null,
   "id": "3df8b44c-244b-4210-879f-906aa8852b97",
   "metadata": {},
   "outputs": [],
   "source": [
    "data_rv2.groupby(['regen','group1']).agg({'group1':'count', 'skimm':'sum'})"
   ]
  },
  {
   "cell_type": "markdown",
   "id": "c52b0935-4414-4959-86d5-f5dfe60bf3d6",
   "metadata": {},
   "source": []
  },
  {
   "cell_type": "markdown",
   "id": "06eb983f-ed79-4da1-844b-8ca0c10a152f",
   "metadata": {},
   "source": [
    "#### shift 함수  --> 해당 컬럼 몇번째 "
   ]
  },
  {
   "cell_type": "code",
   "execution_count": null,
   "id": "af89d82a-9657-4304-b392-22c91dfd1524",
   "metadata": {},
   "outputs": [],
   "source": [
    "sample['a'].shift(-2)\n",
    "sample['shift'] = sample['a'].shift(-2)\n",
    "sample"
   ]
  },
  {
   "cell_type": "markdown",
   "id": "4cd8384e-06b4-4daf-b3b1-e33834d479ab",
   "metadata": {},
   "source": []
  },
  {
   "cell_type": "markdown",
   "id": "be6fc450-4faf-47fd-9b43-a01d006f7731",
   "metadata": {},
   "source": [
    "#### group by후 몇번째 nth "
   ]
  },
  {
   "cell_type": "code",
   "execution_count": null,
   "id": "ab5a444f-d54a-49ca-8fa0-63606aea444a",
   "metadata": {},
   "outputs": [],
   "source": [
    "raise_temp_l=data_rv2[(data_rv2['group1']!=0) & (data['Actual TPH']_rv2['skimm']==0)].groupby(['regen','group1'])[['date','rf1_air_temp','rf1_gas_flow_pv','gas_cumsum']].nth(5)"
   ]
  },
  {
   "cell_type": "markdown",
   "id": "609e038d-a337-40be-9f07-5f49f3fa7268",
   "metadata": {},
   "source": []
  },
  {
   "cell_type": "markdown",
   "id": "e69254b5-4c78-43ff-8831-42d6125fccef",
   "metadata": {},
   "source": [
    "#### q cut 범위별 range 자르기 "
   ]
  },
  {
   "cell_type": "code",
   "execution_count": null,
   "id": "b0c74e90-d651-4915-bc60-d591724ec50b",
   "metadata": {},
   "outputs": [],
   "source": [
    "# q cut 범위별 range 자르기 \n",
    "ball_vari['rank'] = pd.qcut(ball_vari['vari'], q = 5 )  --> [1.*** ~ 3.****] 지저분하게 나옴.  \n",
    "\n",
    "# 소수점 없애기 precision \n",
    "corr_data1['temp_mean_section'] = pd.qcut(corr_data1['inner_temp_pv/mean'],q=4,precision=0)\n",
    "\n",
    "# range를 범주화 시키기 \n",
    "target_comp_gss_20['rank2'] = pd.qcut(target_comp_gss_20['target_func'], q=5,labels=range(5))\n",
    "\n",
    "# duplicates drop 추가 \n",
    "gss_raw['raw_rank2'] = pd.qcut(gss_raw['RAS'],q=4,duplicates='drop')"
   ]
  },
  {
   "cell_type": "markdown",
   "id": "d9575f15-93c9-4938-9964-659d2753c02b",
   "metadata": {},
   "source": []
  }
 ],
 "metadata": {
  "kernelspec": {
   "display_name": "Python 3 (ipykernel)",
   "language": "python",
   "name": "python3"
  },
  "language_info": {
   "codemirror_mode": {
    "name": "ipython",
    "version": 3
   },
   "file_extension": ".py",
   "mimetype": "text/x-python",
   "name": "python",
   "nbconvert_exporter": "python",
   "pygments_lexer": "ipython3",
   "version": "3.9.7"
  }
 },
 "nbformat": 4,
 "nbformat_minor": 5
}
