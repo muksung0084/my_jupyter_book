{
 "cells": [
  {
   "cell_type": "markdown",
   "id": "ce3d255d-f5d4-4772-98a9-2d6eef659a84",
   "metadata": {},
   "source": [
    "# Intro"
   ]
  },
  {
   "cell_type": "markdown",
   "id": "696e99c8-50b2-4a98-8057-b395f5ef7481",
   "metadata": {},
   "source": [
    "<span style=\"color:blue\"> <font size=\"5\">Pre_Processing</span> </font>"
   ]
  },
  {
   "cell_type": "markdown",
   "id": "aa981b29-53f3-415f-8ef1-6da4176dbb2f",
   "metadata": {},
   "source": [
    "\" Garbage in Garbage out  \"\\\n",
    "적절히 정제되지 못한 데이터들은 잘못된 결과값을 만들고, 이는 전혀 쓸모없는 insight가 됩니다.\\\n",
    "따라서 데이터분석에서 전처리는 매우 중요한데요, 전처리과정에서 유용한 코드와 tip을 정리해 보았습니다."
   ]
  },
  {
   "cell_type": "markdown",
   "id": "e718cc7a-377d-42e4-9ff4-72650ec33ba1",
   "metadata": {},
   "source": []
  }
 ],
 "metadata": {
  "kernelspec": {
   "display_name": "Python 3 (ipykernel)",
   "language": "python",
   "name": "python3"
  },
  "language_info": {
   "codemirror_mode": {
    "name": "ipython",
    "version": 3
   },
   "file_extension": ".py",
   "mimetype": "text/x-python",
   "name": "python",
   "nbconvert_exporter": "python",
   "pygments_lexer": "ipython3",
   "version": "3.9.7"
  }
 },
 "nbformat": 4,
 "nbformat_minor": 5
}
