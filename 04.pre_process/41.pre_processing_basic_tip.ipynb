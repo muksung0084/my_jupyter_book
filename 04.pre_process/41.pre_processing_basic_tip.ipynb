{
 "cells": [
  {
   "cell_type": "markdown",
   "id": "42622e46-0684-4c9a-b80b-8dc6f6e46f4d",
   "metadata": {},
   "source": [
    "## Data Pre-processing _ tips"
   ]
  },
  {
   "cell_type": "markdown",
   "id": "cfd32e7b-1efe-425d-9b60-f429f9304277",
   "metadata": {},
   "source": []
  },
  {
   "cell_type": "code",
   "execution_count": 3,
   "id": "045eca4a-2dff-40a6-97e6-5a2fb20139d7",
   "metadata": {},
   "outputs": [],
   "source": [
    "import pandas as pd \n",
    "import numpy as np"
   ]
  },
  {
   "cell_type": "markdown",
   "id": "f95b9ffc-4164-49eb-9be0-bbddeeb227b7",
   "metadata": {},
   "source": [
    "#### null 값 check "
   ]
  },
  {
   "cell_type": "code",
   "execution_count": null,
   "id": "f2ef061b-b07d-4bb2-a8a9-087ebcb8d3b6",
   "metadata": {},
   "outputs": [],
   "source": [
    "for i in temp_anal.columns : \n",
    "    print(i+\" _null : \")\n",
    "    print(temp_anal[i].isnull().sum())\n",
    "    print(temp_anal[i].notnull().sum())"
   ]
  },
  {
   "cell_type": "code",
   "execution_count": null,
   "id": "15cd6a09-3782-4ac4-a1fe-b85dbd4c83eb",
   "metadata": {},
   "outputs": [],
   "source": [
    "temp_anal.isnull().sum(1) # row 마다 결측값 개수 \n",
    "temp_anal.isnull().sum()  # column마다 결측값 개수 "
   ]
  },
  {
   "cell_type": "markdown",
   "id": "d17403cc-448a-4487-831b-453a9e9a8ab4",
   "metadata": {},
   "source": []
  },
  {
   "cell_type": "markdown",
   "id": "664d2ed6-0044-40df-a793-2a9e49384ffb",
   "metadata": {},
   "source": [
    "#### null값 처리 "
   ]
  },
  {
   "cell_type": "code",
   "execution_count": null,
   "id": "d311b8cf-e3e1-49b0-ad7e-534e7625f434",
   "metadata": {},
   "outputs": [],
   "source": [
    "# 어느 칼럼에 하나라도 nan값이 박혀있다면 그 행을 모두 지울것이다.  => 열, 즉 칼럼을 지우고 싶으면 axis=1 \n",
    "df_=df.copy()\n",
    "df_=df_.dropna(axis=0,how='any')\n",
    "df_\n",
    "\n",
    "# 아니다 해당 행이 모든 칼럼값에 다 nan값이 박혀있다면 그때, 그 행을 모두 지울것이다.\n",
    "df_.dropna(axis=0,how='all')"
   ]
  },
  {
   "cell_type": "code",
   "execution_count": null,
   "id": "158c1494-66ca-4945-be80-878a2b67b767",
   "metadata": {},
   "outputs": [],
   "source": [
    "# 결측치 무시하고 숫자 DATA로 바꾸기 \n",
    "data_1['RF1_GAS_DAY_TOTAL'] = pd.to_numeric(data_1['RF1_GAS_DAY_TOTAL'], errors='coerce')\n",
    "\n",
    "# 이후 결측치 파악 \n",
    "print(data_1['RF1_GAS_DAY_TOTAL'].isnull().sum())\n",
    "\n",
    "# 해당 결측치 DATA DROP \n",
    "data_1 = data_1.dropna(subset = ['RF1_GAS_DAY_TOTAL'])"
   ]
  },
  {
   "cell_type": "markdown",
   "id": "d807bc6f-9c56-4cc1-b781-b1ed0192ea0f",
   "metadata": {},
   "source": []
  },
  {
   "cell_type": "markdown",
   "id": "35ea8fd9-2811-4adc-a74e-d02a94ad4f23",
   "metadata": {},
   "source": [
    "#### 중복값 처리"
   ]
  },
  {
   "cell_type": "code",
   "execution_count": null,
   "id": "8daa8dd2-fd18-443d-9ebd-5e84bb6bba12",
   "metadata": {},
   "outputs": [],
   "source": [
    "# 중복값 제거 \n",
    "df_['키']=df_['키'].drop_duplicates(keep='first')\n",
    "\n",
    "# 컬럼이 두개 이상일 경우 --> 두개의 컬럼 조건이 모두 같아야 삭제된다. \n",
    "df_.drop_duplicates(['키','그룹'],keep='first')"
   ]
  },
  {
   "cell_type": "markdown",
   "id": "a05533f2-3b47-47c5-9df2-5f43dc512bb3",
   "metadata": {},
   "source": []
  },
  {
   "cell_type": "markdown",
   "id": "b4bfa888-5eb1-4a20-8a4c-a89c78cb87c8",
   "metadata": {},
   "source": [
    "### 원하는 조건부 drop _ (feat. loc,iloc)"
   ]
  },
  {
   "cell_type": "code",
   "execution_count": null,
   "id": "8790ea1e-250c-45c8-8bd8-f9fcc43da2eb",
   "metadata": {},
   "outputs": [],
   "source": [
    "# 해당 index drop하기\n",
    "print(sample.drop(sample.iloc[1:4]).shape)"
   ]
  },
  {
   "cell_type": "markdown",
   "id": "57f90c2d-0644-4574-a58d-e314ab011d46",
   "metadata": {},
   "source": [
    "#### - loc , iloc 활용 "
   ]
  },
  {
   "cell_type": "code",
   "execution_count": null,
   "id": "c3580379-7104-4fc2-8da2-325b3ec46125",
   "metadata": {},
   "outputs": [],
   "source": [
    ".loc[indexing, colums선택(컬럼명) ] \n",
    "\n",
    ".iloc[indexing, colums선택 (숫자로 몇번째)] \n",
    "\n",
    "### > 해당 색인 추출에서 중요한것은 []안에 ,기준 첫번째는 행에대한 조건을 기입 - 두번째는 열에대한 조건을 기입하는 것이다."
   ]
  },
  {
   "cell_type": "code",
   "execution_count": 5,
   "id": "2c8d38e2-0f4a-46dd-89f2-46db823f4e17",
   "metadata": {},
   "outputs": [],
   "source": [
    "data1 = ['a','b','c','d','e','f','g','h','i','j']\n",
    "data2 = [10,20,30,40,50,60,70,80,90,100]\n",
    "index = [1,2,3,4,5,6,7,8,9,10] \n",
    "index_sample = pd.DataFrame( { 'alpha' : data1,\n",
    "                              'num' : data2 }, index = index) "
   ]
  },
  {
   "cell_type": "code",
   "execution_count": null,
   "id": "c6fa766d-2ef8-40f1-95e1-0fc0d28aa39d",
   "metadata": {},
   "outputs": [],
   "source": [
    "# index 정보로 선택적으로 data 컬럼별 정보 보기 \n",
    "display(index_sample.loc[[3,4,6],])\n",
    "display(pd.DataFrame(index_sample.loc[[3,4,6],'alpha']))\n",
    "display(pd.DataFrame(index_sample.loc[[3,4,6],'num']))\n",
    "display(index_sample.loc[:,'alpha'][:5])"
   ]
  },
  {
   "cell_type": "code",
   "execution_count": null,
   "id": "6e0a9ac2-32d3-44bb-9533-4c2bc1686ca1",
   "metadata": {},
   "outputs": [],
   "source": [
    "display(pd.DataFrame(index_sample.iloc[[3,4,6],0]))\n",
    "display(pd.DataFrame(index_sample.iloc[[3,4,6],[0,1]]))\n",
    "display(index_sample.iloc[:,0][:5])"
   ]
  },
  {
   "cell_type": "markdown",
   "id": "34e0f88a-80e9-444b-9690-6641890858a8",
   "metadata": {},
   "source": []
  },
  {
   "cell_type": "markdown",
   "id": "8973bed3-1f80-4f05-b908-342f3fc99354",
   "metadata": {},
   "source": [
    "### 컬럼명 바꾸기"
   ]
  },
  {
   "cell_type": "code",
   "execution_count": null,
   "id": "09219e12-8477-4792-b9c0-2281606d921f",
   "metadata": {},
   "outputs": [],
   "source": [
    "data.rename(columns = {'RF1_N2_BNR_OFF_TIME' : 'regen_2_off_time','RF1_FIC01_SP': 'rf1_gas_flow_sp'},inplace=True)"
   ]
  },
  {
   "cell_type": "markdown",
   "id": "5ae83fd2-03d0-4234-9618-be1705206895",
   "metadata": {},
   "source": []
  }
 ],
 "metadata": {
  "kernelspec": {
   "display_name": "Python 3 (ipykernel)",
   "language": "python",
   "name": "python3"
  },
  "language_info": {
   "codemirror_mode": {
    "name": "ipython",
    "version": 3
   },
   "file_extension": ".py",
   "mimetype": "text/x-python",
   "name": "python",
   "nbconvert_exporter": "python",
   "pygments_lexer": "ipython3",
   "version": "3.9.7"
  }
 },
 "nbformat": 4,
 "nbformat_minor": 5
}
