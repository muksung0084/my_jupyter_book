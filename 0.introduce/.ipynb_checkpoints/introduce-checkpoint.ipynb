{
 "cells": [
  {
   "cell_type": "markdown",
   "id": "e4d3c2bd-0c01-4af7-a294-6ff48fecf4ba",
   "metadata": {},
   "source": [
    "# Introduce"
   ]
  },
  {
   "cell_type": "raw",
   "id": "15b5551f-e1df-4d3e-8229-64bd17e11a72",
   "metadata": {},
   "source": []
  },
  {
   "cell_type": "markdown",
   "id": "d78d7833-7d23-4e15-bc20-d07410991553",
   "metadata": {},
   "source": [
    "본 jupyter-book은 다음과 같은 목적으로 만들어 졌습니다. \n",
    "\n",
    "> 데이터 분석에 필요한 기본적인 개념정리 \n",
    "\n",
    "> 실무데이터 기반의 데이터 분석에서 자주 사용되는 library, module, method등에 관련된 코드와 사용법 정리\n",
    "\n",
    "> 프로젝트 관련 portfolio 저장 \n"
   ]
  },
  {
   "cell_type": "raw",
   "id": "1a021aee-746d-4432-ba8e-9e56f749f7a9",
   "metadata": {},
   "source": []
  }
 ],
 "metadata": {
  "kernelspec": {
   "display_name": "Python 3 (ipykernel)",
   "language": "python",
   "name": "python3"
  },
  "language_info": {
   "codemirror_mode": {
    "name": "ipython",
    "version": 3
   },
   "file_extension": ".py",
   "mimetype": "text/x-python",
   "name": "python",
   "nbconvert_exporter": "python",
   "pygments_lexer": "ipython3",
   "version": "3.9.7"
  }
 },
 "nbformat": 4,
 "nbformat_minor": 5
}
